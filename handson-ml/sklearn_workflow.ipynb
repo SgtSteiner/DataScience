{
 "cells": [
  {
   "cell_type": "code",
   "execution_count": 1,
   "metadata": {},
   "outputs": [],
   "source": [
    "import numpy as np\n",
    "import pandas as pd\n",
    "import matplotlib.pyplot as plt\n",
    "%matplotlib inline"
   ]
  },
  {
   "cell_type": "code",
   "execution_count": 2,
   "metadata": {},
   "outputs": [],
   "source": [
    "df = pd.read_csv(\"winequality-white.csv\", sep=\";\")"
   ]
  },
  {
   "cell_type": "code",
   "execution_count": 3,
   "metadata": {},
   "outputs": [
    {
     "output_type": "execute_result",
     "data": {
      "text/plain": "   fixed acidity  volatile acidity  citric acid  residual sugar  chlorides  \\\n0            7.0              0.27         0.36            20.7      0.045   \n1            6.3              0.30         0.34             1.6      0.049   \n2            8.1              0.28         0.40             6.9      0.050   \n3            7.2              0.23         0.32             8.5      0.058   \n4            7.2              0.23         0.32             8.5      0.058   \n\n   free sulfur dioxide  total sulfur dioxide  density    pH  sulphates  \\\n0                 45.0                 170.0   1.0010  3.00       0.45   \n1                 14.0                 132.0   0.9940  3.30       0.49   \n2                 30.0                  97.0   0.9951  3.26       0.44   \n3                 47.0                 186.0   0.9956  3.19       0.40   \n4                 47.0                 186.0   0.9956  3.19       0.40   \n\n   alcohol  quality  \n0      8.8        6  \n1      9.5        6  \n2     10.1        6  \n3      9.9        6  \n4      9.9        6  ",
      "text/html": "<div>\n<style scoped>\n    .dataframe tbody tr th:only-of-type {\n        vertical-align: middle;\n    }\n\n    .dataframe tbody tr th {\n        vertical-align: top;\n    }\n\n    .dataframe thead th {\n        text-align: right;\n    }\n</style>\n<table border=\"1\" class=\"dataframe\">\n  <thead>\n    <tr style=\"text-align: right;\">\n      <th></th>\n      <th>fixed acidity</th>\n      <th>volatile acidity</th>\n      <th>citric acid</th>\n      <th>residual sugar</th>\n      <th>chlorides</th>\n      <th>free sulfur dioxide</th>\n      <th>total sulfur dioxide</th>\n      <th>density</th>\n      <th>pH</th>\n      <th>sulphates</th>\n      <th>alcohol</th>\n      <th>quality</th>\n    </tr>\n  </thead>\n  <tbody>\n    <tr>\n      <th>0</th>\n      <td>7.0</td>\n      <td>0.27</td>\n      <td>0.36</td>\n      <td>20.7</td>\n      <td>0.045</td>\n      <td>45.0</td>\n      <td>170.0</td>\n      <td>1.0010</td>\n      <td>3.00</td>\n      <td>0.45</td>\n      <td>8.8</td>\n      <td>6</td>\n    </tr>\n    <tr>\n      <th>1</th>\n      <td>6.3</td>\n      <td>0.30</td>\n      <td>0.34</td>\n      <td>1.6</td>\n      <td>0.049</td>\n      <td>14.0</td>\n      <td>132.0</td>\n      <td>0.9940</td>\n      <td>3.30</td>\n      <td>0.49</td>\n      <td>9.5</td>\n      <td>6</td>\n    </tr>\n    <tr>\n      <th>2</th>\n      <td>8.1</td>\n      <td>0.28</td>\n      <td>0.40</td>\n      <td>6.9</td>\n      <td>0.050</td>\n      <td>30.0</td>\n      <td>97.0</td>\n      <td>0.9951</td>\n      <td>3.26</td>\n      <td>0.44</td>\n      <td>10.1</td>\n      <td>6</td>\n    </tr>\n    <tr>\n      <th>3</th>\n      <td>7.2</td>\n      <td>0.23</td>\n      <td>0.32</td>\n      <td>8.5</td>\n      <td>0.058</td>\n      <td>47.0</td>\n      <td>186.0</td>\n      <td>0.9956</td>\n      <td>3.19</td>\n      <td>0.40</td>\n      <td>9.9</td>\n      <td>6</td>\n    </tr>\n    <tr>\n      <th>4</th>\n      <td>7.2</td>\n      <td>0.23</td>\n      <td>0.32</td>\n      <td>8.5</td>\n      <td>0.058</td>\n      <td>47.0</td>\n      <td>186.0</td>\n      <td>0.9956</td>\n      <td>3.19</td>\n      <td>0.40</td>\n      <td>9.9</td>\n      <td>6</td>\n    </tr>\n  </tbody>\n</table>\n</div>"
     },
     "metadata": {},
     "execution_count": 3
    }
   ],
   "source": [
    "df.head()"
   ]
  },
  {
   "cell_type": "code",
   "execution_count": 4,
   "metadata": {},
   "outputs": [
    {
     "output_type": "stream",
     "name": "stdout",
     "text": "<class 'pandas.core.frame.DataFrame'>\nRangeIndex: 4898 entries, 0 to 4897\nData columns (total 12 columns):\n #   Column                Non-Null Count  Dtype  \n---  ------                --------------  -----  \n 0   fixed acidity         4898 non-null   float64\n 1   volatile acidity      4898 non-null   float64\n 2   citric acid           4898 non-null   float64\n 3   residual sugar        4898 non-null   float64\n 4   chlorides             4898 non-null   float64\n 5   free sulfur dioxide   4898 non-null   float64\n 6   total sulfur dioxide  4898 non-null   float64\n 7   density               4898 non-null   float64\n 8   pH                    4898 non-null   float64\n 9   sulphates             4898 non-null   float64\n 10  alcohol               4898 non-null   float64\n 11  quality               4898 non-null   int64  \ndtypes: float64(11), int64(1)\nmemory usage: 459.3 KB\n"
    }
   ],
   "source": [
    "df.info()"
   ]
  },
  {
   "cell_type": "code",
   "execution_count": 5,
   "metadata": {},
   "outputs": [],
   "source": [
    "# Creamos la matriz de características (X)\n",
    "X = df.drop(\"quality\", axis=1)\n",
    "\n",
    "# Creamos la matriz de etiquetas (y)\n",
    "y = df[\"quality\"]"
   ]
  },
  {
   "cell_type": "code",
   "execution_count": 6,
   "metadata": {},
   "outputs": [
    {
     "output_type": "execute_result",
     "data": {
      "text/plain": "   fixed acidity  volatile acidity  citric acid  residual sugar  chlorides  \\\n0            7.0              0.27         0.36            20.7      0.045   \n1            6.3              0.30         0.34             1.6      0.049   \n2            8.1              0.28         0.40             6.9      0.050   \n3            7.2              0.23         0.32             8.5      0.058   \n4            7.2              0.23         0.32             8.5      0.058   \n\n   free sulfur dioxide  total sulfur dioxide  density    pH  sulphates  \\\n0                 45.0                 170.0   1.0010  3.00       0.45   \n1                 14.0                 132.0   0.9940  3.30       0.49   \n2                 30.0                  97.0   0.9951  3.26       0.44   \n3                 47.0                 186.0   0.9956  3.19       0.40   \n4                 47.0                 186.0   0.9956  3.19       0.40   \n\n   alcohol  \n0      8.8  \n1      9.5  \n2     10.1  \n3      9.9  \n4      9.9  ",
      "text/html": "<div>\n<style scoped>\n    .dataframe tbody tr th:only-of-type {\n        vertical-align: middle;\n    }\n\n    .dataframe tbody tr th {\n        vertical-align: top;\n    }\n\n    .dataframe thead th {\n        text-align: right;\n    }\n</style>\n<table border=\"1\" class=\"dataframe\">\n  <thead>\n    <tr style=\"text-align: right;\">\n      <th></th>\n      <th>fixed acidity</th>\n      <th>volatile acidity</th>\n      <th>citric acid</th>\n      <th>residual sugar</th>\n      <th>chlorides</th>\n      <th>free sulfur dioxide</th>\n      <th>total sulfur dioxide</th>\n      <th>density</th>\n      <th>pH</th>\n      <th>sulphates</th>\n      <th>alcohol</th>\n    </tr>\n  </thead>\n  <tbody>\n    <tr>\n      <th>0</th>\n      <td>7.0</td>\n      <td>0.27</td>\n      <td>0.36</td>\n      <td>20.7</td>\n      <td>0.045</td>\n      <td>45.0</td>\n      <td>170.0</td>\n      <td>1.0010</td>\n      <td>3.00</td>\n      <td>0.45</td>\n      <td>8.8</td>\n    </tr>\n    <tr>\n      <th>1</th>\n      <td>6.3</td>\n      <td>0.30</td>\n      <td>0.34</td>\n      <td>1.6</td>\n      <td>0.049</td>\n      <td>14.0</td>\n      <td>132.0</td>\n      <td>0.9940</td>\n      <td>3.30</td>\n      <td>0.49</td>\n      <td>9.5</td>\n    </tr>\n    <tr>\n      <th>2</th>\n      <td>8.1</td>\n      <td>0.28</td>\n      <td>0.40</td>\n      <td>6.9</td>\n      <td>0.050</td>\n      <td>30.0</td>\n      <td>97.0</td>\n      <td>0.9951</td>\n      <td>3.26</td>\n      <td>0.44</td>\n      <td>10.1</td>\n    </tr>\n    <tr>\n      <th>3</th>\n      <td>7.2</td>\n      <td>0.23</td>\n      <td>0.32</td>\n      <td>8.5</td>\n      <td>0.058</td>\n      <td>47.0</td>\n      <td>186.0</td>\n      <td>0.9956</td>\n      <td>3.19</td>\n      <td>0.40</td>\n      <td>9.9</td>\n    </tr>\n    <tr>\n      <th>4</th>\n      <td>7.2</td>\n      <td>0.23</td>\n      <td>0.32</td>\n      <td>8.5</td>\n      <td>0.058</td>\n      <td>47.0</td>\n      <td>186.0</td>\n      <td>0.9956</td>\n      <td>3.19</td>\n      <td>0.40</td>\n      <td>9.9</td>\n    </tr>\n  </tbody>\n</table>\n</div>"
     },
     "metadata": {},
     "execution_count": 6
    }
   ],
   "source": [
    "X.head()"
   ]
  },
  {
   "cell_type": "code",
   "execution_count": 7,
   "metadata": {},
   "outputs": [
    {
     "output_type": "execute_result",
     "data": {
      "text/plain": "0    6\n1    6\n2    6\n3    6\n4    6\nName: quality, dtype: int64"
     },
     "metadata": {},
     "execution_count": 7
    }
   ],
   "source": [
    "y.head()"
   ]
  },
  {
   "cell_type": "code",
   "execution_count": 8,
   "metadata": {},
   "outputs": [],
   "source": [
    " # Elegimos el modelo correcto y los hiperparámetros\n",
    " from sklearn.ensemble import RandomForestClassifier\n",
    "\n",
    " clf_rf = RandomForestClassifier()"
   ]
  },
  {
   "cell_type": "code",
   "execution_count": 9,
   "metadata": {},
   "outputs": [
    {
     "output_type": "execute_result",
     "data": {
      "text/plain": "{'bootstrap': True,\n 'ccp_alpha': 0.0,\n 'class_weight': None,\n 'criterion': 'gini',\n 'max_depth': None,\n 'max_features': 'auto',\n 'max_leaf_nodes': None,\n 'max_samples': None,\n 'min_impurity_decrease': 0.0,\n 'min_impurity_split': None,\n 'min_samples_leaf': 1,\n 'min_samples_split': 2,\n 'min_weight_fraction_leaf': 0.0,\n 'n_estimators': 100,\n 'n_jobs': None,\n 'oob_score': False,\n 'random_state': None,\n 'verbose': 0,\n 'warm_start': False}"
     },
     "metadata": {},
     "execution_count": 9
    }
   ],
   "source": [
    "# Mostramos los parámetros por defecto del clasificador\n",
    "clf_rf.get_params()"
   ]
  },
  {
   "cell_type": "code",
   "execution_count": 10,
   "metadata": {},
   "outputs": [],
   "source": [
    "# Entrenamos el modelo con los datos de entrenamiento\n",
    "from sklearn.model_selection import train_test_split\n",
    "\n",
    "X_train, X_test, y_train, y_test = train_test_split(X, y, test_size=0.2)"
   ]
  },
  {
   "cell_type": "code",
   "execution_count": 11,
   "metadata": {},
   "outputs": [
    {
     "output_type": "execute_result",
     "data": {
      "text/plain": "RandomForestClassifier(bootstrap=True, ccp_alpha=0.0, class_weight=None,\n                       criterion='gini', max_depth=None, max_features='auto',\n                       max_leaf_nodes=None, max_samples=None,\n                       min_impurity_decrease=0.0, min_impurity_split=None,\n                       min_samples_leaf=1, min_samples_split=2,\n                       min_weight_fraction_leaf=0.0, n_estimators=100,\n                       n_jobs=None, oob_score=False, random_state=None,\n                       verbose=0, warm_start=False)"
     },
     "metadata": {},
     "execution_count": 11
    }
   ],
   "source": [
    "clf_rf.fit(X_train, y_train)"
   ]
  },
  {
   "cell_type": "code",
   "execution_count": 12,
   "metadata": {},
   "outputs": [
    {
     "output_type": "execute_result",
     "data": {
      "text/plain": "array([6, 5, 6, 7, 7, 5, 7, 6, 6, 6, 6, 6, 6, 6, 6, 6, 5, 5, 6, 8, 7, 5,\n       6, 6, 5, 5, 6, 5, 6, 6, 5, 6, 4, 5, 5, 7, 5, 6, 6, 7, 6, 7, 6, 5,\n       5, 7, 6, 7, 6, 6, 5, 5, 6, 7, 7, 6, 6, 7, 7, 7, 5, 8, 7, 6, 7, 4,\n       6, 6, 7, 6, 6, 6, 5, 6, 6, 7, 6, 5, 6, 7, 5, 7, 6, 6, 6, 6, 6, 7,\n       7, 6, 5, 7, 5, 5, 6, 6, 6, 6, 6, 7, 5, 5, 5, 5, 7, 6, 5, 5, 6, 5,\n       7, 6, 6, 6, 5, 5, 7, 7, 6, 6, 6, 6, 6, 7, 6, 6, 6, 6, 6, 6, 5, 6,\n       6, 6, 7, 5, 8, 5, 6, 6, 5, 7, 5, 6, 6, 5, 5, 6, 6, 7, 5, 5, 5, 6,\n       6, 5, 7, 6, 6, 6, 6, 5, 6, 6, 5, 6, 6, 6, 7, 7, 6, 6, 6, 6, 6, 5,\n       6, 7, 5, 5, 6, 6, 6, 6, 6, 5, 6, 6, 6, 6, 5, 5, 5, 6, 6, 5, 7, 6,\n       5, 6, 6, 8, 6, 6, 6, 6, 6, 6, 6, 7, 5, 6, 6, 5, 6, 6, 6, 5, 5, 7,\n       7, 6, 7, 6, 6, 6, 6, 7, 6, 7, 6, 6, 6, 5, 5, 5, 5, 5, 6, 5, 6, 7,\n       5, 6, 7, 6, 5, 6, 6, 7, 5, 6, 6, 7, 6, 6, 5, 6, 6, 6, 5, 5, 6, 6,\n       6, 5, 6, 5, 5, 5, 6, 7, 6, 6, 6, 6, 5, 6, 5, 6, 6, 6, 6, 6, 5, 6,\n       8, 5, 7, 5, 6, 5, 5, 6, 6, 6, 6, 5, 6, 7, 6, 6, 5, 5, 7, 6, 6, 6,\n       6, 6, 6, 5, 7, 6, 6, 6, 7, 6, 6, 7, 6, 6, 5, 7, 7, 7, 6, 6, 5, 5,\n       7, 6, 5, 6, 7, 6, 7, 5, 6, 6, 6, 7, 7, 5, 6, 6, 5, 5, 6, 6, 6, 6,\n       6, 6, 6, 5, 5, 6, 5, 7, 6, 7, 5, 5, 7, 5, 5, 5, 7, 6, 6, 6, 5, 6,\n       7, 7, 7, 6, 7, 6, 6, 6, 5, 7, 7, 5, 8, 5, 5, 6, 6, 5, 6, 6, 7, 7,\n       7, 5, 6, 7, 5, 6, 6, 6, 6, 7, 5, 6, 6, 5, 7, 6, 6, 5, 5, 5, 6, 5,\n       6, 7, 5, 6, 5, 6, 7, 6, 7, 6, 7, 6, 6, 5, 6, 5, 7, 5, 6, 5, 6, 5,\n       6, 6, 6, 5, 6, 5, 6, 5, 8, 5, 6, 6, 6, 7, 7, 8, 6, 7, 7, 5, 6, 5,\n       7, 8, 6, 5, 6, 6, 6, 5, 6, 6, 5, 5, 5, 6, 6, 6, 6, 6, 6, 5, 6, 7,\n       6, 6, 6, 6, 7, 5, 6, 7, 5, 6, 6, 6, 6, 6, 6, 6, 6, 7, 6, 5, 7, 6,\n       5, 7, 5, 6, 6, 5, 5, 5, 5, 7, 5, 5, 5, 6, 6, 7, 5, 4, 6, 7, 5, 6,\n       6, 6, 6, 6, 6, 6, 6, 6, 7, 6, 6, 6, 5, 7, 6, 6, 7, 7, 6, 6, 6, 8,\n       5, 7, 6, 5, 5, 5, 6, 5, 5, 6, 7, 5, 5, 5, 5, 6, 6, 7, 5, 5, 6, 5,\n       6, 7, 7, 6, 5, 6, 6, 6, 6, 6, 6, 6, 6, 6, 6, 7, 7, 7, 6, 5, 7, 5,\n       5, 5, 6, 6, 5, 6, 6, 6, 5, 6, 6, 6, 6, 6, 6, 5, 6, 5, 6, 6, 6, 5,\n       7, 6, 5, 5, 5, 5, 5, 7, 7, 6, 6, 6, 6, 6, 6, 6, 5, 6, 6, 7, 5, 5,\n       6, 6, 6, 5, 6, 6, 6, 6, 5, 6, 5, 5, 6, 5, 6, 5, 5, 7, 6, 5, 6, 6,\n       6, 5, 7, 5, 6, 6, 7, 6, 5, 6, 6, 6, 6, 5, 6, 5, 6, 6, 5, 5, 6, 8,\n       6, 6, 5, 5, 6, 6, 7, 6, 5, 6, 6, 5, 7, 5, 7, 6, 7, 6, 6, 6, 6, 5,\n       5, 6, 6, 5, 6, 5, 6, 5, 6, 6, 6, 6, 6, 6, 5, 5, 8, 5, 5, 5, 5, 7,\n       5, 7, 5, 6, 6, 6, 5, 6, 6, 5, 6, 6, 6, 7, 5, 6, 5, 8, 6, 5, 6, 8,\n       6, 7, 6, 5, 7, 5, 6, 5, 5, 6, 5, 7, 6, 6, 7, 6, 6, 6, 5, 6, 6, 6,\n       6, 5, 6, 5, 6, 5, 6, 6, 5, 6, 6, 6, 6, 5, 6, 7, 7, 7, 5, 6, 6, 6,\n       5, 6, 6, 7, 6, 5, 5, 6, 5, 6, 6, 6, 5, 5, 6, 6, 6, 6, 6, 7, 8, 6,\n       6, 6, 6, 5, 6, 8, 6, 6, 6, 6, 5, 6, 7, 6, 6, 5, 5, 6, 5, 6, 6, 6,\n       5, 7, 5, 6, 6, 6, 5, 6, 5, 5, 6, 5, 6, 6, 5, 6, 7, 6, 5, 6, 6, 6,\n       6, 7, 6, 5, 5, 4, 6, 5, 6, 6, 6, 6, 6, 7, 6, 6, 6, 6, 6, 6, 5, 5,\n       6, 6, 6, 7, 6, 5, 5, 7, 7, 6, 6, 7, 7, 5, 5, 6, 6, 6, 6, 6, 5, 6,\n       5, 6, 6, 6, 7, 5, 6, 5, 6, 6, 5, 6, 6, 5, 6, 6, 7, 5, 5, 6, 5, 4,\n       6, 5, 5, 6, 5, 5, 6, 6, 6, 6, 6, 6, 6, 5, 5, 6, 6, 6, 6, 5, 5, 6,\n       6, 8, 6, 5, 7, 6, 6, 6, 6, 7, 6, 5, 6, 7, 6, 7, 5, 7, 4, 5, 6, 5,\n       5, 6, 6, 6, 6, 6, 5, 7, 6, 6, 7, 6], dtype=int64)"
     },
     "metadata": {},
     "execution_count": 12
    }
   ],
   "source": [
    "# Hacemos predicciones\n",
    "y_predict = clf_rf.predict(X_test)\n",
    "y_predict"
   ]
  },
  {
   "cell_type": "code",
   "execution_count": 13,
   "metadata": {},
   "outputs": [
    {
     "output_type": "execute_result",
     "data": {
      "text/plain": "1.0"
     },
     "metadata": {},
     "execution_count": 13
    }
   ],
   "source": [
    "# Evaluamos el modelo\n",
    "clf_rf.score(X_train, y_train)"
   ]
  },
  {
   "cell_type": "code",
   "execution_count": 14,
   "metadata": {},
   "outputs": [
    {
     "output_type": "execute_result",
     "data": {
      "text/plain": "0.7091836734693877"
     },
     "metadata": {},
     "execution_count": 14
    }
   ],
   "source": [
    "clf_rf.score(X_test, y_test)"
   ]
  },
  {
   "cell_type": "code",
   "execution_count": 15,
   "metadata": {},
   "outputs": [
    {
     "output_type": "stream",
     "name": "stdout",
     "text": "precision    recall  f1-score   support\n\n           3       0.00      0.00      0.00         4\n           4       1.00      0.21      0.34        29\n           5       0.76      0.70      0.73       308\n           6       0.67      0.81      0.73       437\n           7       0.70      0.65      0.68       165\n           8       0.88      0.42      0.57        36\n           9       0.00      0.00      0.00         1\n\n    accuracy                           0.71       980\n   macro avg       0.57      0.40      0.44       980\nweighted avg       0.72      0.71      0.70       980\n\n"
    }
   ],
   "source": [
    "from sklearn.metrics import classification_report, confusion_matrix, accuracy_score\n",
    "\n",
    "print(classification_report(y_test, y_predict))"
   ]
  },
  {
   "cell_type": "code",
   "execution_count": 16,
   "metadata": {},
   "outputs": [
    {
     "output_type": "execute_result",
     "data": {
      "text/plain": "array([[  0,   0,   2,   2,   0,   0,   0],\n       [  0,   6,  14,   9,   0,   0,   0],\n       [  0,   0, 215,  92,   1,   0,   0],\n       [  0,   0,  49, 352,  35,   1,   0],\n       [  0,   0,   2,  55, 107,   1,   0],\n       [  0,   0,   0,  12,   9,  15,   0],\n       [  0,   0,   0,   1,   0,   0,   0]], dtype=int64)"
     },
     "metadata": {},
     "execution_count": 16
    }
   ],
   "source": [
    "confusion_matrix(y_test, y_predict)"
   ]
  },
  {
   "cell_type": "code",
   "execution_count": 17,
   "metadata": {},
   "outputs": [
    {
     "output_type": "execute_result",
     "data": {
      "text/plain": "0.7091836734693877"
     },
     "metadata": {},
     "execution_count": 17
    }
   ],
   "source": [
    "accuracy_score(y_test, y_predict)"
   ]
  },
  {
   "cell_type": "code",
   "execution_count": 18,
   "metadata": {},
   "outputs": [],
   "source": [
    "# Mejoraremos el modelo, probando diferentes valores para n_estimators\n",
    "np.random.seed(42)"
   ]
  },
  {
   "cell_type": "code",
   "execution_count": 19,
   "metadata": {},
   "outputs": [
    {
     "output_type": "stream",
     "name": "stdout",
     "text": "Probando modelo con 10 estimators...\nPrecisión del modelo en el conjunto de prueba: 68.776%\n\nProbando modelo con 20 estimators...\nPrecisión del modelo en el conjunto de prueba: 69.796%\n\nProbando modelo con 30 estimators...\nPrecisión del modelo en el conjunto de prueba: 69.694%\n\nProbando modelo con 40 estimators...\nPrecisión del modelo en el conjunto de prueba: 70.612%\n\nProbando modelo con 50 estimators...\nPrecisión del modelo en el conjunto de prueba: 70.714%\n\nProbando modelo con 60 estimators...\nPrecisión del modelo en el conjunto de prueba: 70.816%\n\nProbando modelo con 70 estimators...\nPrecisión del modelo en el conjunto de prueba: 70.612%\n\nProbando modelo con 80 estimators...\nPrecisión del modelo en el conjunto de prueba: 71.735%\n\nProbando modelo con 90 estimators...\nPrecisión del modelo en el conjunto de prueba: 70.204%\n\nProbando modelo con 100 estimators...\nPrecisión del modelo en el conjunto de prueba: 70.612%\n\n"
    }
   ],
   "source": [
    "for i in range(10, 110, 10):\n",
    "    print(f\"Probando modelo con {i} estimators...\")\n",
    "    clf_rf = RandomForestClassifier(n_estimators=i).fit(X_train, y_train)\n",
    "    print(f\"Precisión del modelo en el conjunto de prueba: {clf_rf.score(X_test, y_test) * 100:.3f}%\")\n",
    "    print(\"\")"
   ]
  },
  {
   "cell_type": "code",
   "execution_count": 20,
   "metadata": {},
   "outputs": [],
   "source": [
    " import pickle\n",
    "\n",
    " pickle.dump(clf_rf, open(\"random_forest_model_1.pkl\", \"wb\"))"
   ]
  },
  {
   "cell_type": "code",
   "execution_count": 21,
   "metadata": {},
   "outputs": [],
   "source": [
    "loaded_model = pickle.load(open(\"random_forest_model_1.pkl\", \"rb\"))"
   ]
  },
  {
   "cell_type": "code",
   "execution_count": 22,
   "metadata": {},
   "outputs": [
    {
     "output_type": "execute_result",
     "data": {
      "text/plain": "0.7061224489795919"
     },
     "metadata": {},
     "execution_count": 22
    }
   ],
   "source": [
    "loaded_model.score(X_test, y_test)"
   ]
  },
  {
   "cell_type": "code",
   "execution_count": 23,
   "metadata": {},
   "outputs": [
    {
     "output_type": "stream",
     "name": "stdout",
     "text": "\nSystem:\n    python: 3.8.1 (tags/v3.8.1:1b293b6, Dec 18 2019, 23:11:46) [MSC v.1916 64 bit (AMD64)]\nexecutable: C:\\Program Files\\Python38\\python.exe\n   machine: Windows-10-10.0.18362-SP0\n\nPython dependencies:\n       pip: 20.1\nsetuptools: 41.2.0\n   sklearn: 0.22.2.post1\n     numpy: 1.18.2\n     scipy: 1.4.1\n    Cython: None\n    pandas: 1.0.3\nmatplotlib: 3.2.1\n    joblib: 0.14.1\n\nBuilt with OpenMP: True\n"
    }
   ],
   "source": [
    "import sklearn\n",
    "\n",
    "sklearn.show_versions()"
   ]
  },
  {
   "cell_type": "code",
   "execution_count": 24,
   "metadata": {},
   "outputs": [],
   "source": [
    "# 1. Dividimos el dataset en X e y\n",
    "# 2. Dividimos en entrenamiento y prueba (p.ej. con train_test_split)\n",
    "# 3. Verificamos y corregimos NaN's (por ej., nulos categóricos a \"missing\" y nulos numéricos con la media) --> imputation\n",
    "#    Si el df de etiquetas tiene nulos \n",
    "# 4. Convertimos variables categóricas en numéricas --> feature encoding\n",
    "# 5. Entrenamos el modelo (fit con X_train, y_train)\n",
    "# 6. Evaluamos el modelo (score con X_test, y_test)"
   ]
  }
 ],
 "metadata": {
  "kernelspec": {
   "display_name": "Python 3.8.1 64-bit",
   "language": "python",
   "name": "python38164bitddc70b56f9d74bcebb5cbcc975b589c1"
  },
  "language_info": {
   "codemirror_mode": {
    "name": "ipython",
    "version": 3
   },
   "file_extension": ".py",
   "mimetype": "text/x-python",
   "name": "python",
   "nbconvert_exporter": "python",
   "pygments_lexer": "ipython3",
   "version": "3.8.1-final"
  }
 },
 "nbformat": 4,
 "nbformat_minor": 4
}