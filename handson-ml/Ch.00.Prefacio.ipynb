{
 "cells": [
  {
   "cell_type": "markdown",
   "metadata": {},
   "source": [
    "# PREFACIO"
   ]
  },
  {
   "cell_type": "markdown",
   "metadata": {},
   "source": [
    "# El tsunami de Machine Learning"
   ]
  },
  {
   "cell_type": "markdown",
   "metadata": {},
   "source": [
    "En 2006 Geoffrey Hinton publicó un [artículo](http://www.cs.toronto.edu/~hinton/) mostrando cómo entrenar una red neuronal profunda capaz de reconocer dígitos escritos a mano con avanzada precisión (>98%). Nombraron esta técnica \"Aprendizaje Profundo (*Deep Learning*). Entrenar una red neuronal profunda era ampliamente reconocido como algo imposible en esos momentos (a pesar de que las redes neuronales convolucionales profundas de Yann Lecun habían funcionado bien para el reconocimiento de imágenes desde la década de 1990, aunque no tenían un propósito general), y la mayoría de los investigadores habían abandonado la idea desde la década de los 90. Este artículo revivió el interés de la comunidad científica y, en poco tiempo, muchos otros artículos demostraron que el Deep Learning no solo era posible, sino capaz alcanzar logros alucinantes que ninguna otra técnica de Machine Learning (ML) podría igualar (con la ayuda de un gran potencia informática y grandes cantidades de datos). Este entusiasmo pronto se extendió a muchas otras áreas del Machine Learning.\n",
    "\n",
    "En los últimos 10 años de rápido avance, Machine Learning ha conquistado la industria: ahora está en el corazón de gran parte de la magia de los productos de alta tecnología actuales, en el ranking de resultados de búsqueda en la web, potencia el reconocimiento de voz de nuestro smartphone, recomienda videos y supera al campeón mundial en el juego de Go. Antes de que nos demos cuenta, estará conduciendo nuestro automóvil."
   ]
  },
  {
   "cell_type": "markdown",
   "metadata": {},
   "source": [
    "# Machine Learning en nuestros proyectos"
   ]
  },
  {
   "cell_type": "markdown",
   "metadata": {},
   "source": [
    "Por tanto, es natural que estemos excitados con Machine Learning y queramos unirnos a la fiesta. ¿Quizás te gustaría darle a tu robot casero un cerebro propio? ¿Hacer que reconozaca rostros? ¿O aprender a caminar?\n",
    "\n",
    "O quizás nuestra compañía tenga toneladas de datos (logs de usuarios, datos financieros, datos de producción, datos de sensores, estadísticas, informes de recursos humanos, etc.) y lo más probable es que podamos descubrir algunas gemas ocultas si supiéramos donde buscar, por ejemplo:\n",
    "\n",
    "+ Segmentar clientes y encontrar la mejor estrategia de marketing para cada grupo\n",
    "+ Recomendar productos para cada cliente en función de lo que compraron clientes similares\n",
    "+ Detectar qué transacciones sean probablemente fraudulentas\n",
    "+ Pronosticar los ingresos del próximo año\n",
    "+ y [mucho más](http://web.archive.org/web/20130818062926/https://www.kaggle.com/wiki/DataScienceUseCases)\n",
    "\n",
    "Cualquiera que sea la razón, hemos decidido aprender Machine Learning e implementarlo en nuestros proyectos. ¡Buena idea!"
   ]
  },
  {
   "cell_type": "markdown",
   "metadata": {},
   "source": [
    "# Objetivo y enfoque"
   ]
  },
  {
   "cell_type": "markdown",
   "metadata": {},
   "source": [
    "Este libro asume que no sabes casi nada sobre Machine Learning. El objetivo es darte los conceptos, las intuiciones y las herramientas que necesitas para implementar realmente programas capaces de *aprender de los datos*.\n",
    "\n",
    "Cubriremos un gran número de técnicas, desde las más simples y usadas comúnmente (como es la regresión lineal) hasta algunas técnicas de Deep Learning que regularmente consiguen ganar en las competiciones.\n",
    "\n",
    "En lugar de implementar nuestras propias versiones de juguete de algunos algoritmos, usaremos los frameworks actuales que Python dispone listos para producción:\n",
    "\n",
    "+ [Scikit-Learn](http://scikit-learn.org/) es muy fácil de usar e implementa eficientemente muchos de los algoritmos de Machine Learning, lo que hace que sea un estupendo punto de entrada para aprender Machine Learning.\n",
    "\n",
    "+ [TensorFlow](https://www.tensorflow.org/) es una librería más compleja para el cálculo numérico distribuido. Hace posible entrenar y ejecutar grandes redes neuronales eficientemente distribuyendo los cálculos a través de potencialmente cientos de servidores multi-GPU. TensorFlow fue creado por Google y es compatible con la mayoría de las aplicación de gran escala de Machine Learning. Desde 2015 es *open source*.\n",
    "\n",
    "+ [Keras](https://keras.io/) es una API de alto nivel de Deep Learning que hace muy sencillo entrenar y ejecutar una red neuronal. Puede ejecutarse sobre TensorFlow, Theano o Microsoft Cognitive Toolkit (formalmente conocido como CNTK). TensorFlow viene con su propia implementación de esta API, llamada *tf.keras*, que porporciona soporte para algunas características avanzadas de TensorFlow (por ejemplo, para cargar datos eficientemente).\n",
    "\n",
    "El libro favorece un enfoque práctico, desarrollando una comprensión intuitiva del Machine Learning a través de ejercicios concretos y solo un poco de teoría. Si bien podemos leer este libro sin usar nuestro portátil, recomendamos que experimente con los ejemplos de código disponibles en línea como Jupyter notebook en <https://github.com/ageron/handson-ml2>."
   ]
  },
  {
   "cell_type": "markdown",
   "metadata": {},
   "source": [
    "# Roadmap"
   ]
  },
  {
   "cell_type": "markdown",
   "metadata": {},
   "source": [
    "Este libro está organizado en dos partes. La *Parte 1, Fundamentos de Machine Learning* cubre los siguientes temas:\n",
    "\n",
    "+ ¿Qué es Machine Learning? ¿Qué problemas intenta resolver? ¿Cuáles son las principales categorías y conceptos fundamentales de los sistemas de Machine Learning?\n",
    "+ Fases principales en un proyecto típico de Machine Learning.\n",
    "+ Aprender como ajustar un modelo a los datos.\n",
    "+ Optimización de una función de coste.\n",
    "+ Manejo, limpieza y preparación de los datos.\n",
    "+ Selección e ingeniería de características.\n",
    "+ Selección de un modelo y ajuste de los hiperparámetros usando validación cruzada.\n",
    "+ Principales desafíos de Machine Learning, en particular el sobreajuste y subajuste (equilibro sesgo/varianza).\n",
    "+ Reducción de la dimensionalidad de los datos de entrenamiento para combatir la maldición de la dimensionalidad.\n",
    "+ Otras técnicas de aprendizaje no supervisado, incluyendo clustering, estimación de densidad y detección de anomalías.\n",
    "+ Los algoritmos más comunes de aprendizaje: Regresión Lineal y Polinomial, Regresión Logística, k-Nearest Neighbors, Support Vector Machines, Arboles de decisión, Bosqueas Aleatorios y métodos de conjunto."
   ]
  },
  {
   "cell_type": "markdown",
   "metadata": {},
   "source": [
    "La *Parte 2, Redes Neuronales y Deep Learning* cubre los siguientes temas:\n",
    "\n",
    "+ ¿Que son las Redes Neuronales? ¿Para qué son buenas?\n",
    "+ Construcción y entrenamiento de redes neuronales usando TensorFlow y Keras.\n",
    "+ Las arquitecturas más importantes de redes neuronales: redes neuronales prealimentadas (*feedforward*), redes convolucionales, redes recurrentes, redes de memoria a largo plazo corto (*long short-term memory, LSTM*), redes generativas antagónicas (*generative adversarial networks, GANs*) y *autoencoders*.\n",
    "+ Técnicas y entrenamiento de redes neuronales profundas.\n",
    "+ Escalado de redes neuronales para grandes datasets.\n",
    "+ Estrategias de aprendizaje con aprendizaje por Reforzamiento.\n",
    "+ Manejar la incertidumbre con aprendizaje Profundo Bayesiano."
   ]
  },
  {
   "cell_type": "markdown",
   "metadata": {},
   "source": [
    "La primera parte está basada principalmente en Scikit-Learn, mientras que la segunda parte usaremos TensorFlow y Keras.\n",
    "\n",
    "---\n",
    "No saltes demasiado rápido a las aguas profundas: si bien el Deep Learning es sin duda una de las áreas más emocionantes del aprendizaje automático, primero debes dominar los fundamentos. Además, la mayoría de los problemas se pueden resolver bastante bien utilizando técnicas más simples como los bosques aleatorios y los métodos de conjunto (discutidos en la Parte I). Deep Learning es más adecuado para problemas complejos como el reconocimiento de imágenes, el reconocimiento de voz o el procesamiento del lenguaje natural, siempre que tenga suficientes datos, potencia informática y paciencia.\n",
    "\n",
    "---"
   ]
  },
  {
   "cell_type": "markdown",
   "metadata": {},
   "source": [
    "# Otros recursos"
   ]
  },
  {
   "cell_type": "markdown",
   "metadata": {},
   "source": [
    "Hay muchos recursos disponibles para aprender sobre Machine Learning. El curso de [ML en Coursera](https://www.coursera.org/learn/machine-learning/) de Andrew Ng y el curso de Geoffrey Hinton sobre [redes neuronales y Deep Learning](https://www.cs.toronto.edu/~hinton/nntut.html) son increíbles, aunque ambos requieren una inversión de tiempo significativa (piensa en meses).\n",
    "\n",
    "También hay muchos sitios web interesantes sobre Machine Learning, incluida, por supuesto, la excepcional [Guía del usuario](https://scikit-learn.org/stable/user_guide.html) de Scikit-Learn. También puedes disfrutar de [Dataquest](https://www.dataquest.io/), que proporciona tutoriales interactivos muy agradables y blogs de ML como los que figuran en [Quora](https://www.quora.com/What-are-the-best-regularly-updated-machine-learning-blogs-or-resources-available). Finalmente, el sitio web de [Deep Learning](http://deeplearning.net/) tiene una buena lista de recursos para aprender más.\n",
    "\n",
    "Por supuesto, también hay muchos otros libros introductorios sobre Machine Learning, en particular:\n",
    "\n",
    "+ Joel Grus, *Data Science from Scratch* (O'Reilly). Este libro presenta los fundamentos del aprendizaje automático e implementa algunos de los algoritmos principales en Python puro (desde cero, como su nombre indica).\n",
    "\n",
    "+ Stephen Marsland, *Machine Learning: An Algorithmic Perspective* (Chapman y Hall). Este libro es una excelente introducción al aprendizaje automático, que cubre una amplia gama de temas en profundidad, con ejemplos de código en Python (también desde cero, pero usando NumPy).\n",
    "\n",
    "+ Sebastian Raschka, *Python Machine Learning* (publicación de Packt). También una gran introducción al aprendizaje automático, este libro aprovecha las bibliotecas de código abierto de Python (Pylearn 2 y Theano).\n",
    "\n",
    "+ François Chollet, *Deep Learning with Python* (Manning). Un libro muy práctico que cubre una amplia gama de temas de manera clara y concisa, como es de esperar del autor de la excelente biblioteca de Keras. Prevalecen ejemplos de código sobre la teoría matemática.\n",
    "\n",
    "+ Yaser S. Abu-Mostafa, Malik Magdon-Ismail y Hsuan-Tien Lin, *Learning from Data* (AMLBook). Este enfoque, que es un enfoque bastante teórico sobre el ML, proporciona información profunda, en particular sobre el equilibrio de sesgo / varianza (ver Capítulo 4).\n",
    "\n",
    "+ Stuart Russell y Peter Norvig, *Artificial Intelligence: A Modern Approach, 3rd Edition* (Pearson). Este es un gran (y enorme) libro que cubre una increíble cantidad de temas, incluido el aprendizaje automático. Ayuda a poner ML en perspectiva.\n",
    "\n",
    "Finalmente, una excelente manera de aprender es unirse a sitios web de competiciones de ML como [Kaggle.com](https://www.kaggle.com/), esto te permitirá practicar tus habilidades en problemas del mundo real, con la ayuda y las ideas de algunos de los mejores profesionales de ML."
   ]
  },
  {
   "cell_type": "code",
   "execution_count": null,
   "metadata": {},
   "outputs": [],
   "source": []
  }
 ],
 "metadata": {
  "language_info": {
   "codemirror_mode": {
    "name": "ipython",
    "version": 3
   },
   "file_extension": ".py",
   "mimetype": "text/x-python",
   "name": "python",
   "nbconvert_exporter": "python",
   "pygments_lexer": "ipython3",
   "version": "3.8.1-final"
  },
  "orig_nbformat": 2,
  "kernelspec": {
   "name": "python38164bitddc70b56f9d74bcebb5cbcc975b589c1",
   "display_name": "Python 3.8.1 64-bit"
  }
 },
 "nbformat": 4,
 "nbformat_minor": 2
}