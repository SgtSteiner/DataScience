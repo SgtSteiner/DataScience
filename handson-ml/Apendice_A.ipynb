{
 "cells": [
  {
   "cell_type": "markdown",
   "metadata": {},
   "source": [
    "# APENDICE A - CHECKLIST DE PROYECTOS DE MACHINE LEARNING"
   ]
  },
  {
   "cell_type": "markdown",
   "metadata": {},
   "source": [
    "Esta checklist puede guiarnos a través de nuestros proyectos de Machine Learning. Existen ocho pasos principales:\n",
    "\n",
    "1. Encuadrar el problema y tener la visión global.\n",
    "\n",
    "2. Obtener los datos.\n",
    "\n",
    "3. Explorar los datos para obtener ideas.\n",
    "\n",
    "4. Preparar los datos para exponer lo mejor posible los patrones de datos subyacentes a los algoritmos de Machine Learning.\n",
    "\n",
    "5. Explorar muchos modelos diferentes y preseleccionar los mejores.\n",
    "\n",
    "6. Afinar nuestros modelos y combinarlos en una gran solución.\n",
    "\n",
    "7. Presentar nuestra solución.\n",
    "\n",
    "8. Implantar, monitorizar y mantener nuestro sistema.\n",
    "\n",
    "Obviamente, siéntete libre para adaptar esta checklist a tus necesidades."
   ]
  },
  {
   "cell_type": "markdown",
   "metadata": {},
   "source": [
    "## Encuadrar el problema y tener la visión global"
   ]
  },
  {
   "cell_type": "markdown",
   "metadata": {},
   "source": [
    "1. Definir el objetivo en términos de negocio.\n",
    "\n",
    "2. ¿Cómo será usada tu solución?\n",
    "\n",
    "3. ¿Cuales son las soluciones/workarounds actuales (si las hubiera)?\n",
    "\n",
    "4. ¿Cómo deberías enmarcar este problema (supervisado/no supervisado, online/offline, etc.)?\n",
    "\n",
    "5. ¿Cómo debe ser medida la ejecución?\n",
    "\n",
    "6. ¿Está alineada la medida de la ejecución con el objetivo de negocio?\n",
    "\n",
    "7. ¿Cuál debe ser la ejecución mínima necesaria para alcanzar el objetivo de negocio?\n",
    "\n",
    "8. ¿Cuáles son los problemas comparables? ¿Se puede reutilizar la experiencia o las herramientas?\n",
    "\n",
    "9. ¿Existe experiencia humana disponible?\n",
    "\n",
    "10. ¿Cómo resolverías el problema manualmente?\n",
    "\n",
    "11. Enumera las asunciones que has (u otros han) hecho hasta ahora.\n",
    "\n",
    "12. Verifica las asunciones si es posible."
   ]
  },
  {
   "cell_type": "markdown",
   "metadata": {},
   "source": [
    "## Obtener los datos"
   ]
  },
  {
   "cell_type": "markdown",
   "metadata": {},
   "source": [
    "Nota: automatiza tanto como sea posible para que puedas obtener fácilmente datos actualizados.\n",
    "\n",
    "1. Enumera los datos que necesitas y en qué cantidad.\n",
    "\n",
    "2. Busca y documenta dónde puedes obtener los datos.\n",
    "\n",
    "3. Comprueba cuánto espacio ocuparán.\n",
    "\n",
    "4. Comprueba las obligaciones legales y obtén autorización si fuera necesario.\n",
    "\n",
    "5. Obtén las autorizaciones de acceso.\n",
    "\n",
    "6. Crea un espacio de trabajo (con el suficiente espacio de almacenamiento).\n",
    "\n",
    "7. Obtén los datos.\n",
    "\n",
    "8. Convierte los datos a un formato que puedas manipular fácilmente (sin cambiar los datos en sí).\n",
    "\n",
    "9. Asegúrate que la información sensible es eliminada o protegida (por ejemplo, anonimizándola).\n",
    "\n",
    "10. Comprueba el tamaño y los tipos de los datos (series temporales, muestras, geográficos, etc.)\n",
    "\n",
    "11. Muestrea/selecciona un conjunto de prueba, déjalo a un lado y nunca lo mires (¡sin espiar datos!)."
   ]
  },
  {
   "cell_type": "markdown",
   "metadata": {},
   "source": [
    "## Explorar los datos"
   ]
  },
  {
   "cell_type": "markdown",
   "metadata": {},
   "source": [
    "Nota: intenta obtener ideas de expertos en la materia para estos pasos.\n",
    "\n",
    "1. Crea una copia de los datos para la exploración (muestreándolos a un tamaño manejable si es necesario).\n",
    "\n",
    "2. Crea un notebook de Jupyter para mantener un registro de tu exploración de datos.\n",
    "\n",
    "3. Estudia cada atributo y sus características:\n",
    "\n",
    " + Nombre\n",
    " \n",
    " + Tipo (categórico, entero/float, acotado/no acotado, texto, estructurado, etc.)\n",
    " \n",
    " + Porcentaje de valores ausentes\n",
    " \n",
    " + Ruido y tipo de ruido (estocástico, valores atípicos, errores de redondeo, etc.)\n",
    " \n",
    " + Si son posiblemente útiles para la tarea\n",
    " \n",
    " + Tipo de distribución (gausiana, uniforme, logarítmica, etc.)\n",
    " \n",
    "4. Para tareas de aprendizaje supervisado, identificar el/los atributo(s) objetivo.\n",
    "\n",
    "5. Visualizar los datos.\n",
    "\n",
    "6. Estudiar las correlaciones entre los atributos.\n",
    "\n",
    "7. Estudiar cómo podrías resolver el problema manualmente.\n",
    "\n",
    "8. Identificar las transformaciones prometedoras que podríamos aplicar.\n",
    "\n",
    "9. Identificar datos extra que podrían ser útiles (vuelve al punto anterior, \"Obtener los datos\").\n",
    "\n",
    "10. Documentar lo  que has aprendido."
   ]
  },
  {
   "cell_type": "markdown",
   "metadata": {},
   "source": [
    "## Preparar los datos"
   ]
  },
  {
   "cell_type": "markdown",
   "metadata": {},
   "source": [
    "Notas:\n",
    "\n",
    "+ Trabaja en copias de los datos (mantén el dataset original intacto).\n",
    "\n",
    "+ Escribe funciones para todas las transformaciones que apliques, por cinco razones:\n",
    "\n",
    " + Así puedes preparar fácilmente los datos para la próxima vez que obtengas datos actualizados\n",
    " \n",
    " + Así puedes aplicar esas transformaciones en futuros proyectos\n",
    " \n",
    " + Para limpiar y preparar el conjunto de prueba\n",
    " \n",
    " + Para limpiar y preparar nuevas instancias de datos una vez que tu solución está en producción\n",
    " \n",
    " + Para hacer fácil el tratamiento de tus elecciones de preparación como hiperparámetros\n",
    " \n",
    "\n",
    "1. Limpieza de datos:\n",
    "\n",
    " + Corrige o elimina los datos atípicos (opcional).\n",
    " \n",
    " + Rellena los valores ausentes (por ejemplo, con ceros, media, mediana, etc.) o elimina sus filas (o columnas).\n",
    " \n",
    "\n",
    "2. Selección de características (opcional):\n",
    "\n",
    " + Elmina los atributos que no proporcionen información útil para la tarea.\n",
    " \n",
    "\n",
    "3. Ingeniería de características, cuando corresponda:\n",
    "\n",
    " + Discretizar características continuas.\n",
    " \n",
    " + Descomponer características (por ejemplo, categóricas, fecha/hora, etc.).\n",
    " \n",
    " + Añade transformaciones prometedoras de características (por ejemplo, log(x), sqrt(x), $x^2$, etc.).\n",
    " \n",
    " + Añade caractarísticas en nuevas características prometedoras.\n",
    " \n",
    "\n",
    "4. Escalar características:\n",
    "\n",
    " + estandariza o normaliza características."
   ]
  },
  {
   "cell_type": "markdown",
   "metadata": {},
   "source": [
    "## Preseleccionar modelos prometedores"
   ]
  },
  {
   "cell_type": "markdown",
   "metadata": {},
   "source": [
    "Notas:\n",
    "\n",
    "+ Si los datos son grandes, puedes muestrear conjuntos de entrenamiento más pequeños, así puedes entrenar muchos modelos diferentes en un tiempo razonable (ten cuidado porque esto penaliza en modelos complejos, como en redes neuronales grandes o Random Forests).\n",
    "\n",
    "+ Una vez más, intenta automatizar estos pasos tanto como sea posible.\n",
    "\n",
    "1. Entrena muchos modelos rápidos y sin refinar de diferentes categorías (es decir, lineales, naive Bayes, SVM, Random Forests, redes neuronales, etc.) usando los parámetros estándares.\n",
    "\n",
    "2. Mide y compara su ejecución.\n",
    "\n",
    " + Por cada modelo, usa validación cruzada de N-particiones y calcula la media y la desviación estándar de la medida de la ejecución en las N particiones.\n",
    " \n",
    " \n",
    "3. Analiza las variables más significativas por cada algoritmo.\n",
    "\n",
    "4. Analiza los tipos de error que los modelos generan.\n",
    "\n",
    " + ¿Qué datos habría utilizado un humano para evitar estos errores?\n",
    " \n",
    " \n",
    "5. Haz una ronda rápida de selección e ingeniería de características.\n",
    "\n",
    "6. Haz una o dos más iteraciones rápidas de los cinco pasos previos.\n",
    "\n",
    "7. Preselecciona los mejores tres a cinco modelos más prometedores, prefiriendo modelos que tengan diferentes tipos de errores."
   ]
  },
  {
   "cell_type": "markdown",
   "metadata": {},
   "source": [
    "## Afinar el sistema"
   ]
  },
  {
   "cell_type": "markdown",
   "metadata": {},
   "source": [
    "Notas:\n",
    "\n",
    "+ Deberás utilizar la mayor cantidad de datos posible para este paso, especialmente a medida que avanzas hacia el final del ajuste fino.\n",
    "\n",
    "+ Como siempre, automatiza lo que puedas.\n",
    "\n",
    "1. Afina los hiperparámetros usando validación cruzada:\n",
    "\n",
    " + Trata tus opciones de transformación de datos como hiperparámetros, especialmente cuando no estás seguro de ellos (por ejemplo, ¿deberías reemplazar los valores faltantes con cero o con el valor medio? ¿O simplemente eliminar las filas?).\n",
    " \n",
    " + A menos que haya muy pocos valores de hiperparámetros a explorar, utiliza preferentemente búsqueda aleatoria sobre grid search. Si el entrenamiento es muy largo, puedes preferir el enfoque de optimización Bayesiana (p. ej., utilizando procesos previos gaussianos, como lo describen [Jasper Snoek, Hugo Larochelle y Ryan Adams](https://goo.gl/PEFfGr)).\n",
    " \n",
    " \n",
    "2. Prueba los métodos de conjunto. La combinación de sus mejores modelos a menudo funcionará mejor que ejecutarlos individualmente.\n",
    "\n",
    "3. Una vez que confíes en tu modelo final, mide su ejecución en el conjunto de prueba para estimar el error de generalización.\n",
    "\n",
    "---\n",
    "\n",
    "No ajustes tu modelo una vez medido el error de generalización: podrías empezar a sobreajustar el conjunto de prueba.\n",
    "\n",
    "---"
   ]
  },
  {
   "cell_type": "markdown",
   "metadata": {},
   "source": [
    "## Presentar tu solución"
   ]
  },
  {
   "cell_type": "markdown",
   "metadata": {},
   "source": [
    "1. Documenta lo que has hecho.\n",
    "\n",
    "2. Crea una presentación atractiva.\n",
    "\n",
    " + Asegúrate que resaltas la visión global en primer lugar.\n",
    " \n",
    " \n",
    "3. Explica por qué tu solución alcanza el objetivo de negocio.\n",
    "\n",
    "4. No olvides presentar puntos interesantes que has observado a lo largo del camino.\n",
    "\n",
    " + Describe qué ha funcionado y qué no.\n",
    " \n",
    " + Enumera tus asunciones y las limitaciones de tu sistema.\n",
    " \n",
    " \n",
    "5. Asegúrate de que tus hallazgos clave son comunicados con atractivas visualizaciones o frases fáciles de recordar (por ejemplo, \"el salario medio es el predictor número uno del precio de la vivienda\")."
   ]
  },
  {
   "cell_type": "markdown",
   "metadata": {},
   "source": [
    "## ¡Lanzamiento!"
   ]
  },
  {
   "cell_type": "markdown",
   "metadata": {},
   "source": [
    "1. Prepara tu solución lista para salir a producción (conecta a las entradas de datos de producción, escribe pruebas unitarias, etc.).\n",
    "\n",
    "2. Escribe código para monitorizar la ejecución en vivo de tu sistema a intervalos regulares y dispara alertas cuando se caiga.\n",
    "\n",
    " + Ten cuidado también con la degradación lenta: los modelos tienden a \"pudrirse\" a medida que los datos evolucionan.\n",
    " \n",
    " + La medida de la ejecución puede requerir un pipeline humano (por ejemplo, a través de un servicio de crowdsourcing).\n",
    " \n",
    " + Monitoriza también la calidad de tus entradas (por ejemplo, el malfuncionamiento de un sensor enviando datos aleatorios o las salidas de otros equipos que puedan volverse obsoletas). Esto es particularmente importante en sistemas de aprendizaje online.\n",
    " \n",
    " \n",
    "3. Vuelve a entrenar tus modelos a intervalos regulares con datos actualizados (automatiza tanto como sea posible)."
   ]
  }
 ],
 "metadata": {
  "kernelspec": {
   "display_name": "Python 3.8.1 64-bit",
   "language": "python",
   "name": "python38164bitddc70b56f9d74bcebb5cbcc975b589c1"
  },
  "language_info": {
   "codemirror_mode": {
    "name": "ipython",
    "version": 3
   },
   "file_extension": ".py",
   "mimetype": "text/x-python",
   "name": "python",
   "nbconvert_exporter": "python",
   "pygments_lexer": "ipython3",
   "version": "3.8.1"
  },
  "toc-autonumbering": false,
  "toc-showmarkdowntxt": false
 },
 "nbformat": 4,
 "nbformat_minor": 4
}
