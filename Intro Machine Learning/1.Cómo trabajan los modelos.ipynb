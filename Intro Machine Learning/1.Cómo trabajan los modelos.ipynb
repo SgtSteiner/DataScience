{
 "cells": [
  {
   "cell_type": "markdown",
   "metadata": {},
   "source": [
    "# Introducción al Aprendizaje Automático.\n",
    "\n",
    "## Cómo trabajan los modelos\n",
    "\n",
    "### Introducción\n",
    "\n",
    "Comenzaremos con una descripción general de cómo funcionan los modelos de aprendizaje automático y cómo se usan. Este micro curso nos permitirá construir modelos a medida que avancen en el siguiente escenario:\n",
    "\n",
    "Su primo ha ganado millones de dólares especulando con inmuebles. Se ofreció a convertirse en tu socio comercial debido a tu interés en la ciencia de datos. Él proporcionará el dinero y tú proporcionarás modelos que predigan cuánto valen varias propiedades. Le preguntas a tu primo cómo ha predicho los valores inmobiliarios en el pasado y dice que es solo intuición. Pero más preguntas revelan que ha identificado patrones de precios de casas que ha visto en el pasado y usa esos patrones para hacer predicciones para las casas nuevas que está considerando.\n",
    "\n",
    "El aprendizaje automático funciona de la misma manera. Comenzaremos con un modelo llamado Árbol de Decisión. Hay modelos más elegantes que dan predicciones más precisas. Pero los árboles de decisión son fáciles de entender y son el bloque de construcción básico para algunos de los mejores modelos en ciencia de datos.\n",
    "\n",
    "Para simplificar, comenzaremos con el árbol de decisión más simple posible."
   ]
  },
  {
   "cell_type": "markdown",
   "metadata": {},
   "source": [
    "![Sample Decision Tree](./images/arbol_decision.png)"
   ]
  },
  {
   "cell_type": "markdown",
   "metadata": {},
   "source": [
    "Divide las casas en solo dos categorías. El precio previsto para cualquier casa en consideración es el precio promedio histórico de las casas en la misma categoría.\n",
    "\n",
    "Usamos datos para decidir cómo dividir las casas en dos grupos y luego nuevamente para determinar el precio previsto en cada grupo. Este paso de capturar patrones de datos se llama **ajuste** (fitting) o **entrenamiento del modelo** (training). Los datos utilizados para ajustarse al modelo se denominan **datos de entrenamiento** (training data).\n",
    "\n",
    "Los detalles de cómo se ajusta el modelo (por ejemplo, cómo dividir los datos) son lo suficientemente complejos como para guardarlos para más adelante. Después de que el modelo se haya ajustado, puedes aplicarlo a nuevos datos para **predecir** los precios de viviendas adicionales."
   ]
  },
  {
   "cell_type": "markdown",
   "metadata": {},
   "source": [
    "### Mejorando los Arboles de Decisión"
   ]
  },
  {
   "cell_type": "markdown",
   "metadata": {},
   "source": [
    "¿Cuál de los siguientes dos árboles de decisión es más probable que resulte de ajustar los datos de entrenamiento de inmuebles?"
   ]
  },
  {
   "cell_type": "markdown",
   "metadata": {},
   "source": [
    "![Arboles de decisión](./images/arboles_decision.png)"
   ]
  },
  {
   "cell_type": "markdown",
   "metadata": {},
   "source": [
    "El árbol de decisión de la izquierda (Árbol de Decisión 1) probablemente tenga más sentido, porque captura la realidad de que las casas con más habitaciones tienden a venderse a precios más altos que las casas con menos habitaciones. El mayor inconveniente de este modelo es que no captura la mayoría de los factores que afectan el precio de la vivienda, como la cantidad de baños, el tamaño del lote, la ubicación, etc.\n",
    "\n",
    "Puede capturar más factores utilizando un árbol que tiene más \"divisiones\". Estos se llaman árboles \"más profundos\". Un árbol de decisión que también considera el tamaño total del lote de cada casa podría verse así:"
   ]
  },
  {
   "cell_type": "markdown",
   "metadata": {},
   "source": [
    "![Arboles de decisión](./images/arbol_profundo.png)"
   ]
  },
  {
   "cell_type": "markdown",
   "metadata": {},
   "source": [
    "Predices el precio de cualquier casa rastreando a través del árbol de decisión, siempre eligiendo la ruta correspondiente a las características de esa casa. El precio previsto para la casa está en la parte inferior del árbol. El punto en la parte inferior donde hacemos una predicción se llama **hoja** (leaf).\n",
    "\n",
    "Las divisiones y los valores en las hojas estarán determinados por los datos, por lo que es hora de que revises los datos con los que trabajarás."
   ]
  }
 ],
 "metadata": {
  "kernelspec": {
   "display_name": "Python 3",
   "language": "python",
   "name": "python3"
  },
  "language_info": {
   "codemirror_mode": {
    "name": "ipython",
    "version": 3
   },
   "file_extension": ".py",
   "mimetype": "text/x-python",
   "name": "python",
   "nbconvert_exporter": "python",
   "pygments_lexer": "ipython3",
   "version": "3.7.4"
  }
 },
 "nbformat": 4,
 "nbformat_minor": 4
}
