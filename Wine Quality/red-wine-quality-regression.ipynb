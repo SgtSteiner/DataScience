{
 "cells": [
  {
   "cell_type": "markdown",
   "metadata": {
    "papermill": {
     "duration": 0.037501,
     "end_time": "2020-12-18T10:10:58.716883",
     "exception": false,
     "start_time": "2020-12-18T10:10:58.679382",
     "status": "completed"
    },
    "tags": []
   },
   "source": [
    "# Wine Quality Prediction - Regression"
   ]
  },
  {
   "cell_type": "markdown",
   "metadata": {
    "papermill": {
     "duration": 0.035105,
     "end_time": "2020-12-18T10:10:58.787851",
     "exception": false,
     "start_time": "2020-12-18T10:10:58.752746",
     "status": "completed"
    },
    "tags": []
   },
   "source": [
    "![](https://cdn.pixabay.com/photo/2016/03/09/11/53/wine-glasses-1246240_1280.jpg)"
   ]
  },
  {
   "cell_type": "markdown",
   "metadata": {
    "papermill": {
     "duration": 0.034418,
     "end_time": "2020-12-18T10:10:58.857578",
     "exception": false,
     "start_time": "2020-12-18T10:10:58.823160",
     "status": "completed"
    },
    "tags": []
   },
   "source": [
    "## Frame the problem"
   ]
  },
  {
   "cell_type": "markdown",
   "metadata": {
    "papermill": {
     "duration": 0.034855,
     "end_time": "2020-12-18T10:10:58.927992",
     "exception": false,
     "start_time": "2020-12-18T10:10:58.893137",
     "status": "completed"
    },
    "tags": []
   },
   "source": [
    "We have a dataset that contains various characteristics of red and white variants of the Portuguese \"Vinho Verde\" wine. We have chemical variables, such as the amount of alcohol, citric acid, acidity, density, pH, etc; as well as a sensorial and subjective variable such as the score with which a group of experts rated the quality of the wine: between 0 (very bad) and 10 (very excellent).\n",
    "\n",
    "They ask us to build a model that can predict the quality score given these biochemical indicators.\n",
    "\n",
    "For this first part of the study, we are going to consider that it is a **regression problem**."
   ]
  },
  {
   "cell_type": "markdown",
   "metadata": {
    "papermill": {
     "duration": 0.034633,
     "end_time": "2020-12-18T10:10:58.997892",
     "exception": false,
     "start_time": "2020-12-18T10:10:58.963259",
     "status": "completed"
    },
    "tags": []
   },
   "source": [
    "### Imports"
   ]
  },
  {
   "cell_type": "code",
   "execution_count": 1,
   "metadata": {
    "_cell_guid": "79c7e3d0-c299-4dcb-8224-4455121ee9b0",
    "_uuid": "d629ff2d2480ee46fbb7e2d37f6b5fab8052498a",
    "execution": {
     "iopub.execute_input": "2020-12-18T10:10:59.074830Z",
     "iopub.status.busy": "2020-12-18T10:10:59.074107Z",
     "iopub.status.idle": "2020-12-18T10:11:00.518603Z",
     "shell.execute_reply": "2020-12-18T10:11:00.519149Z"
    },
    "papermill": {
     "duration": 1.484125,
     "end_time": "2020-12-18T10:11:00.519316",
     "exception": false,
     "start_time": "2020-12-18T10:10:59.035191",
     "status": "completed"
    },
    "tags": []
   },
   "outputs": [],
   "source": [
    "import pandas as pd\n",
    "import numpy as np\n",
    "import matplotlib.pyplot as plt\n",
    "import seaborn as sns\n",
    "\n",
    "from sklearn.model_selection import train_test_split, GridSearchCV, cross_val_score, cross_validate, StratifiedKFold\n",
    "from sklearn.linear_model import LinearRegression, SGDRegressor, Lasso, ElasticNet, Ridge\n",
    "from sklearn.feature_selection import RFE, RFECV\n",
    "from sklearn.ensemble import RandomForestRegressor, ExtraTreesRegressor\n",
    "from sklearn.svm import SVR\n",
    "from sklearn import metrics\n",
    "\n",
    "\n",
    "%matplotlib inline"
   ]
  },
  {
   "cell_type": "markdown",
   "metadata": {
    "papermill": {
     "duration": 0.034401,
     "end_time": "2020-12-18T10:11:00.589421",
     "exception": false,
     "start_time": "2020-12-18T10:11:00.555020",
     "status": "completed"
    },
    "tags": []
   },
   "source": [
    "## Get the Data"
   ]
  },
  {
   "cell_type": "code",
   "execution_count": 2,
   "metadata": {
    "execution": {
     "iopub.execute_input": "2020-12-18T10:11:00.662751Z",
     "iopub.status.busy": "2020-12-18T10:11:00.662092Z",
     "iopub.status.idle": "2020-12-18T10:11:00.689222Z",
     "shell.execute_reply": "2020-12-18T10:11:00.689773Z"
    },
    "papermill": {
     "duration": 0.0655,
     "end_time": "2020-12-18T10:11:00.689914",
     "exception": false,
     "start_time": "2020-12-18T10:11:00.624414",
     "status": "completed"
    },
    "tags": []
   },
   "outputs": [],
   "source": [
    "red = pd.read_csv(\"../input/red-wine-quality-cortez-et-al-2009/winequality-red.csv\")"
   ]
  },
  {
   "cell_type": "markdown",
   "metadata": {
    "papermill": {
     "duration": 0.035464,
     "end_time": "2020-12-18T10:11:00.762153",
     "exception": false,
     "start_time": "2020-12-18T10:11:00.726689",
     "status": "completed"
    },
    "tags": []
   },
   "source": [
    "### Check the size and type of data"
   ]
  },
  {
   "cell_type": "code",
   "execution_count": 3,
   "metadata": {
    "execution": {
     "iopub.execute_input": "2020-12-18T10:11:00.836751Z",
     "iopub.status.busy": "2020-12-18T10:11:00.836140Z",
     "iopub.status.idle": "2020-12-18T10:11:00.843407Z",
     "shell.execute_reply": "2020-12-18T10:11:00.842842Z"
    },
    "papermill": {
     "duration": 0.045654,
     "end_time": "2020-12-18T10:11:00.843511",
     "exception": false,
     "start_time": "2020-12-18T10:11:00.797857",
     "status": "completed"
    },
    "tags": []
   },
   "outputs": [
    {
     "data": {
      "text/plain": [
       "(1599, 12)"
      ]
     },
     "execution_count": 3,
     "metadata": {},
     "output_type": "execute_result"
    }
   ],
   "source": [
    "red.shape"
   ]
  },
  {
   "cell_type": "code",
   "execution_count": 4,
   "metadata": {
    "execution": {
     "iopub.execute_input": "2020-12-18T10:11:00.935897Z",
     "iopub.status.busy": "2020-12-18T10:11:00.930705Z",
     "iopub.status.idle": "2020-12-18T10:11:00.952039Z",
     "shell.execute_reply": "2020-12-18T10:11:00.952672Z"
    },
    "papermill": {
     "duration": 0.072741,
     "end_time": "2020-12-18T10:11:00.952816",
     "exception": false,
     "start_time": "2020-12-18T10:11:00.880075",
     "status": "completed"
    },
    "tags": []
   },
   "outputs": [
    {
     "data": {
      "text/html": [
       "<div>\n",
       "<style scoped>\n",
       "    .dataframe tbody tr th:only-of-type {\n",
       "        vertical-align: middle;\n",
       "    }\n",
       "\n",
       "    .dataframe tbody tr th {\n",
       "        vertical-align: top;\n",
       "    }\n",
       "\n",
       "    .dataframe thead th {\n",
       "        text-align: right;\n",
       "    }\n",
       "</style>\n",
       "<table border=\"1\" class=\"dataframe\">\n",
       "  <thead>\n",
       "    <tr style=\"text-align: right;\">\n",
       "      <th></th>\n",
       "      <th>fixed acidity</th>\n",
       "      <th>volatile acidity</th>\n",
       "      <th>citric acid</th>\n",
       "      <th>residual sugar</th>\n",
       "      <th>chlorides</th>\n",
       "      <th>free sulfur dioxide</th>\n",
       "      <th>total sulfur dioxide</th>\n",
       "      <th>density</th>\n",
       "      <th>pH</th>\n",
       "      <th>sulphates</th>\n",
       "      <th>alcohol</th>\n",
       "      <th>quality</th>\n",
       "    </tr>\n",
       "  </thead>\n",
       "  <tbody>\n",
       "    <tr>\n",
       "      <th>0</th>\n",
       "      <td>7.4</td>\n",
       "      <td>0.70</td>\n",
       "      <td>0.00</td>\n",
       "      <td>1.9</td>\n",
       "      <td>0.076</td>\n",
       "      <td>11.0</td>\n",
       "      <td>34.0</td>\n",
       "      <td>0.9978</td>\n",
       "      <td>3.51</td>\n",
       "      <td>0.56</td>\n",
       "      <td>9.4</td>\n",
       "      <td>5</td>\n",
       "    </tr>\n",
       "    <tr>\n",
       "      <th>1</th>\n",
       "      <td>7.8</td>\n",
       "      <td>0.88</td>\n",
       "      <td>0.00</td>\n",
       "      <td>2.6</td>\n",
       "      <td>0.098</td>\n",
       "      <td>25.0</td>\n",
       "      <td>67.0</td>\n",
       "      <td>0.9968</td>\n",
       "      <td>3.20</td>\n",
       "      <td>0.68</td>\n",
       "      <td>9.8</td>\n",
       "      <td>5</td>\n",
       "    </tr>\n",
       "    <tr>\n",
       "      <th>2</th>\n",
       "      <td>7.8</td>\n",
       "      <td>0.76</td>\n",
       "      <td>0.04</td>\n",
       "      <td>2.3</td>\n",
       "      <td>0.092</td>\n",
       "      <td>15.0</td>\n",
       "      <td>54.0</td>\n",
       "      <td>0.9970</td>\n",
       "      <td>3.26</td>\n",
       "      <td>0.65</td>\n",
       "      <td>9.8</td>\n",
       "      <td>5</td>\n",
       "    </tr>\n",
       "    <tr>\n",
       "      <th>3</th>\n",
       "      <td>11.2</td>\n",
       "      <td>0.28</td>\n",
       "      <td>0.56</td>\n",
       "      <td>1.9</td>\n",
       "      <td>0.075</td>\n",
       "      <td>17.0</td>\n",
       "      <td>60.0</td>\n",
       "      <td>0.9980</td>\n",
       "      <td>3.16</td>\n",
       "      <td>0.58</td>\n",
       "      <td>9.8</td>\n",
       "      <td>6</td>\n",
       "    </tr>\n",
       "    <tr>\n",
       "      <th>4</th>\n",
       "      <td>7.4</td>\n",
       "      <td>0.70</td>\n",
       "      <td>0.00</td>\n",
       "      <td>1.9</td>\n",
       "      <td>0.076</td>\n",
       "      <td>11.0</td>\n",
       "      <td>34.0</td>\n",
       "      <td>0.9978</td>\n",
       "      <td>3.51</td>\n",
       "      <td>0.56</td>\n",
       "      <td>9.4</td>\n",
       "      <td>5</td>\n",
       "    </tr>\n",
       "  </tbody>\n",
       "</table>\n",
       "</div>"
      ],
      "text/plain": [
       "   fixed acidity  volatile acidity  citric acid  residual sugar  chlorides  \\\n",
       "0            7.4              0.70         0.00             1.9      0.076   \n",
       "1            7.8              0.88         0.00             2.6      0.098   \n",
       "2            7.8              0.76         0.04             2.3      0.092   \n",
       "3           11.2              0.28         0.56             1.9      0.075   \n",
       "4            7.4              0.70         0.00             1.9      0.076   \n",
       "\n",
       "   free sulfur dioxide  total sulfur dioxide  density    pH  sulphates  \\\n",
       "0                 11.0                  34.0   0.9978  3.51       0.56   \n",
       "1                 25.0                  67.0   0.9968  3.20       0.68   \n",
       "2                 15.0                  54.0   0.9970  3.26       0.65   \n",
       "3                 17.0                  60.0   0.9980  3.16       0.58   \n",
       "4                 11.0                  34.0   0.9978  3.51       0.56   \n",
       "\n",
       "   alcohol  quality  \n",
       "0      9.4        5  \n",
       "1      9.8        5  \n",
       "2      9.8        5  \n",
       "3      9.8        6  \n",
       "4      9.4        5  "
      ]
     },
     "execution_count": 4,
     "metadata": {},
     "output_type": "execute_result"
    }
   ],
   "source": [
    "red.head()"
   ]
  },
  {
   "cell_type": "code",
   "execution_count": 5,
   "metadata": {
    "execution": {
     "iopub.execute_input": "2020-12-18T10:11:01.029282Z",
     "iopub.status.busy": "2020-12-18T10:11:01.028677Z",
     "iopub.status.idle": "2020-12-18T10:11:01.045132Z",
     "shell.execute_reply": "2020-12-18T10:11:01.045738Z"
    },
    "papermill": {
     "duration": 0.056184,
     "end_time": "2020-12-18T10:11:01.045896",
     "exception": false,
     "start_time": "2020-12-18T10:11:00.989712",
     "status": "completed"
    },
    "tags": []
   },
   "outputs": [
    {
     "name": "stdout",
     "output_type": "stream",
     "text": [
      "<class 'pandas.core.frame.DataFrame'>\n",
      "RangeIndex: 1599 entries, 0 to 1598\n",
      "Data columns (total 12 columns):\n",
      " #   Column                Non-Null Count  Dtype  \n",
      "---  ------                --------------  -----  \n",
      " 0   fixed acidity         1599 non-null   float64\n",
      " 1   volatile acidity      1599 non-null   float64\n",
      " 2   citric acid           1599 non-null   float64\n",
      " 3   residual sugar        1599 non-null   float64\n",
      " 4   chlorides             1599 non-null   float64\n",
      " 5   free sulfur dioxide   1599 non-null   float64\n",
      " 6   total sulfur dioxide  1599 non-null   float64\n",
      " 7   density               1599 non-null   float64\n",
      " 8   pH                    1599 non-null   float64\n",
      " 9   sulphates             1599 non-null   float64\n",
      " 10  alcohol               1599 non-null   float64\n",
      " 11  quality               1599 non-null   int64  \n",
      "dtypes: float64(11), int64(1)\n",
      "memory usage: 150.0 KB\n"
     ]
    }
   ],
   "source": [
    "red.info()"
   ]
  },
  {
   "cell_type": "code",
   "execution_count": 6,
   "metadata": {
    "execution": {
     "iopub.execute_input": "2020-12-18T10:11:01.129866Z",
     "iopub.status.busy": "2020-12-18T10:11:01.129129Z",
     "iopub.status.idle": "2020-12-18T10:11:01.172964Z",
     "shell.execute_reply": "2020-12-18T10:11:01.173640Z"
    },
    "papermill": {
     "duration": 0.088473,
     "end_time": "2020-12-18T10:11:01.173812",
     "exception": false,
     "start_time": "2020-12-18T10:11:01.085339",
     "status": "completed"
    },
    "tags": []
   },
   "outputs": [
    {
     "data": {
      "text/html": [
       "<div>\n",
       "<style scoped>\n",
       "    .dataframe tbody tr th:only-of-type {\n",
       "        vertical-align: middle;\n",
       "    }\n",
       "\n",
       "    .dataframe tbody tr th {\n",
       "        vertical-align: top;\n",
       "    }\n",
       "\n",
       "    .dataframe thead th {\n",
       "        text-align: right;\n",
       "    }\n",
       "</style>\n",
       "<table border=\"1\" class=\"dataframe\">\n",
       "  <thead>\n",
       "    <tr style=\"text-align: right;\">\n",
       "      <th></th>\n",
       "      <th>Type</th>\n",
       "      <th>Unique</th>\n",
       "      <th>Null</th>\n",
       "      <th>Null percent</th>\n",
       "      <th>Mean</th>\n",
       "      <th>Std</th>\n",
       "    </tr>\n",
       "  </thead>\n",
       "  <tbody>\n",
       "    <tr>\n",
       "      <th>fixed acidity</th>\n",
       "      <td>float64</td>\n",
       "      <td>96</td>\n",
       "      <td>0</td>\n",
       "      <td>0.0</td>\n",
       "      <td>8.319637</td>\n",
       "      <td>1.741096</td>\n",
       "    </tr>\n",
       "    <tr>\n",
       "      <th>volatile acidity</th>\n",
       "      <td>float64</td>\n",
       "      <td>143</td>\n",
       "      <td>0</td>\n",
       "      <td>0.0</td>\n",
       "      <td>0.527821</td>\n",
       "      <td>0.179060</td>\n",
       "    </tr>\n",
       "    <tr>\n",
       "      <th>citric acid</th>\n",
       "      <td>float64</td>\n",
       "      <td>80</td>\n",
       "      <td>0</td>\n",
       "      <td>0.0</td>\n",
       "      <td>0.270976</td>\n",
       "      <td>0.194801</td>\n",
       "    </tr>\n",
       "    <tr>\n",
       "      <th>residual sugar</th>\n",
       "      <td>float64</td>\n",
       "      <td>91</td>\n",
       "      <td>0</td>\n",
       "      <td>0.0</td>\n",
       "      <td>2.538806</td>\n",
       "      <td>1.409928</td>\n",
       "    </tr>\n",
       "    <tr>\n",
       "      <th>chlorides</th>\n",
       "      <td>float64</td>\n",
       "      <td>153</td>\n",
       "      <td>0</td>\n",
       "      <td>0.0</td>\n",
       "      <td>0.087467</td>\n",
       "      <td>0.047065</td>\n",
       "    </tr>\n",
       "    <tr>\n",
       "      <th>free sulfur dioxide</th>\n",
       "      <td>float64</td>\n",
       "      <td>60</td>\n",
       "      <td>0</td>\n",
       "      <td>0.0</td>\n",
       "      <td>15.874922</td>\n",
       "      <td>10.460157</td>\n",
       "    </tr>\n",
       "    <tr>\n",
       "      <th>total sulfur dioxide</th>\n",
       "      <td>float64</td>\n",
       "      <td>144</td>\n",
       "      <td>0</td>\n",
       "      <td>0.0</td>\n",
       "      <td>46.467792</td>\n",
       "      <td>32.895324</td>\n",
       "    </tr>\n",
       "    <tr>\n",
       "      <th>density</th>\n",
       "      <td>float64</td>\n",
       "      <td>436</td>\n",
       "      <td>0</td>\n",
       "      <td>0.0</td>\n",
       "      <td>0.996747</td>\n",
       "      <td>0.001887</td>\n",
       "    </tr>\n",
       "    <tr>\n",
       "      <th>pH</th>\n",
       "      <td>float64</td>\n",
       "      <td>89</td>\n",
       "      <td>0</td>\n",
       "      <td>0.0</td>\n",
       "      <td>3.311113</td>\n",
       "      <td>0.154386</td>\n",
       "    </tr>\n",
       "    <tr>\n",
       "      <th>sulphates</th>\n",
       "      <td>float64</td>\n",
       "      <td>96</td>\n",
       "      <td>0</td>\n",
       "      <td>0.0</td>\n",
       "      <td>0.658149</td>\n",
       "      <td>0.169507</td>\n",
       "    </tr>\n",
       "    <tr>\n",
       "      <th>alcohol</th>\n",
       "      <td>float64</td>\n",
       "      <td>65</td>\n",
       "      <td>0</td>\n",
       "      <td>0.0</td>\n",
       "      <td>10.422983</td>\n",
       "      <td>1.065668</td>\n",
       "    </tr>\n",
       "    <tr>\n",
       "      <th>quality</th>\n",
       "      <td>int64</td>\n",
       "      <td>6</td>\n",
       "      <td>0</td>\n",
       "      <td>0.0</td>\n",
       "      <td>5.636023</td>\n",
       "      <td>0.807569</td>\n",
       "    </tr>\n",
       "  </tbody>\n",
       "</table>\n",
       "</div>"
      ],
      "text/plain": [
       "                         Type  Unique  Null  Null percent       Mean  \\\n",
       "fixed acidity         float64      96     0           0.0   8.319637   \n",
       "volatile acidity      float64     143     0           0.0   0.527821   \n",
       "citric acid           float64      80     0           0.0   0.270976   \n",
       "residual sugar        float64      91     0           0.0   2.538806   \n",
       "chlorides             float64     153     0           0.0   0.087467   \n",
       "free sulfur dioxide   float64      60     0           0.0  15.874922   \n",
       "total sulfur dioxide  float64     144     0           0.0  46.467792   \n",
       "density               float64     436     0           0.0   0.996747   \n",
       "pH                    float64      89     0           0.0   3.311113   \n",
       "sulphates             float64      96     0           0.0   0.658149   \n",
       "alcohol               float64      65     0           0.0  10.422983   \n",
       "quality                 int64       6     0           0.0   5.636023   \n",
       "\n",
       "                            Std  \n",
       "fixed acidity          1.741096  \n",
       "volatile acidity       0.179060  \n",
       "citric acid            0.194801  \n",
       "residual sugar         1.409928  \n",
       "chlorides              0.047065  \n",
       "free sulfur dioxide   10.460157  \n",
       "total sulfur dioxide  32.895324  \n",
       "density                0.001887  \n",
       "pH                     0.154386  \n",
       "sulphates              0.169507  \n",
       "alcohol                1.065668  \n",
       "quality                0.807569  "
      ]
     },
     "execution_count": 6,
     "metadata": {},
     "output_type": "execute_result"
    }
   ],
   "source": [
    "pd.DataFrame({\"Type\": red.dtypes,\n",
    "              \"Unique\": red.nunique(),\n",
    "              \"Null\": red.isnull().sum(),\n",
    "              \"Null percent\": red.isnull().sum() / len(red),\n",
    "              \"Mean\": red.mean(),\n",
    "              \"Std\": red.std()})"
   ]
  },
  {
   "cell_type": "markdown",
   "metadata": {
    "papermill": {
     "duration": 0.037548,
     "end_time": "2020-12-18T10:11:01.253814",
     "exception": false,
     "start_time": "2020-12-18T10:11:01.216266",
     "status": "completed"
    },
    "tags": []
   },
   "source": [
    "Mmmmm, there are no nulls, what a data set!"
   ]
  },
  {
   "cell_type": "code",
   "execution_count": 7,
   "metadata": {
    "execution": {
     "iopub.execute_input": "2020-12-18T10:11:01.338725Z",
     "iopub.status.busy": "2020-12-18T10:11:01.338050Z",
     "iopub.status.idle": "2020-12-18T10:11:01.384227Z",
     "shell.execute_reply": "2020-12-18T10:11:01.384771Z"
    },
    "papermill": {
     "duration": 0.093629,
     "end_time": "2020-12-18T10:11:01.384942",
     "exception": false,
     "start_time": "2020-12-18T10:11:01.291313",
     "status": "completed"
    },
    "tags": []
   },
   "outputs": [
    {
     "data": {
      "text/html": [
       "<div>\n",
       "<style scoped>\n",
       "    .dataframe tbody tr th:only-of-type {\n",
       "        vertical-align: middle;\n",
       "    }\n",
       "\n",
       "    .dataframe tbody tr th {\n",
       "        vertical-align: top;\n",
       "    }\n",
       "\n",
       "    .dataframe thead th {\n",
       "        text-align: right;\n",
       "    }\n",
       "</style>\n",
       "<table border=\"1\" class=\"dataframe\">\n",
       "  <thead>\n",
       "    <tr style=\"text-align: right;\">\n",
       "      <th></th>\n",
       "      <th>count</th>\n",
       "      <th>mean</th>\n",
       "      <th>std</th>\n",
       "      <th>min</th>\n",
       "      <th>25%</th>\n",
       "      <th>50%</th>\n",
       "      <th>75%</th>\n",
       "      <th>max</th>\n",
       "    </tr>\n",
       "  </thead>\n",
       "  <tbody>\n",
       "    <tr>\n",
       "      <th>fixed acidity</th>\n",
       "      <td>1599.0</td>\n",
       "      <td>8.319637</td>\n",
       "      <td>1.741096</td>\n",
       "      <td>4.60000</td>\n",
       "      <td>7.1000</td>\n",
       "      <td>7.90000</td>\n",
       "      <td>9.200000</td>\n",
       "      <td>15.90000</td>\n",
       "    </tr>\n",
       "    <tr>\n",
       "      <th>volatile acidity</th>\n",
       "      <td>1599.0</td>\n",
       "      <td>0.527821</td>\n",
       "      <td>0.179060</td>\n",
       "      <td>0.12000</td>\n",
       "      <td>0.3900</td>\n",
       "      <td>0.52000</td>\n",
       "      <td>0.640000</td>\n",
       "      <td>1.58000</td>\n",
       "    </tr>\n",
       "    <tr>\n",
       "      <th>citric acid</th>\n",
       "      <td>1599.0</td>\n",
       "      <td>0.270976</td>\n",
       "      <td>0.194801</td>\n",
       "      <td>0.00000</td>\n",
       "      <td>0.0900</td>\n",
       "      <td>0.26000</td>\n",
       "      <td>0.420000</td>\n",
       "      <td>1.00000</td>\n",
       "    </tr>\n",
       "    <tr>\n",
       "      <th>residual sugar</th>\n",
       "      <td>1599.0</td>\n",
       "      <td>2.538806</td>\n",
       "      <td>1.409928</td>\n",
       "      <td>0.90000</td>\n",
       "      <td>1.9000</td>\n",
       "      <td>2.20000</td>\n",
       "      <td>2.600000</td>\n",
       "      <td>15.50000</td>\n",
       "    </tr>\n",
       "    <tr>\n",
       "      <th>chlorides</th>\n",
       "      <td>1599.0</td>\n",
       "      <td>0.087467</td>\n",
       "      <td>0.047065</td>\n",
       "      <td>0.01200</td>\n",
       "      <td>0.0700</td>\n",
       "      <td>0.07900</td>\n",
       "      <td>0.090000</td>\n",
       "      <td>0.61100</td>\n",
       "    </tr>\n",
       "    <tr>\n",
       "      <th>free sulfur dioxide</th>\n",
       "      <td>1599.0</td>\n",
       "      <td>15.874922</td>\n",
       "      <td>10.460157</td>\n",
       "      <td>1.00000</td>\n",
       "      <td>7.0000</td>\n",
       "      <td>14.00000</td>\n",
       "      <td>21.000000</td>\n",
       "      <td>72.00000</td>\n",
       "    </tr>\n",
       "    <tr>\n",
       "      <th>total sulfur dioxide</th>\n",
       "      <td>1599.0</td>\n",
       "      <td>46.467792</td>\n",
       "      <td>32.895324</td>\n",
       "      <td>6.00000</td>\n",
       "      <td>22.0000</td>\n",
       "      <td>38.00000</td>\n",
       "      <td>62.000000</td>\n",
       "      <td>289.00000</td>\n",
       "    </tr>\n",
       "    <tr>\n",
       "      <th>density</th>\n",
       "      <td>1599.0</td>\n",
       "      <td>0.996747</td>\n",
       "      <td>0.001887</td>\n",
       "      <td>0.99007</td>\n",
       "      <td>0.9956</td>\n",
       "      <td>0.99675</td>\n",
       "      <td>0.997835</td>\n",
       "      <td>1.00369</td>\n",
       "    </tr>\n",
       "    <tr>\n",
       "      <th>pH</th>\n",
       "      <td>1599.0</td>\n",
       "      <td>3.311113</td>\n",
       "      <td>0.154386</td>\n",
       "      <td>2.74000</td>\n",
       "      <td>3.2100</td>\n",
       "      <td>3.31000</td>\n",
       "      <td>3.400000</td>\n",
       "      <td>4.01000</td>\n",
       "    </tr>\n",
       "    <tr>\n",
       "      <th>sulphates</th>\n",
       "      <td>1599.0</td>\n",
       "      <td>0.658149</td>\n",
       "      <td>0.169507</td>\n",
       "      <td>0.33000</td>\n",
       "      <td>0.5500</td>\n",
       "      <td>0.62000</td>\n",
       "      <td>0.730000</td>\n",
       "      <td>2.00000</td>\n",
       "    </tr>\n",
       "    <tr>\n",
       "      <th>alcohol</th>\n",
       "      <td>1599.0</td>\n",
       "      <td>10.422983</td>\n",
       "      <td>1.065668</td>\n",
       "      <td>8.40000</td>\n",
       "      <td>9.5000</td>\n",
       "      <td>10.20000</td>\n",
       "      <td>11.100000</td>\n",
       "      <td>14.90000</td>\n",
       "    </tr>\n",
       "    <tr>\n",
       "      <th>quality</th>\n",
       "      <td>1599.0</td>\n",
       "      <td>5.636023</td>\n",
       "      <td>0.807569</td>\n",
       "      <td>3.00000</td>\n",
       "      <td>5.0000</td>\n",
       "      <td>6.00000</td>\n",
       "      <td>6.000000</td>\n",
       "      <td>8.00000</td>\n",
       "    </tr>\n",
       "  </tbody>\n",
       "</table>\n",
       "</div>"
      ],
      "text/plain": [
       "                       count       mean        std      min      25%  \\\n",
       "fixed acidity         1599.0   8.319637   1.741096  4.60000   7.1000   \n",
       "volatile acidity      1599.0   0.527821   0.179060  0.12000   0.3900   \n",
       "citric acid           1599.0   0.270976   0.194801  0.00000   0.0900   \n",
       "residual sugar        1599.0   2.538806   1.409928  0.90000   1.9000   \n",
       "chlorides             1599.0   0.087467   0.047065  0.01200   0.0700   \n",
       "free sulfur dioxide   1599.0  15.874922  10.460157  1.00000   7.0000   \n",
       "total sulfur dioxide  1599.0  46.467792  32.895324  6.00000  22.0000   \n",
       "density               1599.0   0.996747   0.001887  0.99007   0.9956   \n",
       "pH                    1599.0   3.311113   0.154386  2.74000   3.2100   \n",
       "sulphates             1599.0   0.658149   0.169507  0.33000   0.5500   \n",
       "alcohol               1599.0  10.422983   1.065668  8.40000   9.5000   \n",
       "quality               1599.0   5.636023   0.807569  3.00000   5.0000   \n",
       "\n",
       "                           50%        75%        max  \n",
       "fixed acidity          7.90000   9.200000   15.90000  \n",
       "volatile acidity       0.52000   0.640000    1.58000  \n",
       "citric acid            0.26000   0.420000    1.00000  \n",
       "residual sugar         2.20000   2.600000   15.50000  \n",
       "chlorides              0.07900   0.090000    0.61100  \n",
       "free sulfur dioxide   14.00000  21.000000   72.00000  \n",
       "total sulfur dioxide  38.00000  62.000000  289.00000  \n",
       "density                0.99675   0.997835    1.00369  \n",
       "pH                     3.31000   3.400000    4.01000  \n",
       "sulphates              0.62000   0.730000    2.00000  \n",
       "alcohol               10.20000  11.100000   14.90000  \n",
       "quality                6.00000   6.000000    8.00000  "
      ]
     },
     "execution_count": 7,
     "metadata": {},
     "output_type": "execute_result"
    }
   ],
   "source": [
    "red.describe().T"
   ]
  },
  {
   "cell_type": "markdown",
   "metadata": {
    "papermill": {
     "duration": 0.03867,
     "end_time": "2020-12-18T10:11:01.469840",
     "exception": false,
     "start_time": "2020-12-18T10:11:01.431170",
     "status": "completed"
    },
    "tags": []
   },
   "source": [
    "## Explore the Data"
   ]
  },
  {
   "cell_type": "markdown",
   "metadata": {
    "papermill": {
     "duration": 0.03883,
     "end_time": "2020-12-18T10:11:01.547607",
     "exception": false,
     "start_time": "2020-12-18T10:11:01.508777",
     "status": "completed"
    },
    "tags": []
   },
   "source": [
    "How are the features distributed?"
   ]
  },
  {
   "cell_type": "code",
   "execution_count": 8,
   "metadata": {
    "execution": {
     "iopub.execute_input": "2020-12-18T10:11:01.628862Z",
     "iopub.status.busy": "2020-12-18T10:11:01.628193Z",
     "iopub.status.idle": "2020-12-18T10:11:04.882702Z",
     "shell.execute_reply": "2020-12-18T10:11:04.882121Z"
    },
    "papermill": {
     "duration": 3.296282,
     "end_time": "2020-12-18T10:11:04.882826",
     "exception": false,
     "start_time": "2020-12-18T10:11:01.586544",
     "status": "completed"
    },
    "tags": []
   },
   "outputs": [
    {
     "data": {
      "image/png": "[encoded data removed]",
      "text/plain": [
       "<Figure size 1080x864 with 12 Axes>"
      ]
     },
     "metadata": {
      "needs_background": "light"
     },
     "output_type": "display_data"
    }
   ],
   "source": [
    "red.hist(bins=50, figsize=(15,12));"
   ]
  },
  {
   "cell_type": "markdown",
   "metadata": {
    "papermill": {
     "duration": 0.03994,
     "end_time": "2020-12-18T10:11:04.964641",
     "exception": false,
     "start_time": "2020-12-18T10:11:04.924701",
     "status": "completed"
    },
    "tags": []
   },
   "source": [
    "Let's check how our target variable, the quality score, is distributed:"
   ]
  },
  {
   "cell_type": "code",
   "execution_count": 9,
   "metadata": {
    "execution": {
     "iopub.execute_input": "2020-12-18T10:11:05.055704Z",
     "iopub.status.busy": "2020-12-18T10:11:05.055025Z",
     "iopub.status.idle": "2020-12-18T10:11:05.059198Z",
     "shell.execute_reply": "2020-12-18T10:11:05.059802Z"
    },
    "papermill": {
     "duration": 0.05452,
     "end_time": "2020-12-18T10:11:05.059949",
     "exception": false,
     "start_time": "2020-12-18T10:11:05.005429",
     "status": "completed"
    },
    "tags": []
   },
   "outputs": [
    {
     "name": "stdout",
     "output_type": "stream",
     "text": [
      "Percentage of quality scores\n"
     ]
    },
    {
     "data": {
      "text/plain": [
       "5    42.589118\n",
       "6    39.899937\n",
       "7    12.445278\n",
       "4     3.314572\n",
       "8     1.125704\n",
       "3     0.625391\n",
       "Name: quality, dtype: float64"
      ]
     },
     "execution_count": 9,
     "metadata": {},
     "output_type": "execute_result"
    }
   ],
   "source": [
    "print(f\"Percentage of quality scores\")\n",
    "red[\"quality\"].value_counts(normalize=True) * 100"
   ]
  },
  {
   "cell_type": "markdown",
   "metadata": {
    "papermill": {
     "duration": 0.041474,
     "end_time": "2020-12-18T10:11:05.143004",
     "exception": false,
     "start_time": "2020-12-18T10:11:05.101530",
     "status": "completed"
    },
    "tags": []
   },
   "source": [
    "It is significantly unbalanced. Most instances (82%) have scores of 6 or 5."
   ]
  },
  {
   "cell_type": "markdown",
   "metadata": {
    "papermill": {
     "duration": 0.04183,
     "end_time": "2020-12-18T10:11:05.226756",
     "exception": false,
     "start_time": "2020-12-18T10:11:05.184926",
     "status": "completed"
    },
    "tags": []
   },
   "source": [
    "We are going to check the correlations between the attributes of the dataset:"
   ]
  },
  {
   "cell_type": "code",
   "execution_count": 10,
   "metadata": {
    "execution": {
     "iopub.execute_input": "2020-12-18T10:11:05.319375Z",
     "iopub.status.busy": "2020-12-18T10:11:05.318618Z",
     "iopub.status.idle": "2020-12-18T10:11:05.342297Z",
     "shell.execute_reply": "2020-12-18T10:11:05.342885Z"
    },
    "papermill": {
     "duration": 0.074494,
     "end_time": "2020-12-18T10:11:05.343032",
     "exception": false,
     "start_time": "2020-12-18T10:11:05.268538",
     "status": "completed"
    },
    "tags": []
   },
   "outputs": [
    {
     "data": {
      "text/html": [
       "<div>\n",
       "<style scoped>\n",
       "    .dataframe tbody tr th:only-of-type {\n",
       "        vertical-align: middle;\n",
       "    }\n",
       "\n",
       "    .dataframe tbody tr th {\n",
       "        vertical-align: top;\n",
       "    }\n",
       "\n",
       "    .dataframe thead th {\n",
       "        text-align: right;\n",
       "    }\n",
       "</style>\n",
       "<table border=\"1\" class=\"dataframe\">\n",
       "  <thead>\n",
       "    <tr style=\"text-align: right;\">\n",
       "      <th></th>\n",
       "      <th>fixed acidity</th>\n",
       "      <th>volatile acidity</th>\n",
       "      <th>citric acid</th>\n",
       "      <th>residual sugar</th>\n",
       "      <th>chlorides</th>\n",
       "      <th>free sulfur dioxide</th>\n",
       "      <th>total sulfur dioxide</th>\n",
       "      <th>density</th>\n",
       "      <th>pH</th>\n",
       "      <th>sulphates</th>\n",
       "      <th>alcohol</th>\n",
       "      <th>quality</th>\n",
       "    </tr>\n",
       "  </thead>\n",
       "  <tbody>\n",
       "    <tr>\n",
       "      <th>fixed acidity</th>\n",
       "      <td>1.000000</td>\n",
       "      <td>-0.256131</td>\n",
       "      <td>0.671703</td>\n",
       "      <td>0.114777</td>\n",
       "      <td>0.093705</td>\n",
       "      <td>-0.153794</td>\n",
       "      <td>-0.113181</td>\n",
       "      <td>0.668047</td>\n",
       "      <td>-0.682978</td>\n",
       "      <td>0.183006</td>\n",
       "      <td>-0.061668</td>\n",
       "      <td>0.124052</td>\n",
       "    </tr>\n",
       "    <tr>\n",
       "      <th>volatile acidity</th>\n",
       "      <td>-0.256131</td>\n",
       "      <td>1.000000</td>\n",
       "      <td>-0.552496</td>\n",
       "      <td>0.001918</td>\n",
       "      <td>0.061298</td>\n",
       "      <td>-0.010504</td>\n",
       "      <td>0.076470</td>\n",
       "      <td>0.022026</td>\n",
       "      <td>0.234937</td>\n",
       "      <td>-0.260987</td>\n",
       "      <td>-0.202288</td>\n",
       "      <td>-0.390558</td>\n",
       "    </tr>\n",
       "    <tr>\n",
       "      <th>citric acid</th>\n",
       "      <td>0.671703</td>\n",
       "      <td>-0.552496</td>\n",
       "      <td>1.000000</td>\n",
       "      <td>0.143577</td>\n",
       "      <td>0.203823</td>\n",
       "      <td>-0.060978</td>\n",
       "      <td>0.035533</td>\n",
       "      <td>0.364947</td>\n",
       "      <td>-0.541904</td>\n",
       "      <td>0.312770</td>\n",
       "      <td>0.109903</td>\n",
       "      <td>0.226373</td>\n",
       "    </tr>\n",
       "    <tr>\n",
       "      <th>residual sugar</th>\n",
       "      <td>0.114777</td>\n",
       "      <td>0.001918</td>\n",
       "      <td>0.143577</td>\n",
       "      <td>1.000000</td>\n",
       "      <td>0.055610</td>\n",
       "      <td>0.187049</td>\n",
       "      <td>0.203028</td>\n",
       "      <td>0.355283</td>\n",
       "      <td>-0.085652</td>\n",
       "      <td>0.005527</td>\n",
       "      <td>0.042075</td>\n",
       "      <td>0.013732</td>\n",
       "    </tr>\n",
       "    <tr>\n",
       "      <th>chlorides</th>\n",
       "      <td>0.093705</td>\n",
       "      <td>0.061298</td>\n",
       "      <td>0.203823</td>\n",
       "      <td>0.055610</td>\n",
       "      <td>1.000000</td>\n",
       "      <td>0.005562</td>\n",
       "      <td>0.047400</td>\n",
       "      <td>0.200632</td>\n",
       "      <td>-0.265026</td>\n",
       "      <td>0.371260</td>\n",
       "      <td>-0.221141</td>\n",
       "      <td>-0.128907</td>\n",
       "    </tr>\n",
       "    <tr>\n",
       "      <th>free sulfur dioxide</th>\n",
       "      <td>-0.153794</td>\n",
       "      <td>-0.010504</td>\n",
       "      <td>-0.060978</td>\n",
       "      <td>0.187049</td>\n",
       "      <td>0.005562</td>\n",
       "      <td>1.000000</td>\n",
       "      <td>0.667666</td>\n",
       "      <td>-0.021946</td>\n",
       "      <td>0.070377</td>\n",
       "      <td>0.051658</td>\n",
       "      <td>-0.069408</td>\n",
       "      <td>-0.050656</td>\n",
       "    </tr>\n",
       "    <tr>\n",
       "      <th>total sulfur dioxide</th>\n",
       "      <td>-0.113181</td>\n",
       "      <td>0.076470</td>\n",
       "      <td>0.035533</td>\n",
       "      <td>0.203028</td>\n",
       "      <td>0.047400</td>\n",
       "      <td>0.667666</td>\n",
       "      <td>1.000000</td>\n",
       "      <td>0.071269</td>\n",
       "      <td>-0.066495</td>\n",
       "      <td>0.042947</td>\n",
       "      <td>-0.205654</td>\n",
       "      <td>-0.185100</td>\n",
       "    </tr>\n",
       "    <tr>\n",
       "      <th>density</th>\n",
       "      <td>0.668047</td>\n",
       "      <td>0.022026</td>\n",
       "      <td>0.364947</td>\n",
       "      <td>0.355283</td>\n",
       "      <td>0.200632</td>\n",
       "      <td>-0.021946</td>\n",
       "      <td>0.071269</td>\n",
       "      <td>1.000000</td>\n",
       "      <td>-0.341699</td>\n",
       "      <td>0.148506</td>\n",
       "      <td>-0.496180</td>\n",
       "      <td>-0.174919</td>\n",
       "    </tr>\n",
       "    <tr>\n",
       "      <th>pH</th>\n",
       "      <td>-0.682978</td>\n",
       "      <td>0.234937</td>\n",
       "      <td>-0.541904</td>\n",
       "      <td>-0.085652</td>\n",
       "      <td>-0.265026</td>\n",
       "      <td>0.070377</td>\n",
       "      <td>-0.066495</td>\n",
       "      <td>-0.341699</td>\n",
       "      <td>1.000000</td>\n",
       "      <td>-0.196648</td>\n",
       "      <td>0.205633</td>\n",
       "      <td>-0.057731</td>\n",
       "    </tr>\n",
       "    <tr>\n",
       "      <th>sulphates</th>\n",
       "      <td>0.183006</td>\n",
       "      <td>-0.260987</td>\n",
       "      <td>0.312770</td>\n",
       "      <td>0.005527</td>\n",
       "      <td>0.371260</td>\n",
       "      <td>0.051658</td>\n",
       "      <td>0.042947</td>\n",
       "      <td>0.148506</td>\n",
       "      <td>-0.196648</td>\n",
       "      <td>1.000000</td>\n",
       "      <td>0.093595</td>\n",
       "      <td>0.251397</td>\n",
       "    </tr>\n",
       "    <tr>\n",
       "      <th>alcohol</th>\n",
       "      <td>-0.061668</td>\n",
       "      <td>-0.202288</td>\n",
       "      <td>0.109903</td>\n",
       "      <td>0.042075</td>\n",
       "      <td>-0.221141</td>\n",
       "      <td>-0.069408</td>\n",
       "      <td>-0.205654</td>\n",
       "      <td>-0.496180</td>\n",
       "      <td>0.205633</td>\n",
       "      <td>0.093595</td>\n",
       "      <td>1.000000</td>\n",
       "      <td>0.476166</td>\n",
       "    </tr>\n",
       "    <tr>\n",
       "      <th>quality</th>\n",
       "      <td>0.124052</td>\n",
       "      <td>-0.390558</td>\n",
       "      <td>0.226373</td>\n",
       "      <td>0.013732</td>\n",
       "      <td>-0.128907</td>\n",
       "      <td>-0.050656</td>\n",
       "      <td>-0.185100</td>\n",
       "      <td>-0.174919</td>\n",
       "      <td>-0.057731</td>\n",
       "      <td>0.251397</td>\n",
       "      <td>0.476166</td>\n",
       "      <td>1.000000</td>\n",
       "    </tr>\n",
       "  </tbody>\n",
       "</table>\n",
       "</div>"
      ],
      "text/plain": [
       "                      fixed acidity  volatile acidity  citric acid  \\\n",
       "fixed acidity              1.000000         -0.256131     0.671703   \n",
       "volatile acidity          -0.256131          1.000000    -0.552496   \n",
       "citric acid                0.671703         -0.552496     1.000000   \n",
       "residual sugar             0.114777          0.001918     0.143577   \n",
       "chlorides                  0.093705          0.061298     0.203823   \n",
       "free sulfur dioxide       -0.153794         -0.010504    -0.060978   \n",
       "total sulfur dioxide      -0.113181          0.076470     0.035533   \n",
       "density                    0.668047          0.022026     0.364947   \n",
       "pH                        -0.682978          0.234937    -0.541904   \n",
       "sulphates                  0.183006         -0.260987     0.312770   \n",
       "alcohol                   -0.061668         -0.202288     0.109903   \n",
       "quality                    0.124052         -0.390558     0.226373   \n",
       "\n",
       "                      residual sugar  chlorides  free sulfur dioxide  \\\n",
       "fixed acidity               0.114777   0.093705            -0.153794   \n",
       "volatile acidity            0.001918   0.061298            -0.010504   \n",
       "citric acid                 0.143577   0.203823            -0.060978   \n",
       "residual sugar              1.000000   0.055610             0.187049   \n",
       "chlorides                   0.055610   1.000000             0.005562   \n",
       "free sulfur dioxide         0.187049   0.005562             1.000000   \n",
       "total sulfur dioxide        0.203028   0.047400             0.667666   \n",
       "density                     0.355283   0.200632            -0.021946   \n",
       "pH                         -0.085652  -0.265026             0.070377   \n",
       "sulphates                   0.005527   0.371260             0.051658   \n",
       "alcohol                     0.042075  -0.221141            -0.069408   \n",
       "quality                     0.013732  -0.128907            -0.050656   \n",
       "\n",
       "                      total sulfur dioxide   density        pH  sulphates  \\\n",
       "fixed acidity                    -0.113181  0.668047 -0.682978   0.183006   \n",
       "volatile acidity                  0.076470  0.022026  0.234937  -0.260987   \n",
       "citric acid                       0.035533  0.364947 -0.541904   0.312770   \n",
       "residual sugar                    0.203028  0.355283 -0.085652   0.005527   \n",
       "chlorides                         0.047400  0.200632 -0.265026   0.371260   \n",
       "free sulfur dioxide               0.667666 -0.021946  0.070377   0.051658   \n",
       "total sulfur dioxide              1.000000  0.071269 -0.066495   0.042947   \n",
       "density                           0.071269  1.000000 -0.341699   0.148506   \n",
       "pH                               -0.066495 -0.341699  1.000000  -0.196648   \n",
       "sulphates                         0.042947  0.148506 -0.196648   1.000000   \n",
       "alcohol                          -0.205654 -0.496180  0.205633   0.093595   \n",
       "quality                          -0.185100 -0.174919 -0.057731   0.251397   \n",
       "\n",
       "                       alcohol   quality  \n",
       "fixed acidity        -0.061668  0.124052  \n",
       "volatile acidity     -0.202288 -0.390558  \n",
       "citric acid           0.109903  0.226373  \n",
       "residual sugar        0.042075  0.013732  \n",
       "chlorides            -0.221141 -0.128907  \n",
       "free sulfur dioxide  -0.069408 -0.050656  \n",
       "total sulfur dioxide -0.205654 -0.185100  \n",
       "density              -0.496180 -0.174919  \n",
       "pH                    0.205633 -0.057731  \n",
       "sulphates             0.093595  0.251397  \n",
       "alcohol               1.000000  0.476166  \n",
       "quality               0.476166  1.000000  "
      ]
     },
     "execution_count": 10,
     "metadata": {},
     "output_type": "execute_result"
    }
   ],
   "source": [
    "corr_matrix = red.corr()\n",
    "corr_matrix"
   ]
  },
  {
   "cell_type": "code",
   "execution_count": 11,
   "metadata": {
    "execution": {
     "iopub.execute_input": "2020-12-18T10:11:05.434353Z",
     "iopub.status.busy": "2020-12-18T10:11:05.433674Z",
     "iopub.status.idle": "2020-12-18T10:11:06.414806Z",
     "shell.execute_reply": "2020-12-18T10:11:06.415344Z"
    },
    "papermill": {
     "duration": 1.030854,
     "end_time": "2020-12-18T10:11:06.415954",
     "exception": false,
     "start_time": "2020-12-18T10:11:05.385100",
     "status": "completed"
    },
    "tags": []
   },
   "outputs": [
    {
     "data": {
      "image/png": "[encoded data removed]",
      "text/plain": [
       "<Figure size 1080x720 with 2 Axes>"
      ]
     },
     "metadata": {
      "needs_background": "light"
     },
     "output_type": "display_data"
    }
   ],
   "source": [
    "plt.figure(figsize=(15,10))\n",
    "sns.heatmap(red.corr(), annot=True, cmap='coolwarm')\n",
    "plt.show()"
   ]
  },
  {
   "cell_type": "markdown",
   "metadata": {
    "papermill": {
     "duration": 0.044932,
     "end_time": "2020-12-18T10:11:06.506387",
     "exception": false,
     "start_time": "2020-12-18T10:11:06.461455",
     "status": "completed"
    },
    "tags": []
   },
   "source": [
    "We show only the correlations of the target variable with the rest of the attributes:"
   ]
  },
  {
   "cell_type": "code",
   "execution_count": 12,
   "metadata": {
    "execution": {
     "iopub.execute_input": "2020-12-18T10:11:06.605732Z",
     "iopub.status.busy": "2020-12-18T10:11:06.604910Z",
     "iopub.status.idle": "2020-12-18T10:11:06.609586Z",
     "shell.execute_reply": "2020-12-18T10:11:06.609037Z"
    },
    "papermill": {
     "duration": 0.058281,
     "end_time": "2020-12-18T10:11:06.609744",
     "exception": false,
     "start_time": "2020-12-18T10:11:06.551463",
     "status": "completed"
    },
    "tags": []
   },
   "outputs": [
    {
     "data": {
      "text/plain": [
       "alcohol                 0.476166\n",
       "sulphates               0.251397\n",
       "citric acid             0.226373\n",
       "fixed acidity           0.124052\n",
       "residual sugar          0.013732\n",
       "free sulfur dioxide    -0.050656\n",
       "pH                     -0.057731\n",
       "chlorides              -0.128907\n",
       "density                -0.174919\n",
       "total sulfur dioxide   -0.185100\n",
       "volatile acidity       -0.390558\n",
       "Name: quality, dtype: float64"
      ]
     },
     "execution_count": 12,
     "metadata": {},
     "output_type": "execute_result"
    }
   ],
   "source": [
    "corr_matrix[\"quality\"].drop(\"quality\").sort_values(ascending=False)"
   ]
  },
  {
   "cell_type": "code",
   "execution_count": 13,
   "metadata": {
    "execution": {
     "iopub.execute_input": "2020-12-18T10:11:06.727963Z",
     "iopub.status.busy": "2020-12-18T10:11:06.725923Z",
     "iopub.status.idle": "2020-12-18T10:11:06.912022Z",
     "shell.execute_reply": "2020-12-18T10:11:06.911311Z"
    },
    "papermill": {
     "duration": 0.250619,
     "end_time": "2020-12-18T10:11:06.912141",
     "exception": false,
     "start_time": "2020-12-18T10:11:06.661522",
     "status": "completed"
    },
    "tags": []
   },
   "outputs": [
    {
     "data": {
      "image/png": "[encoded data removed]",
      "text/plain": [
       "<Figure size 576x360 with 1 Axes>"
      ]
     },
     "metadata": {
      "needs_background": "light"
     },
     "output_type": "display_data"
    }
   ],
   "source": [
    "plt.figure(figsize=(8,5))\n",
    "corr_matrix[\"quality\"].drop(\"quality\").sort_values(ascending=False).plot(kind='bar')\n",
    "plt.title(\"Attribute correlations with quality\")\n",
    "plt.show()"
   ]
  },
  {
   "cell_type": "markdown",
   "metadata": {
    "papermill": {
     "duration": 0.046308,
     "end_time": "2020-12-18T10:11:07.004734",
     "exception": false,
     "start_time": "2020-12-18T10:11:06.958426",
     "status": "completed"
    },
    "tags": []
   },
   "source": [
    "## Prepare the Data"
   ]
  },
  {
   "cell_type": "markdown",
   "metadata": {
    "papermill": {
     "duration": 0.046045,
     "end_time": "2020-12-18T10:11:07.097152",
     "exception": false,
     "start_time": "2020-12-18T10:11:07.051107",
     "status": "completed"
    },
    "tags": []
   },
   "source": [
    "Create the predictor set and the set with the target variable:"
   ]
  },
  {
   "cell_type": "code",
   "execution_count": 14,
   "metadata": {
    "execution": {
     "iopub.execute_input": "2020-12-18T10:11:07.198101Z",
     "iopub.status.busy": "2020-12-18T10:11:07.197110Z",
     "iopub.status.idle": "2020-12-18T10:11:07.201889Z",
     "shell.execute_reply": "2020-12-18T10:11:07.201351Z"
    },
    "papermill": {
     "duration": 0.057142,
     "end_time": "2020-12-18T10:11:07.201999",
     "exception": false,
     "start_time": "2020-12-18T10:11:07.144857",
     "status": "completed"
    },
    "tags": []
   },
   "outputs": [
    {
     "data": {
      "text/plain": [
       "Index(['fixed acidity', 'volatile acidity', 'citric acid', 'residual sugar',\n",
       "       'chlorides', 'free sulfur dioxide', 'total sulfur dioxide', 'density',\n",
       "       'pH', 'sulphates', 'alcohol'],\n",
       "      dtype='object')"
      ]
     },
     "execution_count": 14,
     "metadata": {},
     "output_type": "execute_result"
    }
   ],
   "source": [
    "predict_columns = red.columns[:-1]\n",
    "predict_columns"
   ]
  },
  {
   "cell_type": "code",
   "execution_count": 15,
   "metadata": {
    "execution": {
     "iopub.execute_input": "2020-12-18T10:11:07.302589Z",
     "iopub.status.busy": "2020-12-18T10:11:07.301597Z",
     "iopub.status.idle": "2020-12-18T10:11:07.304610Z",
     "shell.execute_reply": "2020-12-18T10:11:07.304080Z"
    },
    "papermill": {
     "duration": 0.055376,
     "end_time": "2020-12-18T10:11:07.304739",
     "exception": false,
     "start_time": "2020-12-18T10:11:07.249363",
     "status": "completed"
    },
    "tags": []
   },
   "outputs": [],
   "source": [
    "X = red[predict_columns]\n",
    "y = red[\"quality\"]"
   ]
  },
  {
   "cell_type": "markdown",
   "metadata": {
    "papermill": {
     "duration": 0.046818,
     "end_time": "2020-12-18T10:11:07.399097",
     "exception": false,
     "start_time": "2020-12-18T10:11:07.352279",
     "status": "completed"
    },
    "tags": []
   },
   "source": [
    "Create the training and test datasets:"
   ]
  },
  {
   "cell_type": "code",
   "execution_count": 16,
   "metadata": {
    "execution": {
     "iopub.execute_input": "2020-12-18T10:11:07.500155Z",
     "iopub.status.busy": "2020-12-18T10:11:07.499333Z",
     "iopub.status.idle": "2020-12-18T10:11:07.503326Z",
     "shell.execute_reply": "2020-12-18T10:11:07.503849Z"
    },
    "papermill": {
     "duration": 0.058045,
     "end_time": "2020-12-18T10:11:07.503990",
     "exception": false,
     "start_time": "2020-12-18T10:11:07.445945",
     "status": "completed"
    },
    "tags": []
   },
   "outputs": [],
   "source": [
    "X_train, X_test, y_train, y_test = train_test_split(X, y, random_state=42, test_size=0.2)"
   ]
  },
  {
   "cell_type": "code",
   "execution_count": 17,
   "metadata": {
    "execution": {
     "iopub.execute_input": "2020-12-18T10:11:07.604636Z",
     "iopub.status.busy": "2020-12-18T10:11:07.603636Z",
     "iopub.status.idle": "2020-12-18T10:11:07.608148Z",
     "shell.execute_reply": "2020-12-18T10:11:07.607498Z"
    },
    "papermill": {
     "duration": 0.057039,
     "end_time": "2020-12-18T10:11:07.608257",
     "exception": false,
     "start_time": "2020-12-18T10:11:07.551218",
     "status": "completed"
    },
    "tags": []
   },
   "outputs": [
    {
     "data": {
      "text/plain": [
       "((1279, 11), (1279,))"
      ]
     },
     "execution_count": 17,
     "metadata": {},
     "output_type": "execute_result"
    }
   ],
   "source": [
    "X_train.shape, y_train.shape"
   ]
  },
  {
   "cell_type": "code",
   "execution_count": 18,
   "metadata": {
    "execution": {
     "iopub.execute_input": "2020-12-18T10:11:07.710848Z",
     "iopub.status.busy": "2020-12-18T10:11:07.709943Z",
     "iopub.status.idle": "2020-12-18T10:11:07.714390Z",
     "shell.execute_reply": "2020-12-18T10:11:07.713843Z"
    },
    "papermill": {
     "duration": 0.058111,
     "end_time": "2020-12-18T10:11:07.714494",
     "exception": false,
     "start_time": "2020-12-18T10:11:07.656383",
     "status": "completed"
    },
    "tags": []
   },
   "outputs": [
    {
     "data": {
      "text/plain": [
       "((320, 11), (320,))"
      ]
     },
     "execution_count": 18,
     "metadata": {},
     "output_type": "execute_result"
    }
   ],
   "source": [
    "X_test.shape, y_test.shape"
   ]
  },
  {
   "cell_type": "markdown",
   "metadata": {
    "papermill": {
     "duration": 0.048773,
     "end_time": "2020-12-18T10:11:07.813885",
     "exception": false,
     "start_time": "2020-12-18T10:11:07.765112",
     "status": "completed"
    },
    "tags": []
   },
   "source": [
    "## Shortlist Promising Models"
   ]
  },
  {
   "cell_type": "markdown",
   "metadata": {
    "papermill": {
     "duration": 0.04799,
     "end_time": "2020-12-18T10:11:07.910393",
     "exception": false,
     "start_time": "2020-12-18T10:11:07.862403",
     "status": "completed"
    },
    "tags": []
   },
   "source": [
    "OK, we're going train several quick-and-dirty models from different categories using standard parameters. We selected some of the regression models: Linear Regression, Lasso, ElasticNet, Ridge, Extre Trees, and RandomForest."
   ]
  },
  {
   "cell_type": "code",
   "execution_count": 19,
   "metadata": {
    "execution": {
     "iopub.execute_input": "2020-12-18T10:11:08.032348Z",
     "iopub.status.busy": "2020-12-18T10:11:08.031582Z",
     "iopub.status.idle": "2020-12-18T10:11:08.034546Z",
     "shell.execute_reply": "2020-12-18T10:11:08.033901Z"
    },
    "papermill": {
     "duration": 0.075955,
     "end_time": "2020-12-18T10:11:08.034698",
     "exception": false,
     "start_time": "2020-12-18T10:11:07.958743",
     "status": "completed"
    },
    "scrolled": true,
    "tags": []
   },
   "outputs": [],
   "source": [
    "def evaluate_model(estimator, X_train, y_train, cv=10, verbose=True):\n",
    "    \"\"\"Print and return cross validation of model\n",
    "    \"\"\"\n",
    "    scoring = [\"neg_mean_absolute_error\", \"neg_mean_squared_error\", \"r2\"]\n",
    "    scores = cross_validate(estimator, X_train, y_train, return_train_score=True, cv=cv, scoring=scoring)\n",
    "    \n",
    "    val_mae_mean, val_mae_std = -scores['test_neg_mean_absolute_error'].mean(), \\\n",
    "                                -scores['test_neg_mean_absolute_error'].std()\n",
    "    \n",
    "    train_mae_mean, train_mae_std = -scores['train_neg_mean_absolute_error'].mean(), \\\n",
    "                                    -scores['train_neg_mean_absolute_error'].std()\n",
    "    \n",
    "    val_mse_mean, val_mse_std = -scores['test_neg_mean_squared_error'].mean(), \\\n",
    "                                -scores['test_neg_mean_squared_error'].std()\n",
    "    \n",
    "    train_mse_mean, train_mse_std = -scores['train_neg_mean_squared_error'].mean(), \\\n",
    "                                    -scores['train_neg_mean_squared_error'].std()\n",
    "    \n",
    "    val_rmse_mean, val_rmse_std = np.sqrt(-scores['test_neg_mean_squared_error']).mean(), \\\n",
    "                                  np.sqrt(-scores['test_neg_mean_squared_error']).std()\n",
    "    \n",
    "    train_rmse_mean, train_rmse_std = np.sqrt(-scores['train_neg_mean_squared_error']).mean(), \\\n",
    "                                      np.sqrt(-scores['train_neg_mean_squared_error']).std()\n",
    "    \n",
    "    val_r2_mean, val_r2_std = scores['test_r2'].mean(), scores['test_r2'].std()\n",
    "    \n",
    "    train_r2_mean, train_r2_std = scores['train_r2'].mean(), scores['train_r2'].std()\n",
    "\n",
    "    \n",
    "    result = {\n",
    "        \"Val MAE\": val_mae_mean,\n",
    "        \"Val MAE std\": val_mae_std,\n",
    "        \"Train MAE\": train_mae_mean,\n",
    "        \"Train MAE std\": train_mae_std,\n",
    "        \"Val MSE\": val_mse_mean,\n",
    "        \"Val MSE std\": val_mse_std,\n",
    "        \"Train MSE\": train_mse_mean,\n",
    "        \"Train MSE std\": train_mse_std,\n",
    "        \"Val RMSE\": val_rmse_mean,\n",
    "        \"Val RMSE std\": val_rmse_std,\n",
    "        \"Train RMSE\": train_rmse_mean,\n",
    "        \"Train RMSE std\": train_rmse_std,\n",
    "        \"Val R2\": val_r2_mean,\n",
    "        \"Val R2 std\": val_r2_std,\n",
    "        \"Train R2\": train_rmse_mean,\n",
    "        \"Train R2 std\": train_r2_std,\n",
    "    }\n",
    "    \n",
    "    if verbose:\n",
    "        print(f\"val_MAE_mean: {val_mae_mean} - (std: {val_mae_std})\")\n",
    "        print(f\"train_MAE_mean: {train_mae_mean} - (std: {train_mae_std})\")\n",
    "        print(f\"val_MSE_mean: {val_mse_mean} - (std: {val_mse_std})\")\n",
    "        print(f\"train_MSE_mean: {train_mse_mean} - (std: {train_mse_std})\")\n",
    "        print(f\"val_RMSE_mean: {val_rmse_mean} - (std: {val_rmse_std})\")\n",
    "        print(f\"train_RMSE_mean: {train_rmse_mean} - (std: {train_rmse_std})\")\n",
    "        print(f\"val_R2_mean: {val_r2_mean} - (std: {val_r2_std})\")\n",
    "        print(f\"train_R2_mean: {train_r2_mean} - (std: {train_r2_std})\")\n",
    "\n",
    "    return result"
   ]
  },
  {
   "cell_type": "code",
   "execution_count": 20,
   "metadata": {
    "execution": {
     "iopub.execute_input": "2020-12-18T10:11:08.139966Z",
     "iopub.status.busy": "2020-12-18T10:11:08.139028Z",
     "iopub.status.idle": "2020-12-18T10:11:08.142123Z",
     "shell.execute_reply": "2020-12-18T10:11:08.141452Z"
    },
    "papermill": {
     "duration": 0.058361,
     "end_time": "2020-12-18T10:11:08.142235",
     "exception": false,
     "start_time": "2020-12-18T10:11:08.083874",
     "status": "completed"
    },
    "tags": []
   },
   "outputs": [],
   "source": [
    "models = [LinearRegression(), Lasso(alpha=0.1), ElasticNet(),\n",
    "          Ridge(), ExtraTreesRegressor(), RandomForestRegressor()]\n",
    "\n",
    "model_names = [\"Lineal Regression\", \"Lasso\", \"ElasticNet\",\n",
    "               \"Ridge\", \"Extra Tree\", \"Random Forest\"]"
   ]
  },
  {
   "cell_type": "code",
   "execution_count": 21,
   "metadata": {
    "execution": {
     "iopub.execute_input": "2020-12-18T10:11:08.248843Z",
     "iopub.status.busy": "2020-12-18T10:11:08.247931Z",
     "iopub.status.idle": "2020-12-18T10:11:20.040937Z",
     "shell.execute_reply": "2020-12-18T10:11:20.041427Z"
    },
    "papermill": {
     "duration": 11.85054,
     "end_time": "2020-12-18T10:11:20.041584",
     "exception": false,
     "start_time": "2020-12-18T10:11:08.191044",
     "status": "completed"
    },
    "tags": []
   },
   "outputs": [
    {
     "name": "stdout",
     "output_type": "stream",
     "text": [
      "Paso 1 de 6\n",
      "...running Lineal Regression\n",
      "val_MAE_mean: 0.5054157041773432 - (std: -0.04626497254937263)\n",
      "train_MAE_mean: 0.49951141240221775 - (std: -0.0053968346778861245)\n",
      "val_MSE_mean: 0.43633668466538794 - (std: -0.0713599197838866)\n",
      "train_MSE_mean: 0.42355991601136395 - (std: -0.007783364048942032)\n",
      "val_RMSE_mean: 0.6578988186927085 - (std: 0.059210041615646414)\n",
      "train_RMSE_mean: 0.6507877560250832 - (std: 0.005934022177307527)\n",
      "val_R2_mean: 0.3230213163533237 - (std: 0.09729583232858707)\n",
      "train_R2_mean: 0.3488833601783283 - (std: 0.00898820778651704)\n",
      "Paso 2 de 6\n",
      "...running Lasso\n",
      "val_MAE_mean: 0.5542159398138832 - (std: -0.04404488153789954)\n",
      "train_MAE_mean: 0.5519267693601051 - (std: -0.005222359881914161)\n",
      "val_MSE_mean: 0.5011613158962728 - (std: -0.07980261731926686)\n",
      "train_MSE_mean: 0.49648903729654786 - (std: -0.00886434349442918)\n",
      "val_RMSE_mean: 0.7054560563903938 - (std: 0.059102186071128736)\n",
      "train_RMSE_mean: 0.7045920060170998 - (std: 0.006256385006291064)\n",
      "val_R2_mean: 0.2255045701691521 - (std: 0.06858817248045987)\n",
      "train_R2_mean: 0.2367971572191113 - (std: 0.00806105119690765)\n",
      "Paso 3 de 6\n",
      "...running ElasticNet\n",
      "val_MAE_mean: 0.6484828644185054 - (std: -0.038586186659021526)\n",
      "train_MAE_mean: 0.6472074434172257 - (std: -0.004861676284701619)\n",
      "val_MSE_mean: 0.6260699925252777 - (std: -0.08837053843631361)\n",
      "train_MSE_mean: 0.6236958050351286 - (std: -0.009753039023728852)\n",
      "val_RMSE_mean: 0.7891968495348196 - (std: 0.056906284447264595)\n",
      "train_RMSE_mean: 0.7897200517246067 - (std: 0.0061680579774355)\n",
      "val_R2_mean: 0.03230044034303327 - (std: 0.02701374978650965)\n",
      "train_R2_mean: 0.041268269123349036 - (std: 0.0034334107542665334)\n",
      "Paso 4 de 6\n",
      "...running Ridge\n",
      "val_MAE_mean: 0.5052017417711607 - (std: -0.046391897779791566)\n",
      "train_MAE_mean: 0.5000120146851917 - (std: -0.00538293390792399)\n",
      "val_MSE_mean: 0.43536114119508385 - (std: -0.07150445371257742)\n",
      "train_MSE_mean: 0.4243933932521361 - (std: -0.007774091981744383)\n",
      "val_RMSE_mean: 0.6571341500690723 - (std: 0.059463013782364744)\n",
      "train_RMSE_mean: 0.6514279204128516 - (std: 0.005920959273934423)\n",
      "val_R2_mean: 0.32476443307512515 - (std: 0.09605257129964478)\n",
      "train_R2_mean: 0.3476024511130947 - (std: 0.008930125734591784)\n",
      "Paso 5 de 6\n",
      "...running Extra Tree\n",
      "val_MAE_mean: 0.3777671628937008 - (std: -0.049975313462236035)\n",
      "train_MAE_mean: -0.0 - (std: -0.0)\n",
      "val_MSE_mean: 0.3388529558316929 - (std: -0.07236735440615712)\n",
      "train_MSE_mean: -0.0 - (std: -0.0)\n",
      "val_RMSE_mean: 0.5786113647016615 - (std: 0.06373260131026923)\n",
      "train_RMSE_mean: 0.0 - (std: 0.0)\n",
      "val_R2_mean: 0.47641509246659675 - (std: 0.08737480621654682)\n",
      "train_R2_mean: 1.0 - (std: 0.0)\n",
      "Paso 6 de 6\n",
      "...running Random Forest\n",
      "val_MAE_mean: 0.4210044906496063 - (std: -0.039659374683270195)\n",
      "train_MAE_mean: 0.15706961337966982 - (std: -0.0027334781629625117)\n",
      "val_MSE_mean: 0.3542072237942913 - (std: -0.06750238598173096)\n",
      "train_MSE_mean: 0.04965992446182064 - (std: -0.0016778658677625985)\n",
      "val_RMSE_mean: 0.5922052811638994 - (std: 0.05916188600677166)\n",
      "train_RMSE_mean: 0.22281321571380852 - (std: 0.0037676736977166206)\n",
      "val_R2_mean: 0.45065228184082057 - (std: 0.09066319230819776)\n",
      "train_R2_mean: 0.9236601298907203 - (std: 0.0024323959491036377)\n"
     ]
    }
   ],
   "source": [
    "mae = []\n",
    "mse = []\n",
    "rmse = []\n",
    "r2 = []\n",
    "\n",
    "for model in range(len(models)):\n",
    "    print(f\"Paso {model+1} de {len(models)}\")\n",
    "    print(f\"...running {model_names[model]}\")\n",
    "    \n",
    "    rg_scores = evaluate_model(models[model], X_train, y_train)\n",
    "    \n",
    "    mae.append(rg_scores[\"Val MAE\"])\n",
    "    mse.append(rg_scores[\"Val MSE\"])\n",
    "    rmse.append(rg_scores[\"Val RMSE\"])\n",
    "    r2.append(rg_scores[\"Val R2\"])"
   ]
  },
  {
   "cell_type": "markdown",
   "metadata": {
    "papermill": {
     "duration": 0.050866,
     "end_time": "2020-12-18T10:11:20.143650",
     "exception": false,
     "start_time": "2020-12-18T10:11:20.092784",
     "status": "completed"
    },
    "tags": []
   },
   "source": [
    "Let's see the performance of each of them:"
   ]
  },
  {
   "cell_type": "code",
   "execution_count": 22,
   "metadata": {
    "execution": {
     "iopub.execute_input": "2020-12-18T10:11:20.271933Z",
     "iopub.status.busy": "2020-12-18T10:11:20.270683Z",
     "iopub.status.idle": "2020-12-18T10:11:20.275637Z",
     "shell.execute_reply": "2020-12-18T10:11:20.274977Z"
    },
    "papermill": {
     "duration": 0.076225,
     "end_time": "2020-12-18T10:11:20.275777",
     "exception": false,
     "start_time": "2020-12-18T10:11:20.199552",
     "status": "completed"
    },
    "tags": []
   },
   "outputs": [
    {
     "data": {
      "text/html": [
       "<div>\n",
       "<style scoped>\n",
       "    .dataframe tbody tr th:only-of-type {\n",
       "        vertical-align: middle;\n",
       "    }\n",
       "\n",
       "    .dataframe tbody tr th {\n",
       "        vertical-align: top;\n",
       "    }\n",
       "\n",
       "    .dataframe thead th {\n",
       "        text-align: right;\n",
       "    }\n",
       "</style>\n",
       "<table border=\"1\" class=\"dataframe\">\n",
       "  <thead>\n",
       "    <tr style=\"text-align: right;\">\n",
       "      <th></th>\n",
       "      <th>Model</th>\n",
       "      <th>MAE</th>\n",
       "      <th>MSE</th>\n",
       "      <th>RMSE</th>\n",
       "      <th>R2</th>\n",
       "    </tr>\n",
       "  </thead>\n",
       "  <tbody>\n",
       "    <tr>\n",
       "      <th>0</th>\n",
       "      <td>Lineal Regression</td>\n",
       "      <td>0.505416</td>\n",
       "      <td>0.436337</td>\n",
       "      <td>0.657899</td>\n",
       "      <td>0.323021</td>\n",
       "    </tr>\n",
       "    <tr>\n",
       "      <th>1</th>\n",
       "      <td>Lasso</td>\n",
       "      <td>0.554216</td>\n",
       "      <td>0.501161</td>\n",
       "      <td>0.705456</td>\n",
       "      <td>0.225505</td>\n",
       "    </tr>\n",
       "    <tr>\n",
       "      <th>2</th>\n",
       "      <td>ElasticNet</td>\n",
       "      <td>0.648483</td>\n",
       "      <td>0.626070</td>\n",
       "      <td>0.789197</td>\n",
       "      <td>0.032300</td>\n",
       "    </tr>\n",
       "    <tr>\n",
       "      <th>3</th>\n",
       "      <td>Ridge</td>\n",
       "      <td>0.505202</td>\n",
       "      <td>0.435361</td>\n",
       "      <td>0.657134</td>\n",
       "      <td>0.324764</td>\n",
       "    </tr>\n",
       "    <tr>\n",
       "      <th>4</th>\n",
       "      <td>Extra Tree</td>\n",
       "      <td>0.377767</td>\n",
       "      <td>0.338853</td>\n",
       "      <td>0.578611</td>\n",
       "      <td>0.476415</td>\n",
       "    </tr>\n",
       "    <tr>\n",
       "      <th>5</th>\n",
       "      <td>Random Forest</td>\n",
       "      <td>0.421004</td>\n",
       "      <td>0.354207</td>\n",
       "      <td>0.592205</td>\n",
       "      <td>0.450652</td>\n",
       "    </tr>\n",
       "  </tbody>\n",
       "</table>\n",
       "</div>"
      ],
      "text/plain": [
       "               Model       MAE       MSE      RMSE        R2\n",
       "0  Lineal Regression  0.505416  0.436337  0.657899  0.323021\n",
       "1              Lasso  0.554216  0.501161  0.705456  0.225505\n",
       "2         ElasticNet  0.648483  0.626070  0.789197  0.032300\n",
       "3              Ridge  0.505202  0.435361  0.657134  0.324764\n",
       "4         Extra Tree  0.377767  0.338853  0.578611  0.476415\n",
       "5      Random Forest  0.421004  0.354207  0.592205  0.450652"
      ]
     },
     "execution_count": 22,
     "metadata": {},
     "output_type": "execute_result"
    }
   ],
   "source": [
    "df_result = pd.DataFrame({\"Model\": model_names,\n",
    "                          \"MAE\": mae,\n",
    "                          \"MSE\": mse,\n",
    "                          \"RMSE\": rmse,\n",
    "                          \"R2\": r2})\n",
    "df_result"
   ]
  },
  {
   "cell_type": "code",
   "execution_count": 23,
   "metadata": {
    "execution": {
     "iopub.execute_input": "2020-12-18T10:11:20.404473Z",
     "iopub.status.busy": "2020-12-18T10:11:20.392433Z",
     "iopub.status.idle": "2020-12-18T10:11:20.570715Z",
     "shell.execute_reply": "2020-12-18T10:11:20.571228Z"
    },
    "papermill": {
     "duration": 0.243281,
     "end_time": "2020-12-18T10:11:20.571380",
     "exception": false,
     "start_time": "2020-12-18T10:11:20.328099",
     "status": "completed"
    },
    "tags": []
   },
   "outputs": [
    {
     "data": {
      "image/png": "[encoded data removed]",
      "text/plain": [
       "<Figure size 432x288 with 1 Axes>"
      ]
     },
     "metadata": {
      "needs_background": "light"
     },
     "output_type": "display_data"
    }
   ],
   "source": [
    "df_result.sort_values(by=\"RMSE\", ascending=False).plot.barh(\"Model\", \"RMSE\");"
   ]
  },
  {
   "cell_type": "code",
   "execution_count": 24,
   "metadata": {
    "execution": {
     "iopub.execute_input": "2020-12-18T10:11:20.699090Z",
     "iopub.status.busy": "2020-12-18T10:11:20.697784Z",
     "iopub.status.idle": "2020-12-18T10:11:20.855605Z",
     "shell.execute_reply": "2020-12-18T10:11:20.856221Z"
    },
    "papermill": {
     "duration": 0.232401,
     "end_time": "2020-12-18T10:11:20.856367",
     "exception": false,
     "start_time": "2020-12-18T10:11:20.623966",
     "status": "completed"
    },
    "tags": []
   },
   "outputs": [
    {
     "data": {
      "image/png": "[encoded data removed]",
      "text/plain": [
       "<Figure size 432x288 with 1 Axes>"
      ]
     },
     "metadata": {
      "needs_background": "light"
     },
     "output_type": "display_data"
    }
   ],
   "source": [
    "df_result.sort_values(by=\"R2\").plot.barh(\"Model\", \"R2\");"
   ]
  },
  {
   "cell_type": "markdown",
   "metadata": {
    "papermill": {
     "duration": 0.063785,
     "end_time": "2020-12-18T10:11:20.976313",
     "exception": false,
     "start_time": "2020-12-18T10:11:20.912528",
     "status": "completed"
    },
    "tags": []
   },
   "source": [
    "The model that gives the best results is **extra trees**. RMSE = 0.577591 and R2 = 0.477845. Let's fine tune it."
   ]
  },
  {
   "cell_type": "markdown",
   "metadata": {
    "papermill": {
     "duration": 0.053102,
     "end_time": "2020-12-18T10:11:21.087886",
     "exception": false,
     "start_time": "2020-12-18T10:11:21.034784",
     "status": "completed"
    },
    "tags": []
   },
   "source": [
    "## Fine-Tune"
   ]
  },
  {
   "cell_type": "code",
   "execution_count": 25,
   "metadata": {
    "execution": {
     "iopub.execute_input": "2020-12-18T10:11:21.204250Z",
     "iopub.status.busy": "2020-12-18T10:11:21.203496Z",
     "iopub.status.idle": "2020-12-18T10:26:54.068991Z",
     "shell.execute_reply": "2020-12-18T10:26:54.069690Z"
    },
    "papermill": {
     "duration": 932.928712,
     "end_time": "2020-12-18T10:26:54.069861",
     "exception": false,
     "start_time": "2020-12-18T10:11:21.141149",
     "status": "completed"
    },
    "tags": []
   },
   "outputs": [
    {
     "data": {
      "text/plain": [
       "GridSearchCV(cv=5, estimator=ExtraTreesRegressor(n_jobs=-1, random_state=42),\n",
       "             param_grid=[{'bootstrap': [True, False],\n",
       "                          'max_features': [2, 3, 4, 5, 8, 'auto'],\n",
       "                          'n_estimators': range(10, 300, 10)}],\n",
       "             return_train_score=True, scoring='neg_mean_squared_error')"
      ]
     },
     "execution_count": 25,
     "metadata": {},
     "output_type": "execute_result"
    }
   ],
   "source": [
    "param_grid = [\n",
    "    {'n_estimators': range(10, 300, 10), 'max_features': [2, 3, 4, 5, 8, \"auto\"], 'bootstrap': [True, False]}\n",
    "]\n",
    "\n",
    "\n",
    "xtree_reg = ExtraTreesRegressor(random_state=42, n_jobs=-1)\n",
    "\n",
    "grid_search = GridSearchCV(xtree_reg, param_grid, cv=5, \n",
    "                           scoring='neg_mean_squared_error', \n",
    "                           return_train_score=True)\n",
    "\n",
    "grid_search.fit(X_train, y_train)"
   ]
  },
  {
   "cell_type": "code",
   "execution_count": 26,
   "metadata": {
    "execution": {
     "iopub.execute_input": "2020-12-18T10:26:54.179447Z",
     "iopub.status.busy": "2020-12-18T10:26:54.178843Z",
     "iopub.status.idle": "2020-12-18T10:26:54.184016Z",
     "shell.execute_reply": "2020-12-18T10:26:54.184458Z"
    },
    "papermill": {
     "duration": 0.061549,
     "end_time": "2020-12-18T10:26:54.184612",
     "exception": false,
     "start_time": "2020-12-18T10:26:54.123063",
     "status": "completed"
    },
    "tags": []
   },
   "outputs": [
    {
     "data": {
      "text/plain": [
       "{'bootstrap': False, 'max_features': 5, 'n_estimators': 160}"
      ]
     },
     "execution_count": 26,
     "metadata": {},
     "output_type": "execute_result"
    }
   ],
   "source": [
    "grid_search.best_params_"
   ]
  },
  {
   "cell_type": "markdown",
   "metadata": {
    "papermill": {
     "duration": 0.053673,
     "end_time": "2020-12-18T10:26:54.291861",
     "exception": false,
     "start_time": "2020-12-18T10:26:54.238188",
     "status": "completed"
    },
    "tags": []
   },
   "source": [
    "It's the moment of truth! Let's see the performance on the test set:"
   ]
  },
  {
   "cell_type": "code",
   "execution_count": 27,
   "metadata": {
    "execution": {
     "iopub.execute_input": "2020-12-18T10:26:54.422022Z",
     "iopub.status.busy": "2020-12-18T10:26:54.421339Z",
     "iopub.status.idle": "2020-12-18T10:26:54.532050Z",
     "shell.execute_reply": "2020-12-18T10:26:54.531322Z"
    },
    "papermill": {
     "duration": 0.173562,
     "end_time": "2020-12-18T10:26:54.532178",
     "exception": false,
     "start_time": "2020-12-18T10:26:54.358616",
     "status": "completed"
    },
    "tags": []
   },
   "outputs": [],
   "source": [
    "final_model = grid_search.best_estimator_\n",
    "y_pred = final_model.predict(X_test)"
   ]
  },
  {
   "cell_type": "code",
   "execution_count": 28,
   "metadata": {
    "execution": {
     "iopub.execute_input": "2020-12-18T10:26:54.650610Z",
     "iopub.status.busy": "2020-12-18T10:26:54.647163Z",
     "iopub.status.idle": "2020-12-18T10:26:54.760438Z",
     "shell.execute_reply": "2020-12-18T10:26:54.759476Z"
    },
    "papermill": {
     "duration": 0.174338,
     "end_time": "2020-12-18T10:26:54.760604",
     "exception": false,
     "start_time": "2020-12-18T10:26:54.586266",
     "status": "completed"
    },
    "tags": []
   },
   "outputs": [
    {
     "name": "stdout",
     "output_type": "stream",
     "text": [
      "MAE: 0.38298828124999995\n",
      "MSE: 0.28038391113281247\n",
      "RMSE: 0.5295128998738486\n",
      "R2: 0.5709542506612473\n"
     ]
    }
   ],
   "source": [
    "print(f\"MAE: {metrics.mean_absolute_error(y_test, y_pred)}\")\n",
    "print(f\"MSE: {metrics.mean_squared_error(y_test, y_pred)}\")\n",
    "print(f\"RMSE: {np.sqrt(metrics.mean_squared_error(y_test, y_pred))}\")\n",
    "print(f\"R2: {final_model.score(X_test, y_test)}\")"
   ]
  },
  {
   "cell_type": "markdown",
   "metadata": {
    "papermill": {
     "duration": 0.055921,
     "end_time": "2020-12-18T10:26:54.875227",
     "exception": false,
     "start_time": "2020-12-18T10:26:54.819306",
     "status": "completed"
    },
    "tags": []
   },
   "source": [
    "Well, a little better!"
   ]
  },
  {
   "cell_type": "code",
   "execution_count": 29,
   "metadata": {
    "execution": {
     "iopub.execute_input": "2020-12-18T10:26:55.005292Z",
     "iopub.status.busy": "2020-12-18T10:26:54.997333Z",
     "iopub.status.idle": "2020-12-18T10:26:55.195116Z",
     "shell.execute_reply": "2020-12-18T10:26:55.194372Z"
    },
    "papermill": {
     "duration": 0.261924,
     "end_time": "2020-12-18T10:26:55.195235",
     "exception": false,
     "start_time": "2020-12-18T10:26:54.933311",
     "status": "completed"
    },
    "tags": []
   },
   "outputs": [
    {
     "data": {
      "image/png": "[encoded data removed]",
      "text/plain": [
       "<Figure size 720x576 with 1 Axes>"
      ]
     },
     "metadata": {
      "needs_background": "light"
     },
     "output_type": "display_data"
    }
   ],
   "source": [
    "plt.figure(figsize=(10,8))\n",
    "plt.scatter(y_test, y_pred, alpha=0.1)\n",
    "plt.xlabel(\"Real\")\n",
    "plt.ylabel(\"Predicted\")\n",
    "plt.show()"
   ]
  },
  {
   "cell_type": "markdown",
   "metadata": {
    "papermill": {
     "duration": 0.055535,
     "end_time": "2020-12-18T10:26:55.309350",
     "exception": false,
     "start_time": "2020-12-18T10:26:55.253815",
     "status": "completed"
    },
    "tags": []
   },
   "source": [
    "Let's see which features are most relevant:"
   ]
  },
  {
   "cell_type": "code",
   "execution_count": 30,
   "metadata": {
    "execution": {
     "iopub.execute_input": "2020-12-18T10:26:55.428963Z",
     "iopub.status.busy": "2020-12-18T10:26:55.427618Z",
     "iopub.status.idle": "2020-12-18T10:26:55.535626Z",
     "shell.execute_reply": "2020-12-18T10:26:55.536123Z"
    },
    "papermill": {
     "duration": 0.169296,
     "end_time": "2020-12-18T10:26:55.536268",
     "exception": false,
     "start_time": "2020-12-18T10:26:55.366972",
     "status": "completed"
    },
    "tags": []
   },
   "outputs": [
    {
     "data": {
      "text/plain": [
       "array([0.06242878, 0.12054219, 0.07478461, 0.06697772, 0.06670251,\n",
       "       0.05944129, 0.07925392, 0.07148382, 0.06178626, 0.12593217,\n",
       "       0.21066673])"
      ]
     },
     "execution_count": 30,
     "metadata": {},
     "output_type": "execute_result"
    }
   ],
   "source": [
    "feature_importances = final_model.feature_importances_\n",
    "feature_importances"
   ]
  },
  {
   "cell_type": "code",
   "execution_count": 31,
   "metadata": {
    "execution": {
     "iopub.execute_input": "2020-12-18T10:26:55.656087Z",
     "iopub.status.busy": "2020-12-18T10:26:55.655416Z",
     "iopub.status.idle": "2020-12-18T10:26:55.661424Z",
     "shell.execute_reply": "2020-12-18T10:26:55.661980Z"
    },
    "papermill": {
     "duration": 0.068562,
     "end_time": "2020-12-18T10:26:55.662138",
     "exception": false,
     "start_time": "2020-12-18T10:26:55.593576",
     "status": "completed"
    },
    "tags": []
   },
   "outputs": [
    {
     "data": {
      "text/plain": [
       "[(0.21066672921314536, 'alcohol'),\n",
       " (0.12593217102849721, 'sulphates'),\n",
       " (0.12054219432817319, 'volatile acidity'),\n",
       " (0.07925392046422038, 'total sulfur dioxide'),\n",
       " (0.07478461494308854, 'citric acid'),\n",
       " (0.07148382305429933, 'density'),\n",
       " (0.06697771630809288, 'residual sugar'),\n",
       " (0.0667025052273382, 'chlorides'),\n",
       " (0.062428775664599825, 'fixed acidity'),\n",
       " (0.06178625839728167, 'pH'),\n",
       " (0.05944129137126336, 'free sulfur dioxide')]"
      ]
     },
     "execution_count": 31,
     "metadata": {},
     "output_type": "execute_result"
    }
   ],
   "source": [
    "sorted(zip(feature_importances, X_test.columns), reverse=True)"
   ]
  },
  {
   "cell_type": "code",
   "execution_count": 32,
   "metadata": {
    "execution": {
     "iopub.execute_input": "2020-12-18T10:26:55.781406Z",
     "iopub.status.busy": "2020-12-18T10:26:55.780748Z",
     "iopub.status.idle": "2020-12-18T10:26:55.981838Z",
     "shell.execute_reply": "2020-12-18T10:26:55.982342Z"
    },
    "papermill": {
     "duration": 0.26219,
     "end_time": "2020-12-18T10:26:55.982486",
     "exception": false,
     "start_time": "2020-12-18T10:26:55.720296",
     "status": "completed"
    },
    "tags": []
   },
   "outputs": [
    {
     "data": {
      "text/plain": [
       "Text(0.5, 1.0, 'Feature Importances')"
      ]
     },
     "execution_count": 32,
     "metadata": {},
     "output_type": "execute_result"
    },
    {
     "data": {
      "image/png": "[encoded data removed]",
      "text/plain": [
       "<Figure size 432x288 with 1 Axes>"
      ]
     },
     "metadata": {
      "needs_background": "light"
     },
     "output_type": "display_data"
    }
   ],
   "source": [
    "feature_imp = pd.Series(feature_importances, index=X_train.columns).sort_values(ascending=False)\n",
    "feature_imp.plot(kind='bar')\n",
    "plt.title('Feature Importances')"
   ]
  },
  {
   "cell_type": "markdown",
   "metadata": {
    "papermill": {
     "duration": 0.058043,
     "end_time": "2020-12-18T10:26:56.100235",
     "exception": false,
     "start_time": "2020-12-18T10:26:56.042192",
     "status": "completed"
    },
    "tags": []
   },
   "source": [
    "Let's see how the errors are distributed:"
   ]
  },
  {
   "cell_type": "code",
   "execution_count": 33,
   "metadata": {
    "execution": {
     "iopub.execute_input": "2020-12-18T10:26:56.224042Z",
     "iopub.status.busy": "2020-12-18T10:26:56.223308Z",
     "iopub.status.idle": "2020-12-18T10:26:56.228202Z",
     "shell.execute_reply": "2020-12-18T10:26:56.227622Z"
    },
    "papermill": {
     "duration": 0.069904,
     "end_time": "2020-12-18T10:26:56.228311",
     "exception": false,
     "start_time": "2020-12-18T10:26:56.158407",
     "status": "completed"
    },
    "tags": []
   },
   "outputs": [],
   "source": [
    "df_resul = pd.DataFrame({\"Pred\": y_pred,\n",
    "              \"Real\": y_test,\n",
    "              \"error\": y_pred - y_test,\n",
    "              \"error_abs\": abs(y_pred - y_test)})"
   ]
  },
  {
   "cell_type": "code",
   "execution_count": 34,
   "metadata": {
    "execution": {
     "iopub.execute_input": "2020-12-18T10:26:56.374617Z",
     "iopub.status.busy": "2020-12-18T10:26:56.373948Z",
     "iopub.status.idle": "2020-12-18T10:26:56.689051Z",
     "shell.execute_reply": "2020-12-18T10:26:56.689707Z"
    },
    "papermill": {
     "duration": 0.402988,
     "end_time": "2020-12-18T10:26:56.689864",
     "exception": false,
     "start_time": "2020-12-18T10:26:56.286876",
     "status": "completed"
    },
    "tags": []
   },
   "outputs": [
    {
     "data": {
      "image/png": "[encoded data removed]",
      "text/plain": [
       "<Figure size 432x288 with 1 Axes>"
      ]
     },
     "metadata": {
      "needs_background": "light"
     },
     "output_type": "display_data"
    }
   ],
   "source": [
    "df_resul[\"error\"].plot.hist(bins=40, density=True)\n",
    "plt.title(\"Error distribution\")\n",
    "plt.xlabel(\"Error\");"
   ]
  },
  {
   "cell_type": "markdown",
   "metadata": {
    "papermill": {
     "duration": 0.059297,
     "end_time": "2020-12-18T10:26:56.814744",
     "exception": false,
     "start_time": "2020-12-18T10:26:56.755447",
     "status": "completed"
    },
    "tags": []
   },
   "source": [
    "More generally, What's the MAE that occurs in each quality score?"
   ]
  },
  {
   "cell_type": "code",
   "execution_count": 35,
   "metadata": {
    "execution": {
     "iopub.execute_input": "2020-12-18T10:26:56.937409Z",
     "iopub.status.busy": "2020-12-18T10:26:56.936431Z",
     "iopub.status.idle": "2020-12-18T10:26:56.949205Z",
     "shell.execute_reply": "2020-12-18T10:26:56.949835Z"
    },
    "papermill": {
     "duration": 0.075742,
     "end_time": "2020-12-18T10:26:56.949985",
     "exception": false,
     "start_time": "2020-12-18T10:26:56.874243",
     "status": "completed"
    },
    "tags": []
   },
   "outputs": [
    {
     "data": {
      "text/plain": [
       "Real\n",
       "3    2.312500\n",
       "4    1.144375\n",
       "5    0.296827\n",
       "6    0.324100\n",
       "7    0.494792\n",
       "8    1.330000\n",
       "Name: error_abs, dtype: float64"
      ]
     },
     "execution_count": 35,
     "metadata": {},
     "output_type": "execute_result"
    }
   ],
   "source": [
    "df_resul.groupby(\"Real\")[\"error_abs\"].mean()"
   ]
  },
  {
   "cell_type": "code",
   "execution_count": 36,
   "metadata": {
    "execution": {
     "iopub.execute_input": "2020-12-18T10:26:57.082788Z",
     "iopub.status.busy": "2020-12-18T10:26:57.081778Z",
     "iopub.status.idle": "2020-12-18T10:26:57.243227Z",
     "shell.execute_reply": "2020-12-18T10:26:57.242599Z"
    },
    "papermill": {
     "duration": 0.227079,
     "end_time": "2020-12-18T10:26:57.243346",
     "exception": false,
     "start_time": "2020-12-18T10:26:57.016267",
     "status": "completed"
    },
    "tags": []
   },
   "outputs": [
    {
     "data": {
      "image/png": "[encoded data removed]",
      "text/plain": [
       "<Figure size 432x288 with 1 Axes>"
      ]
     },
     "metadata": {
      "needs_background": "light"
     },
     "output_type": "display_data"
    }
   ],
   "source": [
    "df_resul.groupby(\"Real\")[\"error_abs\"].mean().plot.bar()\n",
    "plt.title(\"MAE distribution\")\n",
    "plt.ylabel(\"MAE\")\n",
    "plt.xlabel(\"Quality\");"
   ]
  },
  {
   "cell_type": "markdown",
   "metadata": {
    "papermill": {
     "duration": 0.069282,
     "end_time": "2020-12-18T10:26:57.380120",
     "exception": false,
     "start_time": "2020-12-18T10:26:57.310838",
     "status": "completed"
    },
    "tags": []
   },
   "source": [
    "## Conclusions\n",
    "\n",
    "After testing various models, the one that provided the best results is ExtraTrees. After fine tuning it, we get a significant improvement.\n",
    "\n",
    "The basic line regression model offers an R2: 0.323021 and RMSE: 0.657899. The Extra Tree model offers an R2: 0.529512 and RMSE: 0.570954. However, the R2 score is still very low. According to the value obtained from R2, our model can barely explain 52% of the variance. That is, the percentage of relationship between the variables that can be explained by our model is 52.95%.\n",
    "\n",
    "According to the MAE distribution graph, we can see that our model is not good for extreme scores. In fact, it is not capable of predicting any score of 3 or 8. As we saw in the distribution of the target variable, it is very unbalanced, there are hardly any observations for the extreme values, so the model does not have enough data training for all quality scores.\n",
    "\n",
    "As a final consideration, we should try to approach modeling as a classification problem, to evaluate if it offers better results than a regression problem. We will see it in part 2 of this analysis."
   ]
  },
  {
   "cell_type": "code",
   "execution_count": null,
   "metadata": {
    "papermill": {
     "duration": 0.066957,
     "end_time": "2020-12-18T10:26:57.514845",
     "exception": false,
     "start_time": "2020-12-18T10:26:57.447888",
     "status": "completed"
    },
    "tags": []
   },
   "outputs": [],
   "source": []
  }
 ],
 "metadata": {
  "kernelspec": {
   "display_name": "Python 3",
   "language": "python",
   "name": "python3"
  },
  "language_info": {
   "codemirror_mode": {
    "name": "ipython",
    "version": 3
   },
   "file_extension": ".py",
   "mimetype": "text/x-python",
   "name": "python",
   "nbconvert_exporter": "python",
   "pygments_lexer": "ipython3",
   "version": "3.9.4"
  },
  "papermill": {
   "duration": 963.979943,
   "end_time": "2020-12-18T10:26:57.693105",
   "environment_variables": {},
   "exception": null,
   "input_path": "__notebook__.ipynb",
   "output_path": "__notebook__.ipynb",
   "parameters": {},
   "start_time": "2020-12-18T10:10:53.713162",
   "version": "2.1.0"
  }
 },
 "nbformat": 4,
 "nbformat_minor": 4
}
