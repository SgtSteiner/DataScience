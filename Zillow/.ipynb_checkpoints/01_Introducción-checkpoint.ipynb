{
 "cells": [
  {
   "cell_type": "markdown",
   "metadata": {},
   "source": [
    "# CREANDO VALOR DE NEGOCIO CON DATA SCIENCE\n",
    "\n",
    "# Parte 1 - Introducción"
   ]
  },
  {
   "cell_type": "markdown",
   "metadata": {},
   "source": [
    "Hace aproximadamente un año se lanzó una de las mayores competiciones en Kaggle hasta la fecha: se trataba del *desafío* denominado **Premio Zillow**, dotado con 1.000.000 $ en efectivo para el ganador.\n",
    "\n",
    "Los usuarios de Kaggle fueron desafiados a mejorar el sistema de Predicción del Valor de Viviendas de Zillow. De la [página web del concurso](https://www.kaggle.com/c/zillow-prize-1#description):\n",
    "\n",
    "> Una casa es a menudo la compra más grande y más costosa que una persona hace en su vida. Asegurar que los propietarios tengan una manera confiable de monitorizar este activo es muy importante. The **Zestimate** se creó para ofrecer a los consumidores la mayor información posible sobre las casas y el mercado de la vivienda, siendo la primera vez que los consumidores tuvieron acceso a este tipo de información sobre el valor de la vivienda sin coste alguno.\n",
    "\n",
    "> \"*Zestimates*\" son los valores estimados de viviendas basados en 7,5 millones de modelos estadísticos y machine learning que analizan cientos de variables de cada propiedad. Y al mejorar continuamente el margen de error medio, desde el 14% al inicio hasta el 5% en la actualidad, Zillow se ha convertido en uno de los mercados más grandes y confiables para información de bienes raíces en los EE. UU, así como un ejemplo destacado del impacto del machine learning.\n",
    "\n",
    "En pocas palabras, ¡el desafío consistía en mejorar el valor de la estimación del precio de la vivienda de Zillow! El margen de error medio del 5% ya es increíble. Pero para un mercado inmobiliario que vale miles de millones de dólares, cada punto porcentual cuenta."
   ]
  },
  {
   "cell_type": "markdown",
   "metadata": {},
   "source": [
    "## ¿Qué es importante para el negocio?"
   ]
  },
  {
   "cell_type": "markdown",
   "metadata": {},
   "source": [
    "Antes de realizar cualquier tipo de exploración de datos, en primer lugar **tenemos que entender el propósito de hacerlo** ¿Qué es exactamente lo que estamos tratando de obtener de todo esto?\n",
    "\n",
    "Una cosa que sabemos con certeza es que queremos **aumentar la precisión de la predicción de nuestro sistema**. No nos importa demasiado la velocidad de nuestro sistema, ya que no estamos tratando de ejecutar nada en tiempo real, por lo que podemos ejecutar cosas como Random Forest y Neural Networks si las encontramos útiles."
   ]
  },
  {
   "cell_type": "code",
   "execution_count": null,
   "metadata": {},
   "outputs": [],
   "source": []
  }
 ],
 "metadata": {
  "kernelspec": {
   "display_name": "Python 3",
   "language": "python",
   "name": "python3"
  },
  "language_info": {
   "codemirror_mode": {
    "name": "ipython",
    "version": 3
   },
   "file_extension": ".py",
   "mimetype": "text/x-python",
   "name": "python",
   "nbconvert_exporter": "python",
   "pygments_lexer": "ipython3",
   "version": "3.7.0"
  }
 },
 "nbformat": 4,
 "nbformat_minor": 2
}
