{
 "cells": [
  {
   "cell_type": "markdown",
   "metadata": {},
   "source": [
    "# CREANDO VALOR DE NEGOCIO CON DATA SCIENCE\n",
    "\n",
    "# Parte 1 - Introducción"
   ]
  },
  {
   "cell_type": "markdown",
   "metadata": {},
   "source": [
    "Hace aproximadamente un año se lanzó una de las mayores competiciones en Kaggle hasta la fecha: se trataba del *desafío* denominado **Premio Zillow**, dotado con 1.000.000 $ en efectivo para el ganador.\n",
    "\n",
    "Los usuarios de Kaggle fueron desafiados a mejorar el sistema de Predicción del Valor de Viviendas de Zillow. De la [página web del concurso](https://www.kaggle.com/c/zillow-prize-1#description):\n",
    "\n",
    "> Una casa es a menudo la compra más grande y más costosa que una persona hace en su vida. Asegurar que los propietarios tengan una manera confiable de monitorizar este activo es muy importante. The **Zestimate** se creó para ofrecer a los consumidores la mayor información posible sobre las casas y el mercado de la vivienda, siendo la primera vez que los consumidores tuvieron acceso a este tipo de información sobre el valor de la vivienda sin coste alguno.\n",
    "\n",
    "> \"*Zestimates*\" son los valores estimados de viviendas basados en 7,5 millones de modelos estadísticos y machine learning que analizan cientos de variables de cada propiedad. Y al mejorar continuamente el margen de error medio, desde el 14% al inicio hasta el 5% en la actualidad, Zillow se ha convertido en uno de los mercados más grandes y confiables para información de bienes raíces en los EE.UU., así como un ejemplo destacado del impacto del machine learning.\n",
    "\n",
    "En pocas palabras, ¡el desafío consistía en mejorar el valor de la estimación del precio de la vivienda de Zillow! El margen de error medio del 5% ya es increíble. Pero para un mercado inmobiliario que vale miles de millones de dólares, cada punto porcentual cuenta."
   ]
  },
  {
   "cell_type": "markdown",
   "metadata": {},
   "source": [
    "## ¿Qué es importante para el negocio?"
   ]
  },
  {
   "cell_type": "markdown",
   "metadata": {},
   "source": [
    "Antes de realizar cualquier tipo de exploración de datos, en primer lugar **tenemos que entender el propósito de hacerlo** ¿Qué es exactamente lo que estamos tratando de obtener de todo esto?\n",
    "\n",
    "Una cosa que sabemos con certeza es que queremos **aumentar la precisión de la predicción de nuestro sistema**. No nos importa demasiado la velocidad de nuestro sistema, ya que no estamos tratando de ejecutar nada en tiempo real, por lo que podemos ejecutar cosas como Random Forest y Neural Networks si las encontramos útiles."
   ]
  },
  {
   "cell_type": "markdown",
   "metadata": {},
   "source": [
    "Aunque realmente el único requisito es aumentar la precisión de la predicción, estaría genial que pudíeramos entender qué contienen nuestros datos. Siempre hay más información que se puede obtener de un conjunto de datos tan grande y dicha información puede ofrecer un enorme valor de negocio más allá de la simple predicción."
   ]
  },
  {
   "cell_type": "markdown",
   "metadata": {},
   "source": [
    "Imaginemos que podemos encontrar que ciertas aspectos de una vivienda aumentan el precio más que otros. Por ejemplo, qué sucede si disponer de 4 dormitorios y 3 cuartos de baño es mucho más valioso que la superficie en el mercado inmobiliario. Esa es la información que podemos ofrecer a los clientes para que puedan tomar una decisión fundamentada sobre el valor de la inversión a largo plazo. O tal vez uno quiera construir un conjunto de viviendas y quiera saber qué aspectos de la misma harían que se revalorizara con el tiempo."
   ]
  },
  {
   "cell_type": "markdown",
   "metadata": {},
   "source": [
    "Al presentar esta información a los clientes o ejecutivos de la compañía queremos mantener las cosas a un nivel bastante alto de manera que sea rápidas y fáciles de entender. Esto significa visualizaciones muy simplistas sin gráficos complicados. Deberíamos usar menos matemáticas y estadística y un lenguaje más básico en nuestros informes. En lugar de decir algo como \"*...nuestro conjunto de datos tiene un valor de gradiente de ...*\", diríamos algo como \"*...como podemos ver en este gráfico, hemos tenido una tendencia al alza...*\""
   ]
  },
  {
   "cell_type": "markdown",
   "metadata": {},
   "source": [
    "## El conjunto de datos Zillow Zestimate"
   ]
  },
  {
   "cell_type": "markdown",
   "metadata": {},
   "source": [
    "Zillow proporciona a los participantes propiedades inmobiliarias del año 2016 de tres condados de California: Los Angeles, Orange y Ventura. Las variables proporcionadas son:"
   ]
  },
  {
   "cell_type": "markdown",
   "metadata": {},
   "source": [
    "|Variable|Descripción|\n",
    "| :--- | :--- |\n",
    "|'airconditioningtypeid'| Type of cooling system present in the home (if any) |\n",
    "|'architecturalstyletypeid'| Architectural style of the home (ie 'ranch' 'colonial' 'split-level' etc)|\n",
    "|'basementsqft'| Finished living area below or partially below ground level|\n",
    "|'bathroomcnt'| Number of bathrooms in home including fractional bathrooms|\n",
    "|'bedroomcnt'| Number of bedrooms in home|\n",
    "|'buildingqualitytypeid'| Overall assessment of condition of the building from best (lowest) to worst (highest)|\n",
    "|'buildingclasstypeid'|The building framing type (steel frame wood frame concrete or brick)|\n",
    "|'calculatedbathnbr'| Number of bathrooms in home including fractional bathroom|\n",
    "|'decktypeid'|Type of deck (if any) present on parcel|\n",
    "|'threequarterbathnbr'| Number of 3/4 bathrooms in house (shower + sink + toilet)|\n",
    "|'finishedfloor1squarefeet'| Size of the finished living area on the first (entry) floor of the home|\n",
    "|'calculatedfinishedsquarefeet'| Calculated total finished living area of the home|\n",
    "|'finishedsquarefeet6'|Base unfinished and finished area|\n",
    "|'finishedsquarefeet12'|Finished living area|\n",
    "|'finishedsquarefeet13'|Perimeter  living area|\n",
    "|'finishedsquarefeet15'|Total area|\n",
    "|'finishedsquarefeet50'| Size of the finished living area on the first (entry) floor of the home|\n",
    "|'fips'| Federal Information Processing Standard code|\n",
    "|'fireplacecnt'| Number of fireplaces in a home (if any)|\n",
    "|'fireplaceflag'| Is a fireplace present in this home |\n",
    "|'fullbathcnt'| Number of full bathrooms (sink shower + bathtub and toilet) present in home|\n",
    "|'garagecarcnt'| Total number of garages on the lot including an attached garage|\n",
    "|'garagetotalsqft'| Total number of square feet of all garages on lot including an attached garage|\n",
    "|'hashottuborspa'| Does the home have a hot tub or spa|\n",
    "|'heatingorsystemtypeid'| Type of home heating system|\n",
    "|'latitude'| Latitude of the middle of the parcel multiplied by 10e6|\n",
    "|'longitude'| Longitude of the middle of the parcel multiplied by 10e6|\n",
    "|'lotsizesquarefeet'| Area of the lot in square feet|\n",
    "|'numberofstories'| Number of stories or levels the home has|\n",
    "|'parcelid'| Unique identifier for parcels (lots) |\n",
    "|'poolcnt'| Number of pools on the lot (if any)|\n",
    "|'poolsizesum'| Total square footage of all pools on property|\n",
    "|'pooltypeid10'| Spa or Hot Tub|\n",
    "|'pooltypeid2'| Pool with Spa/Hot Tub|\n",
    "|'pooltypeid7'| Pool without hot tub|\n",
    "|'propertycountylandusecode'| County land use code ie it's zoning at the county level|\n",
    "|'propertylandusetypeid'| Type of land use the property is zoned for|\n",
    "|'propertyzoningdesc'| Description of the allowed land uses (zoning) for that property|\n",
    "|'rawcensustractandblock'| Census tract and block ID combined - also contains blockgroup assignment by extension|\n",
    "|'censustractandblock'| Census tract and block ID combined - also contains blockgroup assignment by extension|\n",
    "|'regionidcounty'|County in which the property is located|\n",
    "|'regionidcity'| City in which the property is located (if any)|\n",
    "|'regionidzip'| Zip code in which the property is located|\n",
    "|'regionidneighborhood'|Neighborhood in which the property is located|\n",
    "|'roomcnt'| Total number of rooms in the principal residence|\n",
    "|'storytypeid'| Type of floors in a multi-story house (ie basement and main level split-level attic etc)|\n",
    "|'typeconstructiontypeid'| What type of construction material was used to construct the home|\n",
    "|'unitcnt'| Number of units the structure is built into (ie 2 = duplex 3 = triplex etc)|\n",
    "|'yardbuildingsqft17'|Patio in  yard|\n",
    "|'yardbuildingsqft26'|Storage shed/building in yard|\n",
    "|'yearbuilt'| The Year the principal residence was built |\n",
    "|'taxvaluedollarcnt'|The total tax assessed value of the parcel|\n",
    "|'structuretaxvaluedollarcnt'|The assessed value of the built structure on the parcel|\n",
    "|'landtaxvaluedollarcnt'|The assessed value of the land area of the parcel|\n",
    "|'taxamount'|The total property tax assessed for that assessment year|\n",
    "|'assessmentyear'|The year of the property tax assessment |\n",
    "|'taxdelinquencyflag'|Property taxes for this parcel are past due as of 2015|\n",
    "|'taxdelinquencyyear'|Year for which the unpaid propert taxes were due |"
   ]
  },
  {
   "cell_type": "markdown",
   "metadata": {},
   "source": [
    "Es probable que algunas de estas variables sean super importantes desde el principio, como el número de habitaciones, baños, tamaño del jardín, etc. Otras pueden parecer menos importantes como disponer de un cobertizo o no. Y seguro que, como siempre, habrá gemas ocultas en este conjunto de características. Todo lo que necesitamos hacer es predecir el precio final de la vivienda a partir de estas características."
   ]
  },
  {
   "cell_type": "code",
   "execution_count": null,
   "metadata": {},
   "outputs": [],
   "source": []
  }
 ],
 "metadata": {
  "kernelspec": {
   "display_name": "Python 3",
   "language": "python",
   "name": "python3"
  },
  "language_info": {
   "codemirror_mode": {
    "name": "ipython",
    "version": 3
   },
   "file_extension": ".py",
   "mimetype": "text/x-python",
   "name": "python",
   "nbconvert_exporter": "python",
   "pygments_lexer": "ipython3",
   "version": "3.7.0"
  }
 },
 "nbformat": 4,
 "nbformat_minor": 2
}
