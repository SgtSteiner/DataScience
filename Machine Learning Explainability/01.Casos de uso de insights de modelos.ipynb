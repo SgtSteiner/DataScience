{
 "cells": [
  {
   "cell_type": "markdown",
   "metadata": {},
   "source": [
    "# Casos de Uso para Insights de modelos"
   ]
  },
  {
   "cell_type": "markdown",
   "metadata": {},
   "source": [
    "## ¿Qué tipos de insights son posibles?"
   ]
  },
  {
   "cell_type": "markdown",
   "metadata": {},
   "source": [
    "Muchas personas dicen que los modelos de machine learning son \"cajas negras\", en el sentido de que pueden hacer buenas predicciones pero no pueden entender la lógica detras de esas predicciones. Esta afirmación es cierta en el sentido de que la mayoría de los científicos de datos aún no saben cómo extraer *insights* de los modelos.\n",
    "\n",
    "Sin embargo, este breve curso le enseñará técnicas para explicar los hallazgos de sofisticados modelos de machine learning.\n",
    "\n",
    "+ ¿Qué características de los datos consideró el modelo como más importantes?\n",
    "+ Para cualquier predicción individual de un modelo, ¿cómo afectó cada característica de los datos a esa predicción en particular?\n",
    "+ ¿Cómo afecta cada característica a las predicciones del modelo en un sentido global? ¿Cuál es su efecto típico cuando se considera sobre un gran número de predicciones posibles?"
   ]
  },
  {
   "cell_type": "markdown",
   "metadata": {},
   "source": [
    "## ¿Por qué son estos insights valiosos?"
   ]
  },
  {
   "cell_type": "markdown",
   "metadata": {},
   "source": [
    "Estos insights tienen muchos usos, incluyendo:\n",
    "\n",
    "+ Depuración\n",
    "+ Informar a la ingeniería de características\n",
    "+ Dirigir la futura recopilación de datos\n",
    "+ Informar a la toma de decisiones humana\n",
    "+ Generar confianza"
   ]
  },
  {
   "cell_type": "markdown",
   "metadata": {},
   "source": [
    "### Depuración"
   ]
  },
  {
   "cell_type": "markdown",
   "metadata": {},
   "source": [
    "En el mundo existen multitud de datos poco fiables, desorganizados y generalmente \"sucios\". Tú añades una potencial fuente de errores al escribir el código de preprocesamiento. Agrega a eso el potencial de carencias en los datos del objetivo y es la norma, más que la excepción, tener errores en algún momento en los proyectos reales de ciencia del dato.\n",
    "\n",
    "Dada la frecuencia y las consecuencias potencialmente desastrosas de los errores, la depuración es una de las habilidades más valiosas en la ciencia de datos. Comprender los patrones que está encontrando un modelo le ayudará a identificiar cuándo están en desacuerdo con su conocimiento del mundo real y este suele ser típicamente el primer paso para localizar errores."
   ]
  },
  {
   "cell_type": "markdown",
   "metadata": {},
   "source": [
    "### Informar a la ingeniería de características"
   ]
  },
  {
   "cell_type": "markdown",
   "metadata": {},
   "source": [
    "La ingeniería de características suele ser la forma más efectiva de mejorar la precisión del modelo. La ingeniería de características generalmente implica crear repetidamente nuevas características utilizando transformaciones de tus datos en bruto o características que hayas creado anteriormente.\n",
    "\n",
    "A veces, puedes pasar por este proceso utilizando únicamente la intuición sobre el tema subyacente. Pero necesitarás más orientación cuando tengas cientos de funciones en bruto o cuando no tengas conocimientos básicos sobre el tema en el que estás trabajando.\n",
    "\n",
    "Una competición de Kaggle para predecir el incumplimiento de los préstamos es un ejemplo extremo. Esta competición tuvo cientos de características en bruto. Por razones de privacidad, las funciones tenían nombres como f1, f2, f3 en lugar de nombres comunes en inglés. Esto simuló un escenario en el que tienes poca intuición sobre los datos en bruto.\n",
    "\n",
    "Un competidor descubrió que la diferencia entre dos de las características, específicamente f527 - f528, generó una nueva característica muy poderosa. Los modelos que incluyen esa diferencia como característica eran mucho mejores que los modelos sin ella. Pero, ¿cómo puedes pensar en crear esta variable cuando comienzas con cientos de variables?\n",
    "\n",
    "Las técnicas que aprenderás en este curso harán que sea transparente que f527 y f528 sean características importantes, y que sus roles estén estrechamente ligados. Esto te llevará a considerar las transformaciones de estas dos variables y, probablemente, encuentres la \"característica dorada\" de f527 - f528.\n",
    "\n",
    "Como un número creciente de conjuntos de datos comienzan con cientos o miles de características en bruto, este enfoque es cada vez más importante."
   ]
  },
  {
   "cell_type": "markdown",
   "metadata": {},
   "source": [
    "### Dirigir la futura recopilación de datos"
   ]
  },
  {
   "cell_type": "markdown",
   "metadata": {},
   "source": [
    "Tú no tienes control sobre los conjuntos de datos que descargas en línea. Pero muchas empresas y organizaciones que utilizan la ciencia de datos tienen la oportunidad de expandir qué tipo de datos recopilan. La recopilación de nuevos tipos de datos puede ser costosa o un inconveniente, por lo que solo quieren hacerlo si saben que valdrá la pena. Los insights basados en modelos te brindan una buena comprensión del valor de las características que tienes actualmente, lo que te ayudará a razonar sobre qué nuevos valores pueden ser más útiles."
   ]
  },
  {
   "cell_type": "markdown",
   "metadata": {},
   "source": [
    "### Informar a la toma de decisiones humana"
   ]
  },
  {
   "cell_type": "markdown",
   "metadata": {},
   "source": [
    "Algunas decisiones son tomadas automáticamente por modelos. Amazon no tiene humanos corriendo (o elfos) para decidir qué mostrarte cada vez que vayas a su sitio web. Pero muchas decisiones importantes son tomadas humanos. Para estas decisiones, los insights pueden ser más valiosos que las predicciones."
   ]
  },
  {
   "cell_type": "markdown",
   "metadata": {},
   "source": [
    "### Generar confianza"
   ]
  },
  {
   "cell_type": "markdown",
   "metadata": {},
   "source": [
    "Muchas personas no asumirán que pueden confiar en su modelo para tomar decisiones importantes sin verificar algunos datos básicos. Esta es una precaución inteligente dada la frecuencia de errores de datos. En la práctica, mostrar insights que se ajusten a la comprensión general del problema ayudará a generar confianza, incluso entre personas con poco conocimiento profundo de ciencia de datos."
   ]
  },
  {
   "cell_type": "markdown",
   "metadata": {},
   "source": [
    "## Sigue avanzando"
   ]
  },
  {
   "cell_type": "markdown",
   "metadata": {},
   "source": [
    "El primer insight que veremos es la **Importancia de la Permutación**."
   ]
  }
 ],
 "metadata": {
  "kernelspec": {
   "display_name": "Python 3",
   "language": "python",
   "name": "python3"
  },
  "language_info": {
   "codemirror_mode": {
    "name": "ipython",
    "version": 3
   },
   "file_extension": ".py",
   "mimetype": "text/x-python",
   "name": "python",
   "nbconvert_exporter": "python",
   "pygments_lexer": "ipython3",
   "version": "3.7.0"
  }
 },
 "nbformat": 4,
 "nbformat_minor": 2
}
