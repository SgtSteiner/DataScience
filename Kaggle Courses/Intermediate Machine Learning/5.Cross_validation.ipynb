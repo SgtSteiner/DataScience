{
 "cells": [
  {
   "cell_type": "markdown",
   "metadata": {},
   "source": [
    "# Aprendizaje Automático - Intermedio\n",
    "\n",
    "## Cross validation\n",
    "\n",
    "### Introducción\n",
    "\n",
    "En este tutorial aprenderemos cómo usar la **validación cruzada** para medir mejor la ejecución del modelo.\n",
    "\n",
    "El aprendizaje automático es un proceso iterativo. Te enfrentarás a elecciones sobre qué variables predictivas usar, qué tipos de modelos usar, qué argumentos proporcionar a esos modelos, etc. Hasta ahora, has tomado estas decisiones de una manera basada en datos midiendo la calidad del modelo con un conjunto de validación (o reserva).\n",
    "\n",
    "Pero hay algunos inconvenientes en este enfoque. Para entender esto imagina que tienes un conjunto de datos con 5000 filas. Por lo general, mantendrás aproximadamente el 20% de los datos como un conjunto de datos de validación, ó 1000 filas. Pero esto deja alguna posibilidad aleatoria de determinar las puntuaciones del modelo. Es decir, un modelo podría funcionar bien en un conjunto de 1000 filas, incluso si fuera incorrecto en 1000 filas diferentes.\n",
    "\n",
    "En el extremo, puedes imaginar tener solo 1 fila de datos en el conjunto de validación. Si comparas modelos alternativos, ¡cuál de ellos hace las mejores predicciones en un solo punto de datos será sobre todo una cuestión de suerte!\n",
    "\n",
    "En general, cuanto mayor sea el conjunto de validación, menor aleatoriedad (también conocido como \"ruido\") hay en nuestra medida de calidad del modelo y más confiable será. Desafortunadamente, solo podemos obtener un conjunto de validación grande eliminando filas de nuestros datos de entrenamiento y los conjuntos de datos de entrenamiento más pequeños significan modelos peores.\n",
    "\n",
    "### ¿Qué es la validación cruzada?\n",
    "\n",
    "En la **validación cruzada** o *cross-validation*, ejecutamos nuestro proceso de modelado en diferentes subconjuntos de datos para obtener múltiples medidas de calidad del modelo.\n",
    "\n",
    "Por ejemplo, podríamos comenzar dividiendo los datos en 5 partes, cada una de ella correspondiente al 20% del conjunto de datos completo. En este caso, decimos que hemos dividido los datos en 5 \"**folds**\".\n",
    "\n",
    "![cross_validation](./images/cross_validation.png)\n",
    "\n",
    "Luego, ejecutamos un experimento para cada fold:\n",
    "\n",
    "+ En el **Experimento 1**, usamos el primer fold como un conjunto de validación (o reserva) y todo lo demás como datos de entrenamiento. Esto nos da una medida de la calidad del modelo basada en un conjunto de reserva del 20%.\n",
    "+ En el **Experimento 2**, conservamos los datos del segundo fold (y usamos todo excepto el segundo fold para entrenar el modelo). El conjunto de reserva se utiliza para obtener una segunda estimación de la calidad del modelo.\n",
    "+ Repetimos este proceso, usando cada fold una vez como conjunto de reserva. En conjunto, el 100% de los datos se usan como reserva en algún momento y terminamos con una medida de la calidad del modelo que se basa en todas las filas del conjunto de datos (incluso si no usamos todas las filas simultáneamente)."
   ]
  },
  {
   "cell_type": "markdown",
   "metadata": {},
   "source": [
    "### ¿Cuándo debemos usar la validación cruzada?\n",
    "\n",
    "La validación cruzada proporciona una medida más precisa de la calidad del modelo, lo cual es especialmente importante si estamos tomando muchas decisiones de modelado. Sin embargo, puede llevar más tiempo ejecutarlo, ya que estima varios modelos (uno para cada fold).\n",
    "\n",
    "Entonces, dadas estas contrapartidas, ¿cuándo deberíamos usar cada enfoque?\n",
    "\n",
    "+ Para *conjuntos de datos pequeños*, donde la carga computacional adicional no es un gran problema, debemos ejecutar la validación cruzada.\n",
    "+ Para *conjuntos de datos más grandes*, un solo conjunto de validación es suficiente. Nuestro código se ejecutará más rápido y es posible que tengamos suficientes datos para que haya poca necesidad de reutilizar algunos de ellos para reservarlos.\n",
    "\n",
    "No existe un umbral simple para lo que constituye un conjunto de datos grande versus pequeño. Pero si el modelo tarda unos minutos o menos en ejecutarse, probablemente valga la pena cambiar a validación cruzada.\n",
    "\n",
    "Alternativamente, se puede ejecutar la validación cruzada y ver si las puntuaciones para cada experimento parecen cercanas. Si cada experimento produce los mismos resultados, un solo conjunto de validación es probablemente suficiente."
   ]
  },
  {
   "cell_type": "markdown",
   "metadata": {},
   "source": [
    "### Ejemplo"
   ]
  },
  {
   "cell_type": "code",
   "execution_count": 5,
   "metadata": {},
   "outputs": [],
   "source": [
    "import pandas as pd\n",
    "\n",
    "# Lee los datos\n",
    "data = pd.read_csv('./input/melbourne-housing-snapshot/melb_data.csv')\n",
    "\n",
    "# Selecciona el subconjunto de predictores\n",
    "cols_to_use = ['Rooms', 'Distance', 'Landsize', 'BuildingArea', 'YearBuilt']\n",
    "X = data[cols_to_use]\n",
    "\n",
    "# Selecciona el objetivo\n",
    "y = data.Price"
   ]
  },
  {
   "cell_type": "markdown",
   "metadata": {},
   "source": [
    "Luego, definimos un pipeline que utiliza un imputador para completar los valores ausentes y un modelo de random forest para hacer predicciones.\n",
    "\n",
    "Si bien es posible hacer una validación cruzada sin pipelines, ¡es bastante difícil! El uso de un pipeline hará que el código sea notablemente sencillo."
   ]
  },
  {
   "cell_type": "code",
   "execution_count": 8,
   "metadata": {},
   "outputs": [],
   "source": [
    "from sklearn.ensemble import RandomForestRegressor\n",
    "from sklearn.pipeline import Pipeline\n",
    "from sklearn.impute import SimpleImputer\n",
    "\n",
    "my_pipeline = Pipeline(steps=[('preprocessor', SimpleImputer()),\n",
    "                              ('model', RandomForestRegressor(n_estimators=50,\n",
    "                                                              random_state=0))\n",
    "                             ])"
   ]
  },
  {
   "cell_type": "markdown",
   "metadata": {},
   "source": [
    "Obtenemos las puntuaciones de validación cruzada con la función `cross_val_score()` de scikit-learn. Establecemos el número de folds con el parámetro `cv`."
   ]
  },
  {
   "cell_type": "code",
   "execution_count": 9,
   "metadata": {},
   "outputs": [
    {
     "name": "stdout",
     "output_type": "stream",
     "text": [
      "Puntuación MAE:\n",
      " [301628.7893587  303164.4782723  287298.331666   236061.84754543\n",
      " 260383.45111427]\n"
     ]
    }
   ],
   "source": [
    "from sklearn.model_selection import cross_val_score\n",
    "\n",
    "# Multiplicamos por -1 ya que sklearn calcula MAE negativos\n",
    "scores = -1 * cross_val_score(my_pipeline, X, y,\n",
    "                              cv=5,\n",
    "                              scoring='neg_mean_absolute_error')\n",
    "\n",
    "print(\"Puntuación MAE:\\n\", scores)"
   ]
  },
  {
   "cell_type": "markdown",
   "metadata": {},
   "source": [
    "El parámetro `scoring` elige una medida de la calidad del modelo a usar: en este caso, elegimos el error absoluto medio negativo (MAE). Los documentos de scikit-learn muestran una [lista de opciones](https://scikit-learn.org/stable/modules/model_evaluation.html).\n",
    "\n",
    "Es un poco sorprendente que especifiquemos MAE negativo. Scikit-learn tiene una convención en la que se definen todas las métricas para que un número alto sea mejor. El uso de negativos aquí les permite ser consistentes con esa convención, aunque el MAE negativo es casi desconocido en otros lugares.\n",
    "\n",
    "Generalmente, queremos una sola medida de la calidad del modelo para comparar modelos alternativos. Entonces tomamos el promedio de todas los experimentos."
   ]
  },
  {
   "cell_type": "code",
   "execution_count": 10,
   "metadata": {},
   "outputs": [
    {
     "name": "stdout",
     "output_type": "stream",
     "text": [
      "Puntuación media MAE (a través de los experimentos):\n",
      "277707.3795913405\n"
     ]
    }
   ],
   "source": [
    "print(\"Puntuación media MAE (a través de los experimentos):\")\n",
    "print(scores.mean())"
   ]
  },
  {
   "cell_type": "markdown",
   "metadata": {},
   "source": [
    "### Conclusión\n",
    "El uso de la validación cruzada produce una medida mucho mejor de la calidad del modelo, con el beneficio adicional de hacer nuestro código más limpio: ten en cuenta que ya no necesitamos seguir la pista de conjuntos de entrenamiento y validación separados. Entonces, especialmente para conjuntos de datos pequeños, ¡es una buena mejora!"
   ]
  },
  {
   "cell_type": "markdown",
   "metadata": {},
   "source": [
    "### Ejercicio\n",
    "\n",
    "En este ejercicio, aprovecharremos lo que aprendido para ajustar un modelo de aprendizaje automático con **validación cruzada**. Trabajaremos con datos de [Housing Prices Competition for Kaggle Learn Users](https://www.kaggle.com/c/home-data-for-ml-course). \n",
    "\n",
    "![Ames Housing dataset image](https://i.imgur.com/lTJVG4e.png)\n",
    "\n",
    "Vamos a cargar los conjuntos de entrenamiento y validación en `X_train`, `X_valid`, `y_train`, e `y_valid`.  El conjunto de pruebas es cargado en `X_test`."
   ]
  },
  {
   "cell_type": "code",
   "execution_count": 1,
   "metadata": {},
   "outputs": [],
   "source": [
    "import pandas as pd\n",
    "from sklearn.model_selection import train_test_split\n",
    "\n",
    "# lee los datos\n",
    "train_data = pd.read_csv('./input/train.csv', index_col='Id')\n",
    "test_data = pd.read_csv('./input/test.csv', index_col='Id')\n",
    "\n",
    "# elimina columnas con objetivos ausentes, separa objetivo de predictores\n",
    "train_data.dropna(axis=0, subset=['SalePrice'], inplace=True)\n",
    "y = train_data.SalePrice              \n",
    "train_data.drop(['SalePrice'], axis=1, inplace=True)\n",
    "\n",
    "# Selecciona solo las columnas numéricas\n",
    "numeric_cols = [cname for cname in train_data.columns if train_data[cname].dtype in ['int64', 'float64']]\n",
    "X = train_data[numeric_cols].copy()\n",
    "X_test = test_data[numeric_cols].copy()"
   ]
  },
  {
   "cell_type": "code",
   "execution_count": 2,
   "metadata": {},
   "outputs": [
    {
     "data": {
      "text/html": [
       "<div>\n",
       "<style scoped>\n",
       "    .dataframe tbody tr th:only-of-type {\n",
       "        vertical-align: middle;\n",
       "    }\n",
       "\n",
       "    .dataframe tbody tr th {\n",
       "        vertical-align: top;\n",
       "    }\n",
       "\n",
       "    .dataframe thead th {\n",
       "        text-align: right;\n",
       "    }\n",
       "</style>\n",
       "<table border=\"1\" class=\"dataframe\">\n",
       "  <thead>\n",
       "    <tr style=\"text-align: right;\">\n",
       "      <th></th>\n",
       "      <th>MSSubClass</th>\n",
       "      <th>LotFrontage</th>\n",
       "      <th>LotArea</th>\n",
       "      <th>OverallQual</th>\n",
       "      <th>OverallCond</th>\n",
       "      <th>YearBuilt</th>\n",
       "      <th>YearRemodAdd</th>\n",
       "      <th>MasVnrArea</th>\n",
       "      <th>BsmtFinSF1</th>\n",
       "      <th>BsmtFinSF2</th>\n",
       "      <th>...</th>\n",
       "      <th>GarageArea</th>\n",
       "      <th>WoodDeckSF</th>\n",
       "      <th>OpenPorchSF</th>\n",
       "      <th>EnclosedPorch</th>\n",
       "      <th>3SsnPorch</th>\n",
       "      <th>ScreenPorch</th>\n",
       "      <th>PoolArea</th>\n",
       "      <th>MiscVal</th>\n",
       "      <th>MoSold</th>\n",
       "      <th>YrSold</th>\n",
       "    </tr>\n",
       "    <tr>\n",
       "      <th>Id</th>\n",
       "      <th></th>\n",
       "      <th></th>\n",
       "      <th></th>\n",
       "      <th></th>\n",
       "      <th></th>\n",
       "      <th></th>\n",
       "      <th></th>\n",
       "      <th></th>\n",
       "      <th></th>\n",
       "      <th></th>\n",
       "      <th></th>\n",
       "      <th></th>\n",
       "      <th></th>\n",
       "      <th></th>\n",
       "      <th></th>\n",
       "      <th></th>\n",
       "      <th></th>\n",
       "      <th></th>\n",
       "      <th></th>\n",
       "      <th></th>\n",
       "      <th></th>\n",
       "    </tr>\n",
       "  </thead>\n",
       "  <tbody>\n",
       "    <tr>\n",
       "      <th>1</th>\n",
       "      <td>60</td>\n",
       "      <td>65.0</td>\n",
       "      <td>8450</td>\n",
       "      <td>7</td>\n",
       "      <td>5</td>\n",
       "      <td>2003</td>\n",
       "      <td>2003</td>\n",
       "      <td>196.0</td>\n",
       "      <td>706</td>\n",
       "      <td>0</td>\n",
       "      <td>...</td>\n",
       "      <td>548</td>\n",
       "      <td>0</td>\n",
       "      <td>61</td>\n",
       "      <td>0</td>\n",
       "      <td>0</td>\n",
       "      <td>0</td>\n",
       "      <td>0</td>\n",
       "      <td>0</td>\n",
       "      <td>2</td>\n",
       "      <td>2008</td>\n",
       "    </tr>\n",
       "    <tr>\n",
       "      <th>2</th>\n",
       "      <td>20</td>\n",
       "      <td>80.0</td>\n",
       "      <td>9600</td>\n",
       "      <td>6</td>\n",
       "      <td>8</td>\n",
       "      <td>1976</td>\n",
       "      <td>1976</td>\n",
       "      <td>0.0</td>\n",
       "      <td>978</td>\n",
       "      <td>0</td>\n",
       "      <td>...</td>\n",
       "      <td>460</td>\n",
       "      <td>298</td>\n",
       "      <td>0</td>\n",
       "      <td>0</td>\n",
       "      <td>0</td>\n",
       "      <td>0</td>\n",
       "      <td>0</td>\n",
       "      <td>0</td>\n",
       "      <td>5</td>\n",
       "      <td>2007</td>\n",
       "    </tr>\n",
       "    <tr>\n",
       "      <th>3</th>\n",
       "      <td>60</td>\n",
       "      <td>68.0</td>\n",
       "      <td>11250</td>\n",
       "      <td>7</td>\n",
       "      <td>5</td>\n",
       "      <td>2001</td>\n",
       "      <td>2002</td>\n",
       "      <td>162.0</td>\n",
       "      <td>486</td>\n",
       "      <td>0</td>\n",
       "      <td>...</td>\n",
       "      <td>608</td>\n",
       "      <td>0</td>\n",
       "      <td>42</td>\n",
       "      <td>0</td>\n",
       "      <td>0</td>\n",
       "      <td>0</td>\n",
       "      <td>0</td>\n",
       "      <td>0</td>\n",
       "      <td>9</td>\n",
       "      <td>2008</td>\n",
       "    </tr>\n",
       "    <tr>\n",
       "      <th>4</th>\n",
       "      <td>70</td>\n",
       "      <td>60.0</td>\n",
       "      <td>9550</td>\n",
       "      <td>7</td>\n",
       "      <td>5</td>\n",
       "      <td>1915</td>\n",
       "      <td>1970</td>\n",
       "      <td>0.0</td>\n",
       "      <td>216</td>\n",
       "      <td>0</td>\n",
       "      <td>...</td>\n",
       "      <td>642</td>\n",
       "      <td>0</td>\n",
       "      <td>35</td>\n",
       "      <td>272</td>\n",
       "      <td>0</td>\n",
       "      <td>0</td>\n",
       "      <td>0</td>\n",
       "      <td>0</td>\n",
       "      <td>2</td>\n",
       "      <td>2006</td>\n",
       "    </tr>\n",
       "    <tr>\n",
       "      <th>5</th>\n",
       "      <td>60</td>\n",
       "      <td>84.0</td>\n",
       "      <td>14260</td>\n",
       "      <td>8</td>\n",
       "      <td>5</td>\n",
       "      <td>2000</td>\n",
       "      <td>2000</td>\n",
       "      <td>350.0</td>\n",
       "      <td>655</td>\n",
       "      <td>0</td>\n",
       "      <td>...</td>\n",
       "      <td>836</td>\n",
       "      <td>192</td>\n",
       "      <td>84</td>\n",
       "      <td>0</td>\n",
       "      <td>0</td>\n",
       "      <td>0</td>\n",
       "      <td>0</td>\n",
       "      <td>0</td>\n",
       "      <td>12</td>\n",
       "      <td>2008</td>\n",
       "    </tr>\n",
       "  </tbody>\n",
       "</table>\n",
       "<p>5 rows × 36 columns</p>\n",
       "</div>"
      ],
      "text/plain": [
       "    MSSubClass  LotFrontage  LotArea  OverallQual  OverallCond  YearBuilt  \\\n",
       "Id                                                                          \n",
       "1           60         65.0     8450            7            5       2003   \n",
       "2           20         80.0     9600            6            8       1976   \n",
       "3           60         68.0    11250            7            5       2001   \n",
       "4           70         60.0     9550            7            5       1915   \n",
       "5           60         84.0    14260            8            5       2000   \n",
       "\n",
       "    YearRemodAdd  MasVnrArea  BsmtFinSF1  BsmtFinSF2  ...  GarageArea  \\\n",
       "Id                                                    ...               \n",
       "1           2003       196.0         706           0  ...         548   \n",
       "2           1976         0.0         978           0  ...         460   \n",
       "3           2002       162.0         486           0  ...         608   \n",
       "4           1970         0.0         216           0  ...         642   \n",
       "5           2000       350.0         655           0  ...         836   \n",
       "\n",
       "    WoodDeckSF  OpenPorchSF  EnclosedPorch  3SsnPorch  ScreenPorch  PoolArea  \\\n",
       "Id                                                                             \n",
       "1            0           61              0          0            0         0   \n",
       "2          298            0              0          0            0         0   \n",
       "3            0           42              0          0            0         0   \n",
       "4            0           35            272          0            0         0   \n",
       "5          192           84              0          0            0         0   \n",
       "\n",
       "    MiscVal  MoSold  YrSold  \n",
       "Id                           \n",
       "1         0       2    2008  \n",
       "2         0       5    2007  \n",
       "3         0       9    2008  \n",
       "4         0       2    2006  \n",
       "5         0      12    2008  \n",
       "\n",
       "[5 rows x 36 columns]"
      ]
     },
     "execution_count": 2,
     "metadata": {},
     "output_type": "execute_result"
    }
   ],
   "source": [
    "X.head()"
   ]
  },
  {
   "cell_type": "markdown",
   "metadata": {},
   "source": [
    "Hasta ahora, hemos aprendido a construir pipelines con scikit-learn. Por ejemplo, el siguiente pipeline usará [`SimpleImputer()`](https://scikit-learn.org/stable/modules/generated/sklearn.impute.SimpleImputer.html) para reemplazar los valores ausentes en los datos, antes de usar [`RandomForestRegressor()`](https://scikit-learn.org/stable/modules/generated/sklearn.ensemble.RandomForestRegressor.html) para entrenar un modelo de random forest para hacer predicciones. Establecemos el número de árboles en el modelo de random forest con el parámetro `n_estimators`, y establecer `random_state` asegura la reproducibilidad."
   ]
  },
  {
   "cell_type": "code",
   "execution_count": 4,
   "metadata": {},
   "outputs": [],
   "source": [
    "from sklearn.ensemble import RandomForestRegressor\n",
    "from sklearn.pipeline import Pipeline\n",
    "from sklearn.impute import SimpleImputer\n",
    "\n",
    "my_pipeline = Pipeline(steps=[\n",
    "    ('preprocessor', SimpleImputer()),\n",
    "    ('model', RandomForestRegressor(n_estimators=50, random_state=0))\n",
    "])"
   ]
  },
  {
   "cell_type": "markdown",
   "metadata": {},
   "source": [
    "También aprendimos a usar pipelines en la validación cruzada. El siguiente código utiliza la función [`cross_val_score()`](https://scikit-learn.org/stable/modules/generated/sklearn.model_selection.cross_val_score.html) para obtener el error absoluto medio (MAE), promediado a partir de cinco folds diferentes. Recordemos que establecemos el número de pliegues con el parámetro `cv`."
   ]
  },
  {
   "cell_type": "code",
   "execution_count": 5,
   "metadata": {},
   "outputs": [
    {
     "name": "stdout",
     "output_type": "stream",
     "text": [
      "Puntuación media MAE: 18276.410356164386\n"
     ]
    }
   ],
   "source": [
    "from sklearn.model_selection import cross_val_score\n",
    "\n",
    "# Multiplicamos por -1 ya que sklearn calcula MAE negativos\n",
    "scores = -1 * cross_val_score(my_pipeline, X, y,\n",
    "                              cv=5,\n",
    "                              scoring='neg_mean_absolute_error')\n",
    "\n",
    "print(\"Puntuación media MAE:\", scores.mean())"
   ]
  },
  {
   "cell_type": "markdown",
   "metadata": {},
   "source": [
    "#### Paso 1: Escribe una función útil\n",
    "\n",
    "En este ejercicio, utilizaremos la validación cruzada para seleccionar parámetros para un modelo de aprendizaje automático.\n",
    "\n",
    "Comienza escribiendo una función `get_score()` que informe el MAE promedio (en tres folds de validación cruzada) de un pipeline de aprendizaje automático que utiliza:\n",
    "- los datos en `X` e `y` para crear folds,\n",
    "- `SimpleImputer()` (con todos los parámetros dejados por defecto) para reemplazar los valores faltantes, y\n",
    "- `RandomForestRegressor()` (con `random_state = 0`) para ajustar un modelo de bosque aleatorio.\n",
    "\n",
    "El parámetro `n_estimators` suministrado a `get_score()` se usa al establecer el número de árboles en el modelo de random forest."
   ]
  },
  {
   "cell_type": "code",
   "execution_count": 6,
   "metadata": {},
   "outputs": [],
   "source": [
    "def get_score(n_estimators):\n",
    "    my_pipeline = Pipeline(steps=[\n",
    "        ('preprocessor', SimpleImputer()),\n",
    "        ('model', RandomForestRegressor(n_estimators, random_state=0))\n",
    "    ])\n",
    "    scores = -1 * cross_val_score(my_pipeline, X, y,\n",
    "                                  cv=3,\n",
    "                                  scoring='neg_mean_absolute_error')\n",
    "    return scores.mean()\n"
   ]
  },
  {
   "cell_type": "markdown",
   "metadata": {},
   "source": [
    "#### Paso 2: Prueba diferentes valores de parámetros\n",
    "\n",
    "Ahora, utilizarás la función definida en el Paso 1 para evaluar el rendimiento del modelo correspondiente a ocho valores diferentes para el número de árboles en el random forest: 50, 100, 150, ..., 300, 350, 400.\n",
    "\n",
    "Almacena sus resultados en un diccionario de Python `results`, donde `results [i]` es el MAE promedio devuelto por `get_scores (i)`."
   ]
  },
  {
   "cell_type": "code",
   "execution_count": 7,
   "metadata": {},
   "outputs": [],
   "source": [
    "results = {}\n",
    "for i in range(1,9):\n",
    "    results[50*i] = get_score(50*i)"
   ]
  },
  {
   "cell_type": "markdown",
   "metadata": {},
   "source": [
    "#### Paso 3: Encuentra el mejor valor de parámetro\n",
    "\n",
    "Vamos a visualizar los resultados del Paso 2."
   ]
  },
  {
   "cell_type": "code",
   "execution_count": 17,
   "metadata": {},
   "outputs": [
    {
     "data": {
      "image/png": "[encoded data removed]",
      "text/plain": [
       "<Figure size 432x288 with 1 Axes>"
      ]
     },
     "metadata": {
      "needs_background": "light"
     },
     "output_type": "display_data"
    }
   ],
   "source": [
    "import matplotlib.pyplot as plt\n",
    "%matplotlib inline\n",
    "\n",
    "plt.plot(list(results.keys()), list(results.values()))\n",
    "plt.show()"
   ]
  },
  {
   "cell_type": "markdown",
   "metadata": {},
   "source": [
    "Dados los resultados, ¿qué valor de `n_estimators` parece mejor para el modelo de random forest?"
   ]
  },
  {
   "cell_type": "code",
   "execution_count": 18,
   "metadata": {},
   "outputs": [],
   "source": [
    "n_estimators_best = 200"
   ]
  },
  {
   "cell_type": "markdown",
   "metadata": {},
   "source": [
    "En este ejercicio, has explorado un método para elegir los parámetros apropiados en un modelo de aprendizaje automático.\n",
    "\n",
    "Si deseas obtener más información sobre [optimización de hiperparámetros](https://en.wikipedia.org/wiki/Hyperparameter_optimization), recomendamos que comiences con **grid search**, que es un método sencillo para determinar la mejor combinación de parámetros para un modelo de aprendizaje automático. Afortunadamente, scikit-learn también contiene una función incorporada [`GridSearchCV()`](https://scikit-learn.org/stable/modules/generated/sklearn.model_selection.GridSearchCV.html) que puede hacer el código de grid search muy eficiente."
   ]
  }
 ],
 "metadata": {
  "kernelspec": {
   "display_name": "Python 3",
   "language": "python",
   "name": "python3"
  },
  "language_info": {
   "codemirror_mode": {
    "name": "ipython",
    "version": 3
   },
   "file_extension": ".py",
   "mimetype": "text/x-python",
   "name": "python",
   "nbconvert_exporter": "python",
   "pygments_lexer": "ipython3",
   "version": "3.7.4"
  }
 },
 "nbformat": 4,
 "nbformat_minor": 4
}
