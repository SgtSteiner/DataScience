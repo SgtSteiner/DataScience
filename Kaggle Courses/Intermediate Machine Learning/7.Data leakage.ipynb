{
 "cells": [
  {
   "cell_type": "markdown",
   "metadata": {},
   "source": [
    "# Aprendizaje Automático - Intermedio\n",
    "\n",
    "## Data leakage\n",
    "\n",
    "* [Introducción](#introduccion)\n",
    "  * [Fuga objetivo](#fuga_objetivo)\n",
    "  * [Contaminación entramiento-prueba](#contaminacion_train_test)\n",
    "* [Ejemplo](#ejemplo)\n",
    "* [Conclusión](#conclusion1)\n",
    "* [Ejercicio](#ejercicio)\n",
    "  * [La ciencia de datos de cordones](#laciencia)\n",
    "  * [El regreso de los cordones](#elregreso)\n",
    "  * [¿Hacerse rico con las criptomonedas?](#hacerserico)\n",
    "  * [Prevención de infecciones](#prevencion)\n",
    "  * [Conclusiones](#conclusion2)\n",
    "\n",
    "<a name=\"introduccion\"></a>\n",
    "### Introducción\n",
    "\n",
    "En este tutorial, aprenderemos qué es la fuga de datos y cómo prevenirla. Si no sabemos prevenirlo, las fugas aparecerán con frecuencia y arruinarán nuestros modelos de manera sutil y peligrosa. Por tanto, este es uno de los conceptos más importantes para la práctica de los científicos de datos.\n",
    "\n",
    "La **fuga de datos** (o **fuga**) ocurre cuando los datos de entrenamiento contienen información sobre el objetivo, pero datos similares no estarán disponibles cuando el modelo se use para la predicción. Esto conduce a un alto rendimiento en el conjunto de entrenamiento (y posiblemente incluso en los datos de validación), pero el modelo funcionará mal en producción. En otras palabras, la fuga hace que un modelo parezca preciso hasta que comience a tomar decisiones con el modelo y luego el modelo se vuelve muy inexacto.\n",
    "\n",
    "Hay dos tipos principales de fuga: fuga objetivo (**target leakage**) y contaminación entrenamiento-prueba (**train-test contamination**)."
   ]
  },
  {
   "cell_type": "markdown",
   "metadata": {},
   "source": [
    "<a name=\"fuga_objetivo\"></a>\n",
    "#### Fuga objetivo\n",
    "\n",
    "La **fuga objetivo** se produce cuando los predictores incluyen datos que no estarán disponibles en el momento en que realice las predicciones. Es importante pensar en la fuga objetivo en términos del *tiempo* o el *orden cronológico* en que los datos están disponibles, no solo si una característica ayuda a hacer buenas predicciones.\n",
    "\n",
    "Un ejemplo será útil. Imagina que quieres predecir quién enfermará de neumonía. Las primeras filas de datos en bruto se ven así:\n",
    "\n",
    "![tabla_leakage](./images/tabla_leakage.png)\n",
    "\n",
    "Las personas toman medicamentos antibióticos después de contraer neumonía para recuperarse. Los datos sin procesar muestran una fuerte relación entre esas columnas, pero `took_antibiotic_medicine` se cambia con frecuencia *después* de determinar el valor de `got_pneumonia`. Esta es la fuga objetivo.\n",
    "\n",
    "El modelo vería que cualquiera que tenga un valor de `False` para `took_atibiotic_medicine` no tenía neumonía. Dado que los datos de validación provienen de la misma fuente que los datos de entrenamiento, el patrón se repetirá en la validación y el modelo tendrá excelentes puntuaciones de validación (o validación cruzada). Pero el modelo será muy inexacto cuando se implemente posteriormente en el mundo real, porque incluso los pacientes que contraerán neumonía aún no habrán recibido antibióticos cuando necesitemos hacer predicciones sobre su salud futura.\n",
    "\n",
    "Para evitar este tipo de fuga de datos, se debe excluir cualquier variable actualizada (o creada) después de alcanzar el valor objetivo.\n",
    "\n",
    "![moment_prediction](./images/moment_prediction.png)"
   ]
  },
  {
   "cell_type": "markdown",
   "metadata": {},
   "source": [
    "<a name=\"contaminacion_train_test\"></a>\n",
    "#### Contaminación entrenamiento-prueba\n",
    "\n",
    "Se produce un tipo diferente de fuga cuando no se tiene cuidado de distinguir los datos de entrenamiento de los datos de validación. Recordemos que la validación pretende ser una medida de cómo funciona el modelo en datos que no se han considerado antes. Se puede corromper este proceso de manera sutil si los datos de validación afectan el comportamiento de preprocesamiento. Esto a veces se llama **contaminación entrenamiento-prueba**.\n",
    "\n",
    "Por ejemplo, imaginemos que se ejecuta el preprocesamiento (como ajustar un *imputer* a los valores faltantes) antes de llamar a `train_test_split()`. ¿El resulta final? El modelo puede obtener buenas puntuaciones de validación, lo que nos brinda una gran confianza en él, pero tiene un bajo rendimiento cuando se implementa para tomar decisiones. Después de todo, incorporamos datos de la validación o datos de prueba en la forma en que realiza las predicciones, por lo que puede funcionar bien en esos datos en particular, incluso si no se puede generalizar a nuevos datos. Este problema se vuelve aún más sutil (y más peligroso) cuando se realiza una ingeniería de características más compleja.\n",
    "\n",
    "Si nuestra validación se basa en una simple división *train-test-split*, excluyamos los datos de validación de cualquier tipo de *fitting*, incluida el fitting de los pasos de preprocesamiento. Esto es más fácil si se usan pipelines scikit-learn. ¡Al usar la validación cruzada, es aún más crítico que hagamos el preprocesamiento dentro del pipeline!"
   ]
  },
  {
   "cell_type": "markdown",
   "metadata": {},
   "source": [
    "<a name=\"ejemplo\"></a>\n",
    "### Ejemplo\n",
    "\n",
    "En este ejemplo, aprenderemos una forma de detectar y eliminar las fugas objetivo.\n",
    "\n",
    "Utilizaremos un conjunto de datos sobre aplicaciones de tarjetas de crédito. La información sobre cada solicitud de tarjeta de crédito se almacena en un DataFrame `X`. La usaremos para predecir qué aplicaciones se aceptaron en una Serie `y`."
   ]
  },
  {
   "cell_type": "code",
   "execution_count": 11,
   "metadata": {},
   "outputs": [
    {
     "name": "stdout",
     "output_type": "stream",
     "text": [
      "Número de filas del dataset: 1319\n"
     ]
    },
    {
     "data": {
      "text/html": [
       "<div>\n",
       "<style scoped>\n",
       "    .dataframe tbody tr th:only-of-type {\n",
       "        vertical-align: middle;\n",
       "    }\n",
       "\n",
       "    .dataframe tbody tr th {\n",
       "        vertical-align: top;\n",
       "    }\n",
       "\n",
       "    .dataframe thead th {\n",
       "        text-align: right;\n",
       "    }\n",
       "</style>\n",
       "<table border=\"1\" class=\"dataframe\">\n",
       "  <thead>\n",
       "    <tr style=\"text-align: right;\">\n",
       "      <th></th>\n",
       "      <th>reports</th>\n",
       "      <th>age</th>\n",
       "      <th>income</th>\n",
       "      <th>share</th>\n",
       "      <th>expenditure</th>\n",
       "      <th>owner</th>\n",
       "      <th>selfemp</th>\n",
       "      <th>dependents</th>\n",
       "      <th>months</th>\n",
       "      <th>majorcards</th>\n",
       "      <th>active</th>\n",
       "    </tr>\n",
       "  </thead>\n",
       "  <tbody>\n",
       "    <tr>\n",
       "      <td>0</td>\n",
       "      <td>0</td>\n",
       "      <td>37.66667</td>\n",
       "      <td>4.5200</td>\n",
       "      <td>0.033270</td>\n",
       "      <td>124.983300</td>\n",
       "      <td>True</td>\n",
       "      <td>False</td>\n",
       "      <td>3</td>\n",
       "      <td>54</td>\n",
       "      <td>1</td>\n",
       "      <td>12</td>\n",
       "    </tr>\n",
       "    <tr>\n",
       "      <td>1</td>\n",
       "      <td>0</td>\n",
       "      <td>33.25000</td>\n",
       "      <td>2.4200</td>\n",
       "      <td>0.005217</td>\n",
       "      <td>9.854167</td>\n",
       "      <td>False</td>\n",
       "      <td>False</td>\n",
       "      <td>3</td>\n",
       "      <td>34</td>\n",
       "      <td>1</td>\n",
       "      <td>13</td>\n",
       "    </tr>\n",
       "    <tr>\n",
       "      <td>2</td>\n",
       "      <td>0</td>\n",
       "      <td>33.66667</td>\n",
       "      <td>4.5000</td>\n",
       "      <td>0.004156</td>\n",
       "      <td>15.000000</td>\n",
       "      <td>True</td>\n",
       "      <td>False</td>\n",
       "      <td>4</td>\n",
       "      <td>58</td>\n",
       "      <td>1</td>\n",
       "      <td>5</td>\n",
       "    </tr>\n",
       "    <tr>\n",
       "      <td>3</td>\n",
       "      <td>0</td>\n",
       "      <td>30.50000</td>\n",
       "      <td>2.5400</td>\n",
       "      <td>0.065214</td>\n",
       "      <td>137.869200</td>\n",
       "      <td>False</td>\n",
       "      <td>False</td>\n",
       "      <td>0</td>\n",
       "      <td>25</td>\n",
       "      <td>1</td>\n",
       "      <td>7</td>\n",
       "    </tr>\n",
       "    <tr>\n",
       "      <td>4</td>\n",
       "      <td>0</td>\n",
       "      <td>32.16667</td>\n",
       "      <td>9.7867</td>\n",
       "      <td>0.067051</td>\n",
       "      <td>546.503300</td>\n",
       "      <td>True</td>\n",
       "      <td>False</td>\n",
       "      <td>2</td>\n",
       "      <td>64</td>\n",
       "      <td>1</td>\n",
       "      <td>5</td>\n",
       "    </tr>\n",
       "  </tbody>\n",
       "</table>\n",
       "</div>"
      ],
      "text/plain": [
       "   reports       age  income     share  expenditure  owner  selfemp  \\\n",
       "0        0  37.66667  4.5200  0.033270   124.983300   True    False   \n",
       "1        0  33.25000  2.4200  0.005217     9.854167  False    False   \n",
       "2        0  33.66667  4.5000  0.004156    15.000000   True    False   \n",
       "3        0  30.50000  2.5400  0.065214   137.869200  False    False   \n",
       "4        0  32.16667  9.7867  0.067051   546.503300   True    False   \n",
       "\n",
       "   dependents  months  majorcards  active  \n",
       "0           3      54           1      12  \n",
       "1           3      34           1      13  \n",
       "2           4      58           1       5  \n",
       "3           0      25           1       7  \n",
       "4           2      64           1       5  "
      ]
     },
     "execution_count": 11,
     "metadata": {},
     "output_type": "execute_result"
    }
   ],
   "source": [
    "import pandas as pd\n",
    "\n",
    "# Lee los datos\n",
    "data = pd.read_csv('./input/aer-credit-card-data/AER_credit_card_data.csv', \n",
    "                   true_values = ['yes'], false_values = ['no'])\n",
    "\n",
    "# Selecciona objetivo\n",
    "y = data.card\n",
    "\n",
    "# Selecciona predictores\n",
    "X = data.drop(['card'], axis=1)\n",
    "\n",
    "print(\"Número de filas del dataset: {}\".format(X.shape[0]))\n",
    "X.head()"
   ]
  },
  {
   "cell_type": "markdown",
   "metadata": {},
   "source": [
    "Como se trata de un pequeño conjunto de datos, utilizaremos la validación cruzada para garantizar medidas precisas de la calidad del modelo."
   ]
  },
  {
   "cell_type": "code",
   "execution_count": 12,
   "metadata": {},
   "outputs": [
    {
     "name": "stdout",
     "output_type": "stream",
     "text": [
      "Precisión Cross-validation: 0.981043\n"
     ]
    }
   ],
   "source": [
    "from sklearn.pipeline import make_pipeline\n",
    "from sklearn.ensemble import RandomForestClassifier\n",
    "from sklearn.model_selection import cross_val_score\n",
    "\n",
    "# Como no hay preprocesamiento, no necesitamos una tubería (¡de todos modos, se utiliza como práctica recomendada!)\n",
    "my_pipeline = make_pipeline(RandomForestClassifier(n_estimators=100))\n",
    "cv_scores = cross_val_score(my_pipeline, X, y, \n",
    "                            cv=5,\n",
    "                            scoring='accuracy')\n",
    "\n",
    "print(\"Precisión Cross-validation: %f\" % cv_scores.mean())"
   ]
  },
  {
   "cell_type": "markdown",
   "metadata": {},
   "source": [
    "Con la experiencia, descubriremos que es muy raro encontrar modelos que sean precisos el 98% del tiempo. Sucede, pero es bastante raro que debamos inspeccionar los datos más de cerca para detectar fugas objetivo. \n",
    "\n",
    "Aquí hay un resumen de los datos, que también puede encontrar en la pestaña de datos:\n",
    "\n",
    "+ `card`: 1 si se acepta la solicitud de tarjeta de crédito, 0 si no\n",
    "+ `reports`: número de informes derogados importantes\n",
    "+ `age`: edad n años más doceavos de año\n",
    "+ `income`: ingreso anual (dividido entre 10,000)\n",
    "+ `share`: relación entre el gasto mensual con tarjeta de crédito y el ingreso anual\n",
    "+ `expenditure`: gasto mensual promedio de tarjeta de crédito\n",
    "+ `owner`: 1 si posee casa, 0 si alquila\n",
    "+ `selfempl`: 1 si trabaja por cuenta propia, 0 si no\n",
    "+ `dependents`: 1 + número de dependientes\n",
    "+ `months`: meses viviendo en la dirección actual\n",
    "+ `majorcards`: número de tarjetas de crédito principales retenidas\n",
    "+ `active`: número de cuentas de crédito activas\n",
    "\n",
    "Algunas variables parecen sospechosas. Por ejemplo, ¿**`expenditure`** significa gasto en esta tarjeta o en tarjetas usadas antes de la aplicación?\n",
    "\n",
    "En este punto, las comparaciones de datos básicos pueden ser muy útiles:"
   ]
  },
  {
   "cell_type": "code",
   "execution_count": 14,
   "metadata": {},
   "outputs": [
    {
     "name": "stdout",
     "output_type": "stream",
     "text": [
      "Fracción de aquellos que no recibieron una tarjeta y no tuvieron gastos: 1.00\n",
      "Fracción de aquellos que recibieron una tarjeta y no tuvieron gastos: 0.02\n"
     ]
    }
   ],
   "source": [
    "expenditures_cardholders = X.expenditure[y]\n",
    "expenditures_noncardholders = X.expenditure[~y]\n",
    "\n",
    "print('Fracción de aquellos que no recibieron una tarjeta y no tuvieron gastos: %.2f' \\\n",
    "      %((expenditures_noncardholders == 0).mean()))\n",
    "print('Fracción de aquellos que recibieron una tarjeta y no tuvieron gastos: %.2f' \\\n",
    "      %(( expenditures_cardholders == 0).mean()))"
   ]
  },
  {
   "cell_type": "markdown",
   "metadata": {},
   "source": [
    "Como se muestra anteriormente, todos los que no recibieron una tarjeta no tuvieron gastos, mientras que solo el 2% de los que recibieron una tarjeta no tuvieron gastos. No es sorprendente que nuestro modelo parezca tener una alta precisión. Pero esto también parece ser un caso de fuga objetivo, donde los gastos probablemente significan los *gastos en la tarjeta que solicitaron*.\n",
    "\n",
    "Dado que **`share`** está determinada en parte por **`expenditure`**, también debe excluirse. Las variables **`active`** y **`majorcards`** son un poco menos claras, pero a partir de la descripción, suenan preocupantes. En la mayoría de las situaciones, es mejor prevenir que curar si no puede localizar a las personas que crearon los datos para obtener más información.\n",
    "\n",
    "Ejecutaríamos un modelo sin fuga objetivo de la siguiente manera:"
   ]
  },
  {
   "cell_type": "code",
   "execution_count": 17,
   "metadata": {},
   "outputs": [
    {
     "name": "stdout",
     "output_type": "stream",
     "text": [
      "Precisión Cross-validation: 0.836227\n"
     ]
    }
   ],
   "source": [
    "# Eliminamos los predictores defectuosos del conjunto de datos\n",
    "potential_leaks = ['expenditure', 'share', 'active', 'majorcards']\n",
    "X2 = X.drop(potential_leaks, axis=1)\n",
    "\n",
    "# Evalua el modelo con los predictores defectuosos eliminados\n",
    "cv_scores = cross_val_score(my_pipeline, X2, y, \n",
    "                            cv=5,\n",
    "                            scoring='accuracy')\n",
    "\n",
    "print(\"Precisión Cross-validation: %f\" % cv_scores.mean())"
   ]
  },
  {
   "cell_type": "markdown",
   "metadata": {},
   "source": [
    "Esta precisión es bastante menor, lo que puede ser decepcionante. Sin embargo, podemos esperar que sea correcto aproximadamente el 80% de las veces cuando se usa en nuevas aplicaciones, mientras que el modelo con fugas probablemente sería mucho peor que eso (a pesar de su puntuación aparente más alta en validación cruzada)."
   ]
  },
  {
   "cell_type": "markdown",
   "metadata": {},
   "source": [
    "<a name=\"conclusion1\"></a>\n",
    "### Conclusión\n",
    "\n",
    "La fuga de datos puede ser un error multimillonario en muchas aplicaciones de ciencia de datos. La separación cuidadosa de los datos de entrenamiento y validación puede prevenir la contaminación entrenamiento-prueba y las pipelines pueden ayudar a implementar esta separación. Del mismo modo, una combinación de precaución, sentido común y exploración de datos puede ayudar a identificar la fuga objetivo."
   ]
  },
  {
   "cell_type": "markdown",
   "metadata": {},
   "source": [
    "<a name=\"ejercicio\"></a>\n",
    "## Ejercicio\n",
    "\n",
    "La mayoría de las personas encuentran que la fuga objetivo es muy complicada hasta que lo han pensado durante mucho tiempo. Por tanto, antes de tratar de pensar en fugas en el ejemplo del precio de la vivienda, veremos algunos ejemplos en otras aplicaciones. Las cosas se sentirán más familiares una vez que volcamos a una pregunta sobre los precios de la vivienda."
   ]
  },
  {
   "cell_type": "markdown",
   "metadata": {},
   "source": [
    "<a name=\"laciencia\"></a>\n",
    "### 1. La ciencia de datos de cordones\n",
    "\n",
    "Nike lo contrató como consultor de ciencia de datos para ayudarlos a ahorrar dinero en materiales para zapatos. Tu primera tarea es revisar un modelo construido por uno de sus empleados para predecir cuántos cordones necesitarán cada mes. Las características del modelo de aprendizaje automático incluyen:\n",
    "\n",
    "- El mes actual (enero, febrero, etc.)\n",
    "- Gastos publicitarios en el mes anterior\n",
    "- Varias características macroeconómicas (como la tasa de desempleo) a principios del mes actual\n",
    "- La cantidad de cuero que terminaron usando en el mes actual\n",
    "\n",
    "Los resultados muestran que el modelo es casi perfectamente preciso si incluye la característica sobre la cantidad de cuero que usaron. Pero solo es moderadamente preciso si deja de lado esa característica. Te das cuenta de que esto se debe a que la cantidad de cuero que usan es un indicador perfecto de cuántos zapatos producen, lo que a su vez te dice cuántos cordones de zapatos necesitan.\n",
    "\n",
    "¿Crees que la característica _leather used_ constituye una fuente de fuga de datos? Si su respuesta es \"depende\", ¿de qué depende?"
   ]
  },
  {
   "cell_type": "markdown",
   "metadata": {},
   "source": [
    "**Solución**: Esto es complicado y depende de los detalles de cómo se recopilan los datos (que es común cuando se piensa en fugas). ¿A principios de mes decidirías cuánto cuero se usará ese mes? Si es así, esto está bien. Pero si eso se determina durante el mes, no tendrá acceso a él cuando haga la predicción. Si tienes una conjetura al comienzo del mes y posteriormente se cambia durante el mes, la cantidad real utilizada durante el mes no se puede usar como una característica (porque causa una fuga)."
   ]
  },
  {
   "cell_type": "markdown",
   "metadata": {},
   "source": [
    "<a name=\"elregreso\"></a>\n",
    "### 2. El regreso de los cordones\n",
    "\n",
    "Tienes una nueva idea. Podrías usar la cantidad de cuero que Nike ordenó (en lugar de la cantidad que realmente usaron) antes de un mes dado como predictor en tu modelo de cordón.\n",
    "\n",
    "¿Cambia esto su respuesta sobre si hay un problema de fuga? Si responde \"depende\", ¿de qué depende?"
   ]
  },
  {
   "cell_type": "markdown",
   "metadata": {},
   "source": [
    "**Solución**: Esto podría estar bien, pero depende de si ordenan primero los cordones de los zapatos o el cuero primero. Si piden cordones de zapatos primero, no sabrá cuánto cuero han pedido cuando prediga sus necesidades de cordones de zapatos. Si piden cuero primero, entonces tendrá ese número disponible cuando haga su pedido de cordones de los zapatos y debería estar bien."
   ]
  },
  {
   "cell_type": "markdown",
   "metadata": {},
   "source": [
    "<a name=\"hacerserico\"></a>\n",
    "### 3. ¿Hacerse rico con las criptomonedas?\n",
    "\n",
    "Le ahorraste a Nike tanto dinero que te dieron un bono. Felicidades.\n",
    "\n",
    "Tu amigo, que también es científico de datos, dice que ha creado un modelo que te permitirá convertir su bono en millones de dólares. Específicamente, su modelo predice el precio de una nueva criptomoneda (como Bitcoin, pero una nueva) un día antes del momento de la predicción. Su plan es comprar la criptomoneda siempre que el modelo diga que el precio de la moneda (en dólares) está a punto de subir.\n",
    "\n",
    "Las características más importantes en su modelo son:\n",
    "\n",
    "- Precio actual de la moneda\n",
    "- Cantidad de la moneda vendida en las últimas 24 horas.\n",
    "- Cambio en el precio de la moneda en las últimas 24 horas.\n",
    "- Cambio en el precio de la moneda en la última 1 hora\n",
    "- Número de nuevos tweets en las últimas 24 horas que mencionan la moneda\n",
    "\n",
    "El valor de la criptomoneda en dólares ha fluctuado hacia arriba y hacia abajo en más de 100 € en el último año y, sin embargo, el error promedio de su modelo es inferior a 1 €. Él dice que esto es una prueba de que su modelo es exacto y que debe invertir con él, comprando la moneda cada vez que el modelo dice que está a punto de subir.\n",
    "\n",
    "¿Tiene razón? Si hay un problema con su modelo, ¿qué es?"
   ]
  },
  {
   "cell_type": "markdown",
   "metadata": {},
   "source": [
    "**Solución**: no hay ninguna fuente de fuga aquí. Estas funciones deberían estar disponibles en el momento en que desee realizar una predición y es poco probable que se modifiquen en los datos de entrenamiento después de determinar el objetivo de predicción. Pero la forma en que describe la precisión podría ser engañosa si no tienes cuidado. Si el precio se mueve gradualmente, el precio de hoy será un predictor preciso del precio de mañana, pero puede no decirle si es un buen momento para invertir. Por ejemplo, si es 100 hoy, predecir un precio de 100 mañana puede parecer exacto, incluso si no puede decirle si el precio está subiendo o bajando del precio actual. Un mejor objetivo de predicción sería el cambio de precio durante el día siguiente. Si puede predecir constantemente si el precio está por subir o bajar (y por cuánto), puede tener una oportunidad de inversión ganadora."
   ]
  },
  {
   "cell_type": "markdown",
   "metadata": {},
   "source": [
    "<a name=\"prevencion\"></a>\n",
    "### 4. Prevención de infecciones\n",
    "\n",
    "Una agencia que brinda atención médica quiere predecir qué pacientes de una cirugía rara están en riesgo de infección, por lo que puede alertar a las enfermeras para que sean especialmente cuidadosas al hacer un seguimiento de esos pacientes.\n",
    "\n",
    "Quieres construir un modelo. Cada fila en el conjunto de datos de modelado será un solo paciente que recibió la cirugía y el objetivo de predicción será si tuvieron una infección.\n",
    "\n",
    "Algunos cirujanos pueden realizar el procedimiento de manera que aumente o disminuya el riesgo de infección. Pero, ¿cómo puede incorporar mejor la información del cirujano en el modelo?\n",
    "\n",
    "Tienes una idea inteligente.\n",
    "\n",
    "1. Toma todas las cirugías de cada cirujano y calcula la tasa de infección entre esos cirujanos.\n",
    "2. Para cada paciente en los datos, averigüa quién era el cirujano e incluye la tasa de infección promedio de ese cirujano como característica.\n",
    "\n",
    "¿Esto plantea algún problema de fuga objetivo?\n",
    "\n",
    "¿Presenta algún problema de contaminación en las pruebas de tren?"
   ]
  },
  {
   "cell_type": "markdown",
   "metadata": {},
   "source": [
    "**Solución**: Esto plantea un riesgo de fuga objetivo y contaminación entrenamiento-prueba (aunque puede evitar ambos si tiene cuidado).\n",
    "\n",
    "Tiene una fuga objetivo si el resultado de un paciente determinado contribuye a la tasa de infección de su cirujano, que luego se incluye nuevamente al modelo de predicción para determinar si ese paciente se infecta. Puedes evitar la fuga objetivo si calculas la tasa de infección del cirujano utilizando solo las cirugías antes del paciente para el que estamos prediciendo. Calcular esto para cada cirugía en tus datos de entrenamiento puede ser un poco complicado.\n",
    "\n",
    "También tienes un problema de contaminación entrenamiento-prueba si calculas esto utilizando todas las cirugías que realizó un cirujano, incluidas las del conjunto de prueba. El resultado sería que tu modelo podría verse muy preciso en el conjunto de prueba, incluso si no se generaliza bien a los nuevos pacientes después de que se implemente el modelo. Esto sucedería porque la función de riesgo del cirujano tiene en cuenta los datos del conjunto de pruebas. Existen conjuntos de pruebas para estimar cómo funcionará el modelo al ver nuevos datos. Entonces esta contaminación anula el propósito del conjunto de prueba."
   ]
  },
  {
   "cell_type": "markdown",
   "metadata": {},
   "source": [
    "<a name=\"precios\"></a>\n",
    "### 5. Precios de la vivienda\n",
    "\n",
    "Construirás un modelo para predecir los precios de la vivienda. El modelo se implementará de manera continua para predecir el precio de una nueva casa cuando se agrega una descripción a un sitio web. Aquí hay cuatro características que podrían usarse como predictores.\n",
    "\n",
    "1. Tamaño de la casa (en metros cuadrados)\n",
    "2. Precio promedio de venta de viviendas en el mismo barrio\n",
    "3. Latitud y longitud de la casa.\n",
    "4. Si la casa tiene un sótano\n",
    "\n",
    "Tienes datos históricos para entrenar y validar el modelo.\n",
    "\n",
    "¿Cuál de las características es más probable que sea una fuente de fuga?"
   ]
  },
  {
   "cell_type": "markdown",
   "metadata": {},
   "source": [
    "**Solución**: La opción 2 es la fuente de fuga objetivo. Aquí hay un análisis para cada característica:\n",
    "\n",
    "1. Es poco probable que el tamaño de una casa cambie después de su venta (aunque técnicamente es posible). Pero, por lo general, esto estará disponible cuando necesitemos hacer una predicción y los datos no se modificarán después de que se venda la casa. Entonces es bastante seguro.\n",
    "\n",
    "2. No conocemos las reglas para cuando esto se actualiza. Si el campo se actualiza en los datos sin procesar después de que se vendió una casa y la venta de la casa se usa para calcular el promedio, esto constituye un caso de fuga objetivo. En el extremo, si solo se vende una casa en el vecindario y es la casa que estamos tratando de predecir, entonces el promedio será exactamente igual al valor que estamos tratando de predecir. En general, para vecindarios con pocas ventas, el modelo funcionará muy bien en los datos de capacitación. Pero cuando apliques el modelo, la casa que predices aún no se habrá vendido, por lo que esta función no funcionará de la misma manera que en los datos de capacitación.\n",
    "\n",
    "3. Estos no cambian y estarán disponibles en el momento en que queramos hacer una predicción. Por lo tanto, no hay riesgo de fuga objetivo aquí.\n",
    "\n",
    "4. Esto tampoco cambia y está disponible en el momento en que queremos hacer una predicción. Por lo tanto, no hay riesgo de fuga objetivo aquí."
   ]
  },
  {
   "cell_type": "markdown",
   "metadata": {},
   "source": [
    "<a name=\"conclusion2\"></a>\n",
    "### Conclusión\n",
    "\n",
    "La fuga es un problema difícil y sutil. Deberías estar orgulloso si se dio cuenta de los problemas en estos ejemplos. Ahora tienes las herramientas para hacer modelos muy precisos y retomar los problemas prácticos más difíciles que surgen al aplicar estos modelos para resolver problemas reales."
   ]
  },
  {
   "cell_type": "code",
   "execution_count": null,
   "metadata": {},
   "outputs": [],
   "source": []
  }
 ],
 "metadata": {
  "kernelspec": {
   "display_name": "Python 3",
   "language": "python",
   "name": "python3"
  },
  "language_info": {
   "codemirror_mode": {
    "name": "ipython",
    "version": 3
   },
   "file_extension": ".py",
   "mimetype": "text/x-python",
   "name": "python",
   "nbconvert_exporter": "python",
   "pygments_lexer": "ipython3",
   "version": "3.7.4"
  }
 },
 "nbformat": 4,
 "nbformat_minor": 4
}
