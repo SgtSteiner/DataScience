{
 "cells": [
  {
   "cell_type": "markdown",
   "metadata": {},
   "source": [
    "# Introducción al Aprendizaje Automático.\n",
    "\n",
    "## Validación del modelo\n",
    "\n",
    "### Qué es la validación del modelo"
   ]
  },
  {
   "cell_type": "markdown",
   "metadata": {},
   "source": [
    "En esta lección, aprenderemos a usar la validación del modelo para medir su calidad. Medir la calidad del modelo es la clave para mejorar iterativamente nuestros modelos."
   ]
  },
  {
   "cell_type": "markdown",
   "metadata": {},
   "source": [
    "Querremos evaluar casi todos los modelos que hayamos construido. En la mayoría de las aplicaciones (aunque no todas), la medida relevante de la calidad del modelo es la precisión predictiva. En otras palabras, cuán cerca están las predicciones del modelo de lo que realmente sucede.\n",
    "\n",
    "Muchas personas cometen un gran error al medir la precisión predictiva. Hacen predicciones con sus datos de *entrenamiento* y comparan esas predicciones con los valores objetivo en los datos de *entrenamiento*. Veremos el problema con este enfoque y cómo resolverlo en un momento, pero pensemos cómo lo haríamos primero.\n",
    "\n",
    "Primero debe resumir la calidad del modelo de una manera comprensible. Si compara los valores predichos y reales de 10.000 casas, probablemente encontrará una combinación de buenas y malas predicciones. Mirar a través de una lista de 10.000 valores predichos y reales no tendría sentido. Necesitamos resumir esto en una sola métrica.\n",
    "\n",
    "Hay muchas métricas para resumir la calidad del modelo, pero comenzaremos con una llamada **Error Absoluto Medio**, *Mean Absolute Error*, (también llamada MAE). Analicemos esta métrica comenzando con la primera palabra, error.\n",
    "\n",
    "El error de predicción para cada casa es:\n",
    "\n",
    "`error=actual−predicción`\n",
    "\n",
    "Entonces, si una casa cuesta 150.000 dólares y predice que costará 100.000 dólares, el error es 50.000 dólares.\n",
    "\n",
    "Con la métrica MAE, tomamos el valor absoluto de cada error. Esto convierte cada error en un número positivo. Luego tomamos el promedio de esos errores absolutos. Esta es nuestra medida de calidad del modelo. En lenguaje natural se puede decir como\n",
    "\n",
    "> De media, nuestras predicciones se desvían aproximadamente en X\n",
    "\n",
    "Para calcular el MAE, primero necesitamos un modelo."
   ]
  },
  {
   "cell_type": "code",
   "execution_count": 1,
   "metadata": {},
   "outputs": [
    {
     "data": {
      "text/plain": [
       "DecisionTreeRegressor(criterion='mse', max_depth=None, max_features=None,\n",
       "                      max_leaf_nodes=None, min_impurity_decrease=0.0,\n",
       "                      min_impurity_split=None, min_samples_leaf=1,\n",
       "                      min_samples_split=2, min_weight_fraction_leaf=0.0,\n",
       "                      presort=False, random_state=None, splitter='best')"
      ]
     },
     "execution_count": 1,
     "metadata": {},
     "output_type": "execute_result"
    }
   ],
   "source": [
    "import pandas as pd\n",
    "from sklearn.tree import DecisionTreeRegressor\n",
    "\n",
    "# Cargamos los datos\n",
    "melbourne_file_path = \"./input/melbourne-housing-snapshot/melb_data.csv\"\n",
    "melbourne_data = pd.read_csv(melbourne_file_path) \n",
    "# Eliminamos las filas con valores de precio ausentes\n",
    "filtered_melbourne_data = melbourne_data.dropna(axis=0)\n",
    "# Elegimos el objetivo y las características\n",
    "y = filtered_melbourne_data.Price\n",
    "melbourne_features = ['Rooms', 'Bathroom', 'Landsize', 'BuildingArea', \n",
    "                        'YearBuilt', 'Lattitude', 'Longtitude']\n",
    "X = filtered_melbourne_data[melbourne_features]\n",
    "\n",
    "# Definimos modelo\n",
    "melbourne_model = DecisionTreeRegressor()\n",
    "# Entrenamos modelo\n",
    "melbourne_model.fit(X, y)"
   ]
  },
  {
   "cell_type": "markdown",
   "metadata": {},
   "source": [
    "Una vez que tenemos un modelo, así es como calculamos el error absoluto medio:"
   ]
  },
  {
   "cell_type": "code",
   "execution_count": 2,
   "metadata": {},
   "outputs": [
    {
     "data": {
      "text/plain": [
       "434.71594577146544"
      ]
     },
     "execution_count": 2,
     "metadata": {},
     "output_type": "execute_result"
    }
   ],
   "source": [
    "from sklearn.metrics import mean_absolute_error\n",
    "\n",
    "predicted_home_prices = melbourne_model.predict(X)\n",
    "mean_absolute_error(y, predicted_home_prices)"
   ]
  },
  {
   "cell_type": "markdown",
   "metadata": {},
   "source": [
    "### El problema con las puntuaciones \"en muestras\""
   ]
  },
  {
   "cell_type": "markdown",
   "metadata": {},
   "source": [
    "La medida que acabamos de calcular se puede llamar una puntuación \"en muestra\". Utilizamos una sola \"muestra\" de casas para construir el modelo y evaluarlo. He aquí por qué esto es malo. \n",
    "\n",
    "Imaginemos que, en el gran mercado inmobiliario, el color de la puerta no está relacionado con el precio de la vivienda. Sin embargo, en la muestra de datos que usamos para construir el modelo, todas las casas con puertas verdes eran muy caras. El trabajo del modelo es encontrar patrones que pronostiquen los precios de las viviendas, por lo que veremos este patrón y siempre predeciremos los altos precios de las viviendas con puertas verdes.\n",
    "\n",
    "Dado que este patrón se derivó de los datos de entrenamiento, el modelo aparecerá exacto en los datos de entrenamiento. Pero si este patrón no se cumple cuando el modelo ve nuevos datos, el modelo sería muy inexacto cuando se usa en la práctica.\n",
    "\n",
    "Dado que el valor práctico de los modelos proviene de hacer predicciones sobre nuevos datos, medimos el rendimiento de los datos que no se utilizaron para construir el modelo. La forma más directa de hacer esto es excluir algunos datos del proceso de construcción del modelo y luego usarlos para probar la precisión del modelo en datos que no ha visto antes. Estos datos se denominan **datos de validación**."
   ]
  },
  {
   "cell_type": "markdown",
   "metadata": {},
   "source": [
    "### Codifiquémoslo"
   ]
  },
  {
   "cell_type": "markdown",
   "metadata": {},
   "source": [
    "La biblioteca scikit-learn tiene una función `train_test_split` para dividir los datos en dos partes. Usaremos algunos de esos datos como datos de entrenamiento para entrenar el modelo, y usaremos los otros datos como datos de validación para calcular el `mean_absolute_error`.\n",
    "\n",
    "Aquí está el código:"
   ]
  },
  {
   "cell_type": "code",
   "execution_count": 3,
   "metadata": {},
   "outputs": [
    {
     "name": "stdout",
     "output_type": "stream",
     "text": [
      "265004.8437701743\n"
     ]
    }
   ],
   "source": [
    "from sklearn.model_selection import train_test_split\n",
    "\n",
    "# Dividimos los datos en datos de entrenamiento y de validación, tanto para las características como para el objetivo\n",
    "# La división está basada en un número generado aleatoriamente. Proporcionando un valor numérico al argumento\n",
    "# random_state garantizamos que obtendremos la misma división cada vez que ejecutemos este script\n",
    "train_X, val_X, train_y, val_y = train_test_split(X, y, random_state = 0)\n",
    "# Definir modelo\n",
    "melbourne_model = DecisionTreeRegressor()\n",
    "# Entrenar model\n",
    "melbourne_model.fit(train_X, train_y)\n",
    "\n",
    "# obtenemos la predicción de precios sobre los datos de validación\n",
    "val_predictions = melbourne_model.predict(val_X)\n",
    "print(mean_absolute_error(val_y, val_predictions))"
   ]
  },
  {
   "cell_type": "markdown",
   "metadata": {},
   "source": [
    "\n",
    "¡Ups! Nuestro error absoluto medio para los datos \"en muestra\" fue de aproximadamente 500 dólares. Fuera de la muestra es más de 250.000 dólares.\n",
    "\n",
    "Esta es la diferencia entre un modelo que es casi exactamente correcto y uno que no se puede usar para la mayoría de los propósitos prácticos. Como punto de referencia, el valor promedio de una vivienda en los datos de validación es de 1,1 millones de dólares. Entonces, el error en los nuevos datos es aproximadamente una cuarta parte del valor promedio de una vivienda.\n",
    "\n",
    "Hay muchas formas de mejorar este modelo, como experimentar para encontrar mejores características o diferentes tipos de modelos."
   ]
  },
  {
   "cell_type": "markdown",
   "metadata": {},
   "source": [
    "## Ejercicio"
   ]
  },
  {
   "cell_type": "markdown",
   "metadata": {},
   "source": [
    "## Resumen\n",
    "\n",
    "Hemos construido un modelo. En este ejercicio probaremos cuán bueno es."
   ]
  },
  {
   "cell_type": "code",
   "execution_count": 4,
   "metadata": {},
   "outputs": [
    {
     "name": "stdout",
     "output_type": "stream",
     "text": [
      "Primeras prediciones \"en muestra\": [208500. 181500. 223500. 140000. 250000.]\n",
      "Valores actuales del objetivos para esas casas: [208500, 181500, 223500, 140000, 250000]\n"
     ]
    }
   ],
   "source": [
    "import pandas as pd\n",
    "from sklearn.tree import DecisionTreeRegressor\n",
    "\n",
    "# Path del archivo a leer\n",
    "iowa_file_path = \"./input/melbourne-housing-snapshot/train.csv\"\n",
    "\n",
    "home_data = pd.read_csv(iowa_file_path)\n",
    "y = home_data.SalePrice\n",
    "feature_columns = ['LotArea', 'YearBuilt', '1stFlrSF', '2ndFlrSF', 'FullBath', 'BedroomAbvGr', 'TotRmsAbvGrd']\n",
    "X = home_data[feature_columns]\n",
    "\n",
    "# Especifica Modelo\n",
    "iowa_model = DecisionTreeRegressor()\n",
    "# Entrena Modelo\n",
    "iowa_model.fit(X, y)\n",
    "\n",
    "print('Primeras prediciones \"en muestra\":', iowa_model.predict(X.head()))\n",
    "print(\"Valores actuales del objetivos para esas casas:\", y.head().tolist())"
   ]
  },
  {
   "cell_type": "markdown",
   "metadata": {},
   "source": [
    "### Paso 1: Divide tus datos"
   ]
  },
  {
   "cell_type": "markdown",
   "metadata": {},
   "source": [
    "Usa la función `train_test_split` para dividir sus datos.\n",
    "\n",
    "Recuerda, tus características se cargan en el DataFrame **X** y su objetivo se carga en **y**."
   ]
  },
  {
   "cell_type": "code",
   "execution_count": 5,
   "metadata": {},
   "outputs": [],
   "source": [
    "from sklearn.model_selection import train_test_split\n",
    "\n",
    "train_X, val_X, train_y, val_y = train_test_split(X, y, random_state = 1)"
   ]
  },
  {
   "cell_type": "markdown",
   "metadata": {},
   "source": [
    "### Paso 2: Especifica y entrena un modelo"
   ]
  },
  {
   "cell_type": "markdown",
   "metadata": {},
   "source": [
    "Crea un modelo `DecisionTreeRegressor` y entrénalo."
   ]
  },
  {
   "cell_type": "code",
   "execution_count": 6,
   "metadata": {},
   "outputs": [
    {
     "data": {
      "text/plain": [
       "DecisionTreeRegressor(criterion='mse', max_depth=None, max_features=None,\n",
       "                      max_leaf_nodes=None, min_impurity_decrease=0.0,\n",
       "                      min_impurity_split=None, min_samples_leaf=1,\n",
       "                      min_samples_split=2, min_weight_fraction_leaf=0.0,\n",
       "                      presort=False, random_state=1, splitter='best')"
      ]
     },
     "execution_count": 6,
     "metadata": {},
     "output_type": "execute_result"
    }
   ],
   "source": [
    "# Especifica Modelo\n",
    "iowa_model = DecisionTreeRegressor(random_state=1)\n",
    "# Entrena Modelo\n",
    "iowa_model.fit(train_X, train_y)"
   ]
  },
  {
   "cell_type": "markdown",
   "metadata": {},
   "source": [
    "### Paso 3: Haz predicciones con los datos de validación"
   ]
  },
  {
   "cell_type": "code",
   "execution_count": 7,
   "metadata": {},
   "outputs": [],
   "source": [
    "val_predictions = iowa_model.predict(val_X)"
   ]
  },
  {
   "cell_type": "markdown",
   "metadata": {},
   "source": [
    "Inspecciona tus predicciones y valores reales con los datos de validación."
   ]
  },
  {
   "cell_type": "code",
   "execution_count": 8,
   "metadata": {},
   "outputs": [
    {
     "name": "stdout",
     "output_type": "stream",
     "text": [
      "Primeras prediciones sobre datos de validación: [186500. 184000. 130000.  92000. 164500.]\n",
      "Valores actuales del objetivos para esas casas: [231500, 179500, 122000, 84500, 142000]\n"
     ]
    }
   ],
   "source": [
    "# print the top few validation predictions\n",
    "print('Primeras prediciones sobre datos de validación:', iowa_model.predict(val_X.head()))\n",
    "# print the top few actual prices from validation data\n",
    "print(\"Valores actuales del objetivos para esas casas:\", val_y.head().tolist())"
   ]
  },
  {
   "cell_type": "markdown",
   "metadata": {},
   "source": [
    "## Paso 4: Calcular el error absoluto medio en los datos de validación"
   ]
  },
  {
   "cell_type": "code",
   "execution_count": 9,
   "metadata": {},
   "outputs": [
    {
     "data": {
      "text/plain": [
       "29652.931506849316"
      ]
     },
     "execution_count": 9,
     "metadata": {},
     "output_type": "execute_result"
    }
   ],
   "source": [
    "from sklearn.metrics import mean_absolute_error\n",
    "val_mae = mean_absolute_error(val_y, val_predictions)\n",
    "\n",
    "val_mae"
   ]
  },
  {
   "cell_type": "markdown",
   "metadata": {},
   "source": [
    "¿Es bueno ese MAE? No existe una regla general sobre qué valores son buenos que se aplique a todas las aplicaciones. Pero veremos cómo usar (y mejorar) este número más adelante."
   ]
  }
 ],
 "metadata": {
  "kernelspec": {
   "display_name": "Python 3",
   "language": "python",
   "name": "python3"
  },
  "language_info": {
   "codemirror_mode": {
    "name": "ipython",
    "version": 3
   },
   "file_extension": ".py",
   "mimetype": "text/x-python",
   "name": "python",
   "nbconvert_exporter": "python",
   "pygments_lexer": "ipython3",
   "version": "3.7.4"
  }
 },
 "nbformat": 4,
 "nbformat_minor": 4
}
